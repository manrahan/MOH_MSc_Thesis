{
 "cells": [
  {
   "cell_type": "code",
   "execution_count": 1,
   "id": "1f7ecb8b-78fa-4c3b-b5c9-0812c31dfc79",
   "metadata": {},
   "outputs": [
    {
     "name": "stdout",
     "output_type": "stream",
     "text": [
      "IMPORTANT! Please be advised:\n",
      "- This version of the Adapted_LT.js modules\n",
      "  uses some code adapted from the aut/or: @author Justin Braaten (Google) * @author Zhiqiang Yang (USDA Forest Service) * @author Robert Kennedy (Oregon State University)\n",
      "The latest edits to this code occur: 08/03/2023 for the adaptation efforts by @Mike OHanrahan (TU DELFT MSc research)\n"
     ]
    },
    {
     "data": {
      "text/plain": [
       "{'version': 'string',\n",
       " 'buildSensorYearCollection': 'function',\n",
       " 'getSRcollection': 'function',\n",
       " 'getCombinedSRcollection': 'function',\n",
       " 'buildSRcollection': 'function',\n",
       " 'getCollectionIDlist': 'function',\n",
       " 'countClearViewPixels': 'function',\n",
       " 'buildClearPixelCountCollection': 'function',\n",
       " 'removeImages': 'function',\n",
       " 'LAIcol': 'function',\n",
       " 'calcIndex': 'function',\n",
       " 'standardize': 'function',\n",
       " 'transformSRcollection': 'function',\n",
       " 'createTrainingImage': 'function',\n",
       " 'addTerrainBand': 'function',\n",
       " 'genGCP': 'function',\n",
       " 'classifier': 'function',\n",
       " 'classArea': 'function',\n",
       " 'imcolFromAsset': 'function',\n",
       " 'unionCollections': 'function'}"
      ]
     },
     "execution_count": 1,
     "metadata": {},
     "output_type": "execute_result"
    }
   ],
   "source": [
    "import ee\n",
    "import pandas as pd\n",
    "import geemap\n",
    "from datetime import datetime as dt\n",
    "import datetime\n",
    "import timeit\n",
    "import oeel\n",
    "\n",
    "ee.Initialize()\n",
    "\n",
    "oeel = geemap.requireJS()\n",
    "\n",
    "Map = geemap.Map()\n",
    "\n",
    "ltgee = geemap.requireJS(r'../JS_module/Adapted_LT_v7.3.js')\n",
    "\n",
    "ltgee.availability  #all functions within the javascript module"
   ]
  },
  {
   "cell_type": "code",
   "execution_count": 2,
   "id": "57ba9ba2-11ef-403c-876b-d467844855c7",
   "metadata": {},
   "outputs": [],
   "source": [
    "startYear = 1984\n",
    "\n",
    "endYear = 2023\n",
    "\n",
    "startDay = '06-01'\n",
    "\n",
    "endDay  = '08-31'\n",
    "\n",
    "# Define the geometry for which to calculate areas\n",
    "aoi = ee.Geometry.Polygon(\n",
    "    [[[-120.5, 38.4],\n",
    "      [-120.5, 37.9],\n",
    "      [-119.9, 37.9],\n",
    "      [-119.9, 38.4]]])\n",
    "\n",
    "bandList = ['NBR','NDMI', 'NDVI', 'NDSI', 'EVI','GNDVI', 'TCB', 'TCG', 'TCW', 'TCA', 'NDFI',]\n",
    "critical = [  0.1,  0.2,     0.2,   0.4,   0.2,    0.2,   0.15,   0.1,  0.15,   0.2,    -0.2]\n",
    "critical_adj = [i * 1000 for i in critical]\n",
    "\n",
    "if len(bandList) == len(critical):\n",
    "    d = {s:f for s,f in zip(bandList, critical_adj)}\n",
    "else:\n",
    "    raise ValueError(\"The issue is that the bandList is not matching the length of the critical values list\")\n",
    "\n",
    "# List of images to be masked from Landsat collection\n",
    "maskThese = ['cloud', 'shadow', 'snow',]\n",
    "\n",
    "annual_med = ltgee.buildSRcollection(startYear, endYear, startDay, endDay, aoi, maskThese, [''])#.map(clip_collection) #much slower when clipped\n",
    "    \n",
    "annual_med_calc = ltgee.transformSRcollection(annual_med, bandList)\n",
    "\n"
   ]
  },
  {
   "cell_type": "code",
   "execution_count": 26,
   "id": "e8228243-1767-4e64-b23b-c62d3f49901f",
   "metadata": {},
   "outputs": [
    {
     "ename": "OSError",
     "evalue": "Cannot save file into a non-existent directory: '..Outputs'",
     "output_type": "error",
     "traceback": [
      "\u001b[1;31m---------------------------------------------------------------------------\u001b[0m",
      "\u001b[1;31mOSError\u001b[0m                                   Traceback (most recent call last)",
      "Cell \u001b[1;32mIn [26], line 119\u001b[0m\n\u001b[0;32m    110\u001b[0m         areas\u001b[38;5;241m.\u001b[39mappend({\n\u001b[0;32m    111\u001b[0m             \u001b[38;5;124m\"\u001b[39m\u001b[38;5;124mgeometry\u001b[39m\u001b[38;5;124m\"\u001b[39m: name,\n\u001b[0;32m    112\u001b[0m             \u001b[38;5;124m\"\u001b[39m\u001b[38;5;124mimage_date\u001b[39m\u001b[38;5;124m\"\u001b[39m: img_date,\n\u001b[0;32m    113\u001b[0m             \u001b[38;5;241m*\u001b[39m\u001b[38;5;241m*\u001b[39marea_dict,\n\u001b[0;32m    114\u001b[0m             \u001b[38;5;241m*\u001b[39m\u001b[38;5;241m*\u001b[39msummary_stats\n\u001b[0;32m    115\u001b[0m         })\n\u001b[0;32m    116\u001b[0m     \u001b[38;5;28;01mreturn\u001b[39;00m pd\u001b[38;5;241m.\u001b[39mDataFrame(areas)\n\u001b[1;32m--> 119\u001b[0m \u001b[43mdf_band_areas\u001b[49m\u001b[43m(\u001b[49m\u001b[43mannual_med_calc\u001b[49m\u001b[38;5;241;43m.\u001b[39;49m\u001b[43mfilterMetadata\u001b[49m\u001b[43m(\u001b[49m\u001b[38;5;124;43m'\u001b[39;49m\u001b[38;5;124;43msystem:index\u001b[39;49m\u001b[38;5;124;43m'\u001b[39;49m\u001b[43m,\u001b[49m\u001b[43m \u001b[49m\u001b[38;5;124;43m'\u001b[39;49m\u001b[38;5;124;43mequals\u001b[39;49m\u001b[38;5;124;43m'\u001b[39;49m\u001b[43m,\u001b[49m\u001b[43m \u001b[49m\u001b[38;5;124;43m'\u001b[39;49m\u001b[38;5;124;43m0\u001b[39;49m\u001b[38;5;124;43m'\u001b[39;49m\u001b[43m)\u001b[49m\u001b[43m,\u001b[49m\u001b[43m \u001b[49m\u001b[38;5;241;43m30\u001b[39;49m\u001b[43m,\u001b[49m\u001b[43m \u001b[49m\u001b[43md\u001b[49m\u001b[43m,\u001b[49m\u001b[43m \u001b[49m\u001b[38;5;124;43m'\u001b[39;49m\u001b[38;5;124;43mThe area formerly known as princetown\u001b[39;49m\u001b[38;5;124;43m'\u001b[39;49m\u001b[43m)\u001b[49m\n",
      "Cell \u001b[1;32mIn [26], line 105\u001b[0m, in \u001b[0;36mdf_band_areas\u001b[1;34m(imcol, scale, bands_crit_vals, name)\u001b[0m\n\u001b[0;32m    103\u001b[0m img \u001b[38;5;241m=\u001b[39m ee\u001b[38;5;241m.\u001b[39mImage(img\u001b[38;5;241m.\u001b[39mfirst())\n\u001b[0;32m    104\u001b[0m img_date \u001b[38;5;241m=\u001b[39m msToDate(img\u001b[38;5;241m.\u001b[39mget(\u001b[38;5;124m\"\u001b[39m\u001b[38;5;124msystem:time_start\u001b[39m\u001b[38;5;124m\"\u001b[39m)\u001b[38;5;241m.\u001b[39mgetInfo())\n\u001b[1;32m--> 105\u001b[0m area \u001b[38;5;241m=\u001b[39m \u001b[43marea_above_critical_values\u001b[49m\u001b[43m(\u001b[49m\u001b[43mimg\u001b[49m\u001b[43m,\u001b[49m\u001b[43m \u001b[49m\u001b[43mbands_crit_vals\u001b[49m\u001b[43m,\u001b[49m\u001b[43m \u001b[49m\u001b[43mscale\u001b[49m\u001b[43m,\u001b[49m\u001b[43m \u001b[49m\u001b[43mname\u001b[49m\u001b[43m)\u001b[49m\n\u001b[0;32m    106\u001b[0m summary_stats \u001b[38;5;241m=\u001b[39m summarize_image(img, aoi, img_date, name, scale)\n\u001b[0;32m    107\u001b[0m area_dict \u001b[38;5;241m=\u001b[39m {\n\u001b[0;32m    108\u001b[0m     \u001b[38;5;124mf\u001b[39m\u001b[38;5;124m\"\u001b[39m\u001b[38;5;124marea_above_\u001b[39m\u001b[38;5;132;01m{\u001b[39;00mcrit_val\u001b[38;5;132;01m}\u001b[39;00m\u001b[38;5;124m_\u001b[39m\u001b[38;5;132;01m{\u001b[39;00mband\u001b[38;5;132;01m}\u001b[39;00m\u001b[38;5;124m\"\u001b[39m: area[i] \u001b[38;5;28;01mfor\u001b[39;00m i, (band, crit_val) \u001b[38;5;129;01min\u001b[39;00m \u001b[38;5;28menumerate\u001b[39m(bands_crit_vals\u001b[38;5;241m.\u001b[39mitems())\n\u001b[0;32m    109\u001b[0m }\n",
      "Cell \u001b[1;32mIn [26], line 30\u001b[0m, in \u001b[0;36marea_above_critical_values\u001b[1;34m(image, band_crit_vals, scale, name)\u001b[0m\n\u001b[0;32m     28\u001b[0m \u001b[38;5;66;03m# try:\u001b[39;00m\n\u001b[0;32m     29\u001b[0m df_dictionary \u001b[38;5;241m=\u001b[39m {\u001b[38;5;124m'\u001b[39m\u001b[38;5;124mimage_date\u001b[39m\u001b[38;5;124m'\u001b[39m:img_date, \u001b[38;5;124m'\u001b[39m\u001b[38;5;124mname\u001b[39m\u001b[38;5;124m'\u001b[39m:name,\u001b[38;5;124m'\u001b[39m\u001b[38;5;124mscale_m\u001b[39m\u001b[38;5;124m'\u001b[39m:scale, \u001b[38;5;241m*\u001b[39m\u001b[38;5;241m*\u001b[39mtotal_areas_dict}\n\u001b[1;32m---> 30\u001b[0m \u001b[43mpd\u001b[49m\u001b[38;5;241;43m.\u001b[39;49m\u001b[43mDataFrame\u001b[49m\u001b[43m(\u001b[49m\u001b[43mdf_dictionary\u001b[49m\u001b[43m,\u001b[49m\u001b[43m \u001b[49m\u001b[43mindex\u001b[49m\u001b[38;5;241;43m=\u001b[39;49m\u001b[43m[\u001b[49m\u001b[38;5;241;43m0\u001b[39;49m\u001b[43m]\u001b[49m\u001b[43m)\u001b[49m\u001b[38;5;241;43m.\u001b[39;49m\u001b[43mto_excel\u001b[49m\u001b[43m(\u001b[49m\u001b[38;5;124;43mf\u001b[39;49m\u001b[38;5;124;43m'\u001b[39;49m\u001b[38;5;124;43m..Outputs/\u001b[39;49m\u001b[38;5;132;43;01m{\u001b[39;49;00m\u001b[43mname\u001b[49m\u001b[38;5;132;43;01m}\u001b[39;49;00m\u001b[38;5;124;43m_band_areas_\u001b[39;49m\u001b[38;5;132;43;01m{\u001b[39;49;00m\u001b[43mimg_date\u001b[49m\u001b[38;5;241;43m.\u001b[39;49m\u001b[43myear\u001b[49m\u001b[38;5;132;43;01m}\u001b[39;49;00m\u001b[38;5;124;43m.xlsx\u001b[39;49m\u001b[38;5;124;43m'\u001b[39;49m\u001b[43m)\u001b[49m\n\u001b[0;32m     31\u001b[0m \u001b[38;5;28;01mreturn\u001b[39;00m total_areas_dict\n",
      "File \u001b[1;32m~\\anaconda3\\envs\\BPD4a\\lib\\site-packages\\pandas\\core\\generic.py:2345\u001b[0m, in \u001b[0;36mNDFrame.to_excel\u001b[1;34m(self, excel_writer, sheet_name, na_rep, float_format, columns, header, index, index_label, startrow, startcol, engine, merge_cells, encoding, inf_rep, verbose, freeze_panes, storage_options)\u001b[0m\n\u001b[0;32m   2332\u001b[0m \u001b[38;5;28;01mfrom\u001b[39;00m \u001b[38;5;21;01mpandas\u001b[39;00m\u001b[38;5;21;01m.\u001b[39;00m\u001b[38;5;21;01mio\u001b[39;00m\u001b[38;5;21;01m.\u001b[39;00m\u001b[38;5;21;01mformats\u001b[39;00m\u001b[38;5;21;01m.\u001b[39;00m\u001b[38;5;21;01mexcel\u001b[39;00m \u001b[38;5;28;01mimport\u001b[39;00m ExcelFormatter\n\u001b[0;32m   2334\u001b[0m formatter \u001b[38;5;241m=\u001b[39m ExcelFormatter(\n\u001b[0;32m   2335\u001b[0m     df,\n\u001b[0;32m   2336\u001b[0m     na_rep\u001b[38;5;241m=\u001b[39mna_rep,\n\u001b[1;32m   (...)\u001b[0m\n\u001b[0;32m   2343\u001b[0m     inf_rep\u001b[38;5;241m=\u001b[39minf_rep,\n\u001b[0;32m   2344\u001b[0m )\n\u001b[1;32m-> 2345\u001b[0m \u001b[43mformatter\u001b[49m\u001b[38;5;241;43m.\u001b[39;49m\u001b[43mwrite\u001b[49m\u001b[43m(\u001b[49m\n\u001b[0;32m   2346\u001b[0m \u001b[43m    \u001b[49m\u001b[43mexcel_writer\u001b[49m\u001b[43m,\u001b[49m\n\u001b[0;32m   2347\u001b[0m \u001b[43m    \u001b[49m\u001b[43msheet_name\u001b[49m\u001b[38;5;241;43m=\u001b[39;49m\u001b[43msheet_name\u001b[49m\u001b[43m,\u001b[49m\n\u001b[0;32m   2348\u001b[0m \u001b[43m    \u001b[49m\u001b[43mstartrow\u001b[49m\u001b[38;5;241;43m=\u001b[39;49m\u001b[43mstartrow\u001b[49m\u001b[43m,\u001b[49m\n\u001b[0;32m   2349\u001b[0m \u001b[43m    \u001b[49m\u001b[43mstartcol\u001b[49m\u001b[38;5;241;43m=\u001b[39;49m\u001b[43mstartcol\u001b[49m\u001b[43m,\u001b[49m\n\u001b[0;32m   2350\u001b[0m \u001b[43m    \u001b[49m\u001b[43mfreeze_panes\u001b[49m\u001b[38;5;241;43m=\u001b[39;49m\u001b[43mfreeze_panes\u001b[49m\u001b[43m,\u001b[49m\n\u001b[0;32m   2351\u001b[0m \u001b[43m    \u001b[49m\u001b[43mengine\u001b[49m\u001b[38;5;241;43m=\u001b[39;49m\u001b[43mengine\u001b[49m\u001b[43m,\u001b[49m\n\u001b[0;32m   2352\u001b[0m \u001b[43m    \u001b[49m\u001b[43mstorage_options\u001b[49m\u001b[38;5;241;43m=\u001b[39;49m\u001b[43mstorage_options\u001b[49m\u001b[43m,\u001b[49m\n\u001b[0;32m   2353\u001b[0m \u001b[43m\u001b[49m\u001b[43m)\u001b[49m\n",
      "File \u001b[1;32m~\\anaconda3\\envs\\BPD4a\\lib\\site-packages\\pandas\\io\\formats\\excel.py:888\u001b[0m, in \u001b[0;36mExcelFormatter.write\u001b[1;34m(self, writer, sheet_name, startrow, startcol, freeze_panes, engine, storage_options)\u001b[0m\n\u001b[0;32m    884\u001b[0m     need_save \u001b[38;5;241m=\u001b[39m \u001b[38;5;28;01mFalse\u001b[39;00m\n\u001b[0;32m    885\u001b[0m \u001b[38;5;28;01melse\u001b[39;00m:\n\u001b[0;32m    886\u001b[0m     \u001b[38;5;66;03m# error: Cannot instantiate abstract class 'ExcelWriter' with abstract\u001b[39;00m\n\u001b[0;32m    887\u001b[0m     \u001b[38;5;66;03m# attributes 'engine', 'save', 'supported_extensions' and 'write_cells'\u001b[39;00m\n\u001b[1;32m--> 888\u001b[0m     writer \u001b[38;5;241m=\u001b[39m \u001b[43mExcelWriter\u001b[49m\u001b[43m(\u001b[49m\u001b[43m  \u001b[49m\u001b[38;5;66;43;03m# type: ignore[abstract]\u001b[39;49;00m\n\u001b[0;32m    889\u001b[0m \u001b[43m        \u001b[49m\u001b[43mwriter\u001b[49m\u001b[43m,\u001b[49m\u001b[43m \u001b[49m\u001b[43mengine\u001b[49m\u001b[38;5;241;43m=\u001b[39;49m\u001b[43mengine\u001b[49m\u001b[43m,\u001b[49m\u001b[43m \u001b[49m\u001b[43mstorage_options\u001b[49m\u001b[38;5;241;43m=\u001b[39;49m\u001b[43mstorage_options\u001b[49m\n\u001b[0;32m    890\u001b[0m \u001b[43m    \u001b[49m\u001b[43m)\u001b[49m\n\u001b[0;32m    891\u001b[0m     need_save \u001b[38;5;241m=\u001b[39m \u001b[38;5;28;01mTrue\u001b[39;00m\n\u001b[0;32m    893\u001b[0m \u001b[38;5;28;01mtry\u001b[39;00m:\n",
      "File \u001b[1;32m~\\anaconda3\\envs\\BPD4a\\lib\\site-packages\\pandas\\io\\excel\\_openpyxl.py:53\u001b[0m, in \u001b[0;36mOpenpyxlWriter.__init__\u001b[1;34m(self, path, engine, date_format, datetime_format, mode, storage_options, if_sheet_exists, engine_kwargs, **kwargs)\u001b[0m\n\u001b[0;32m     49\u001b[0m \u001b[38;5;28;01mfrom\u001b[39;00m \u001b[38;5;21;01mopenpyxl\u001b[39;00m\u001b[38;5;21;01m.\u001b[39;00m\u001b[38;5;21;01mworkbook\u001b[39;00m \u001b[38;5;28;01mimport\u001b[39;00m Workbook\n\u001b[0;32m     51\u001b[0m engine_kwargs \u001b[38;5;241m=\u001b[39m combine_kwargs(engine_kwargs, kwargs)\n\u001b[1;32m---> 53\u001b[0m \u001b[38;5;28;43msuper\u001b[39;49m\u001b[43m(\u001b[49m\u001b[43m)\u001b[49m\u001b[38;5;241;43m.\u001b[39;49m\u001b[38;5;21;43m__init__\u001b[39;49m\u001b[43m(\u001b[49m\n\u001b[0;32m     54\u001b[0m \u001b[43m    \u001b[49m\u001b[43mpath\u001b[49m\u001b[43m,\u001b[49m\n\u001b[0;32m     55\u001b[0m \u001b[43m    \u001b[49m\u001b[43mmode\u001b[49m\u001b[38;5;241;43m=\u001b[39;49m\u001b[43mmode\u001b[49m\u001b[43m,\u001b[49m\n\u001b[0;32m     56\u001b[0m \u001b[43m    \u001b[49m\u001b[43mstorage_options\u001b[49m\u001b[38;5;241;43m=\u001b[39;49m\u001b[43mstorage_options\u001b[49m\u001b[43m,\u001b[49m\n\u001b[0;32m     57\u001b[0m \u001b[43m    \u001b[49m\u001b[43mif_sheet_exists\u001b[49m\u001b[38;5;241;43m=\u001b[39;49m\u001b[43mif_sheet_exists\u001b[49m\u001b[43m,\u001b[49m\n\u001b[0;32m     58\u001b[0m \u001b[43m    \u001b[49m\u001b[43mengine_kwargs\u001b[49m\u001b[38;5;241;43m=\u001b[39;49m\u001b[43mengine_kwargs\u001b[49m\u001b[43m,\u001b[49m\n\u001b[0;32m     59\u001b[0m \u001b[43m\u001b[49m\u001b[43m)\u001b[49m\n\u001b[0;32m     61\u001b[0m \u001b[38;5;66;03m# ExcelWriter replaced \"a\" by \"r+\" to allow us to first read the excel file from\u001b[39;00m\n\u001b[0;32m     62\u001b[0m \u001b[38;5;66;03m# the file and later write to it\u001b[39;00m\n\u001b[0;32m     63\u001b[0m \u001b[38;5;28;01mif\u001b[39;00m \u001b[38;5;124m\"\u001b[39m\u001b[38;5;124mr+\u001b[39m\u001b[38;5;124m\"\u001b[39m \u001b[38;5;129;01min\u001b[39;00m \u001b[38;5;28mself\u001b[39m\u001b[38;5;241m.\u001b[39mmode:  \u001b[38;5;66;03m# Load from existing workbook\u001b[39;00m\n",
      "File \u001b[1;32m~\\anaconda3\\envs\\BPD4a\\lib\\site-packages\\pandas\\io\\excel\\_base.py:1106\u001b[0m, in \u001b[0;36mExcelWriter.__init__\u001b[1;34m(self, path, engine, date_format, datetime_format, mode, storage_options, if_sheet_exists, engine_kwargs, **kwargs)\u001b[0m\n\u001b[0;32m   1102\u001b[0m \u001b[38;5;28mself\u001b[39m\u001b[38;5;241m.\u001b[39mhandles \u001b[38;5;241m=\u001b[39m IOHandles(\n\u001b[0;32m   1103\u001b[0m     cast(IO[\u001b[38;5;28mbytes\u001b[39m], path), compression\u001b[38;5;241m=\u001b[39m{\u001b[38;5;124m\"\u001b[39m\u001b[38;5;124mcompression\u001b[39m\u001b[38;5;124m\"\u001b[39m: \u001b[38;5;28;01mNone\u001b[39;00m}\n\u001b[0;32m   1104\u001b[0m )\n\u001b[0;32m   1105\u001b[0m \u001b[38;5;28;01mif\u001b[39;00m \u001b[38;5;129;01mnot\u001b[39;00m \u001b[38;5;28misinstance\u001b[39m(path, ExcelWriter):\n\u001b[1;32m-> 1106\u001b[0m     \u001b[38;5;28mself\u001b[39m\u001b[38;5;241m.\u001b[39mhandles \u001b[38;5;241m=\u001b[39m \u001b[43mget_handle\u001b[49m\u001b[43m(\u001b[49m\n\u001b[0;32m   1107\u001b[0m \u001b[43m        \u001b[49m\u001b[43mpath\u001b[49m\u001b[43m,\u001b[49m\u001b[43m \u001b[49m\u001b[43mmode\u001b[49m\u001b[43m,\u001b[49m\u001b[43m \u001b[49m\u001b[43mstorage_options\u001b[49m\u001b[38;5;241;43m=\u001b[39;49m\u001b[43mstorage_options\u001b[49m\u001b[43m,\u001b[49m\u001b[43m \u001b[49m\u001b[43mis_text\u001b[49m\u001b[38;5;241;43m=\u001b[39;49m\u001b[38;5;28;43;01mFalse\u001b[39;49;00m\n\u001b[0;32m   1108\u001b[0m \u001b[43m    \u001b[49m\u001b[43m)\u001b[49m\n\u001b[0;32m   1109\u001b[0m \u001b[38;5;28mself\u001b[39m\u001b[38;5;241m.\u001b[39msheets: \u001b[38;5;28mdict\u001b[39m[\u001b[38;5;28mstr\u001b[39m, Any] \u001b[38;5;241m=\u001b[39m {}\n\u001b[0;32m   1110\u001b[0m \u001b[38;5;28mself\u001b[39m\u001b[38;5;241m.\u001b[39mcur_sheet \u001b[38;5;241m=\u001b[39m \u001b[38;5;28;01mNone\u001b[39;00m\n",
      "File \u001b[1;32m~\\anaconda3\\envs\\BPD4a\\lib\\site-packages\\pandas\\io\\common.py:694\u001b[0m, in \u001b[0;36mget_handle\u001b[1;34m(path_or_buf, mode, encoding, compression, memory_map, is_text, errors, storage_options)\u001b[0m\n\u001b[0;32m    692\u001b[0m \u001b[38;5;66;03m# Only for write methods\u001b[39;00m\n\u001b[0;32m    693\u001b[0m \u001b[38;5;28;01mif\u001b[39;00m \u001b[38;5;124m\"\u001b[39m\u001b[38;5;124mr\u001b[39m\u001b[38;5;124m\"\u001b[39m \u001b[38;5;129;01mnot\u001b[39;00m \u001b[38;5;129;01min\u001b[39;00m mode \u001b[38;5;129;01mand\u001b[39;00m is_path:\n\u001b[1;32m--> 694\u001b[0m     \u001b[43mcheck_parent_directory\u001b[49m\u001b[43m(\u001b[49m\u001b[38;5;28;43mstr\u001b[39;49m\u001b[43m(\u001b[49m\u001b[43mhandle\u001b[49m\u001b[43m)\u001b[49m\u001b[43m)\u001b[49m\n\u001b[0;32m    696\u001b[0m \u001b[38;5;28;01mif\u001b[39;00m compression:\n\u001b[0;32m    697\u001b[0m     \u001b[38;5;28;01mif\u001b[39;00m compression \u001b[38;5;241m!=\u001b[39m \u001b[38;5;124m\"\u001b[39m\u001b[38;5;124mzstd\u001b[39m\u001b[38;5;124m\"\u001b[39m:\n\u001b[0;32m    698\u001b[0m         \u001b[38;5;66;03m# compression libraries do not like an explicit text-mode\u001b[39;00m\n",
      "File \u001b[1;32m~\\anaconda3\\envs\\BPD4a\\lib\\site-packages\\pandas\\io\\common.py:568\u001b[0m, in \u001b[0;36mcheck_parent_directory\u001b[1;34m(path)\u001b[0m\n\u001b[0;32m    566\u001b[0m parent \u001b[38;5;241m=\u001b[39m Path(path)\u001b[38;5;241m.\u001b[39mparent\n\u001b[0;32m    567\u001b[0m \u001b[38;5;28;01mif\u001b[39;00m \u001b[38;5;129;01mnot\u001b[39;00m parent\u001b[38;5;241m.\u001b[39mis_dir():\n\u001b[1;32m--> 568\u001b[0m     \u001b[38;5;28;01mraise\u001b[39;00m \u001b[38;5;167;01mOSError\u001b[39;00m(\u001b[38;5;124mrf\u001b[39m\u001b[38;5;124m\"\u001b[39m\u001b[38;5;124mCannot save file into a non-existent directory: \u001b[39m\u001b[38;5;124m'\u001b[39m\u001b[38;5;132;01m{\u001b[39;00mparent\u001b[38;5;132;01m}\u001b[39;00m\u001b[38;5;124m'\u001b[39m\u001b[38;5;124m\"\u001b[39m)\n",
      "\u001b[1;31mOSError\u001b[0m: Cannot save file into a non-existent directory: '..Outputs'"
     ]
    }
   ],
   "source": [
    "def area_above_critical_values(image: ee.Image, band_crit_vals: dict, scale: int, name:str) -> ee.Number:\n",
    "    \"\"\"\n",
    "    Calculates the area within an image that is above the critical values for each band in band_crit_vals.\n",
    "    image: ee.Image - The image to calculate the area for\n",
    "    band_crit_vals: dict - A dictionary with each band as a key and its corresponding critical value as the value\n",
    "    Returns: ee.Number - The area within the image that is above the critical values\n",
    "    \"\"\"\n",
    "    area_img = ee.Image.pixelArea()\n",
    "\n",
    "    total_areas = ee.Dictionary()\n",
    "\n",
    "    for band, crit_val in d.items():\n",
    "        mask = image.select(band).gt(crit_val)\n",
    "\n",
    "        masked_area_img = area_img.mask(mask)\n",
    "\n",
    "        total_area = masked_area_img.reduceRegion(\n",
    "            reducer=ee.Reducer.sum(),\n",
    "            geometry=aoi,\n",
    "            scale=scale,\n",
    "            maxPixels=1e13,\n",
    "            bestEffort=True).get(\"area\")\n",
    "\n",
    "        total_areas = total_areas.set(band, ee.Number(total_area).divide(1e6))\n",
    "\n",
    "    total_areas_dict = total_areas.getInfo()\n",
    "    \n",
    "    # try:\n",
    "    df_dictionary = {'image_date':img_date, 'name':name,'scale_m':scale, **total_areas_dict}\n",
    "    pd.DataFrame(df_dictionary, index=[0]).to_excel(f'..Outputs/{name}_band_areas_{img_date.year}.xlsx')\n",
    "    return total_areas_dict\n",
    "    # except Exception as e:\n",
    "    #     print(e)\n",
    "    #     return {}\n",
    "    \n",
    "    \n",
    "\n",
    "def msToDate(milliseconds: int) -> datetime.datetime:\n",
    "    '''\n",
    "    Convert a timestamp in milliseconds to a datetime object.\n",
    "\n",
    "    Input:\n",
    "        milliseconds (int): a timestamp in milliseconds\n",
    "    \n",
    "    Output:\n",
    "        datetime.datetime: a datetime object corresponding to the timestamp\n",
    "    '''\n",
    "    \n",
    "    base_datetime = datetime.datetime(1970, 1, 1)\n",
    "    delta = datetime.timedelta(0, 0, 0, milliseconds)\n",
    "    target_datetime = base_datetime + delta\n",
    "    return target_datetime\n",
    "\n",
    "\n",
    "\n",
    "\n",
    "def summarize_image(image: ee.Image, region: ee.Geometry, img_date, name:str, scale:int) -> dict:\n",
    "    \"\"\"\n",
    "    Computes statistics for an image within a given region.\n",
    "    image: ee.Image - The image to compute statistics for\n",
    "    region: ee.Geometry - The region to compute statistics over\n",
    "    Returns: dict - A dictionary with statistics for the image\n",
    "    \"\"\"\n",
    "    stats = image.reduceRegion(\n",
    "        reducer=ee.Reducer.percentile([10, 90], ['p10', 'p90']).combine(\n",
    "            reducer2=ee.Reducer.mean().combine(\n",
    "                reducer2=ee.Reducer.stdDev(),\n",
    "                sharedInputs=True\n",
    "            ),\n",
    "            sharedInputs=True\n",
    "        ),\n",
    "        geometry=region,\n",
    "        scale=scale,\n",
    "        maxPixels=1e13\n",
    "    )\n",
    "    \n",
    "    keys = stats.getInfo().keys()\n",
    "    \n",
    "    # try:\n",
    "    dictionary = {key: stats.get(key).getInfo() for key in keys}\n",
    "    df_dictionary = {'image_date':img_date, 'name':name,'scale_m':scale, **dictionary}\n",
    "    pd.DataFrame(df_dictionary, index=[0]).to_excel(f'..Outputs/{name}_band_statistics_{img_date.year}.xlsx')\n",
    "    return dictionary\n",
    "    # except Exception as e:\n",
    "    #     print('Exception', e)\n",
    "    #     return {}\n",
    "    \n",
    "def df_band_areas(imcol: ee.ImageCollection, scale: int, bands_crit_vals: dict, name: str) -> pd.DataFrame:\n",
    "    \"\"\"\n",
    "    Creates a Pandas DataFrame with the name of the geometry, the date of the image, and the area of each image in the\n",
    "    collection above the critical values for each band in bands_crit_vals, as well as the summary statistics for each\n",
    "    image returned by the summarize_image function.\n",
    "    imcol: ee.ImageCollection - The image collection to calculate the area for\n",
    "    scale: int - The scale of the image (in meters)\n",
    "    bands_crit_vals: dict - A dictionary with each band as a key and its corresponding critical value as the value\n",
    "    name: str - The name of the geometry\n",
    "    Returns: pd.DataFrame - A Pandas DataFrame with the geometry name, image date, area above critical values, and summary statistics for each image in the collection\n",
    "    \"\"\"\n",
    "    areas = []\n",
    "    ids = imcol.aggregate_array('system:index').getInfo()\n",
    "    for i, idt in enumerate(ids):\n",
    "        img = imcol.filterMetadata('system:index', 'equals', idt)\n",
    "        img = ee.Image(img.first())\n",
    "        img_date = msToDate(img.get(\"system:time_start\").getInfo())\n",
    "        area = area_above_critical_values(img, bands_crit_vals, scale, name)\n",
    "        summary_stats = summarize_image(img, aoi, img_date, name, scale)\n",
    "        area_dict = {\n",
    "            f\"area_above_{crit_val}_{band}\": area[i] for i, (band, crit_val) in enumerate(bands_crit_vals.items())\n",
    "        }\n",
    "        areas.append({\n",
    "            \"geometry\": name,\n",
    "            \"image_date\": img_date,\n",
    "            **area_dict,\n",
    "            **summary_stats\n",
    "        })\n",
    "    return pd.DataFrame(areas)\n",
    "\n",
    "\n",
    "df_band_areas(annual_med_calc.filterMetadata('system:index', 'equals', '0'), 30, d, 'The area formerly known as princetown')"
   ]
  },
  {
   "cell_type": "code",
   "execution_count": 6,
   "id": "d339cc6c-28e6-46c0-9047-e484eaf75255",
   "metadata": {},
   "outputs": [],
   "source": [
    "image = ee.Image(annual_med_calc.filterMetadata('system:index', 'equals', '5').first())\n",
    "\n",
    "area_img = ee.Image.pixelArea()\n",
    "\n",
    "total_areas = ee.Dictionary()\n",
    "\n",
    "for band, crit_val in d.items():\n",
    "    mask = image.select(band).gt(crit_val)\n",
    "\n",
    "    masked_area_img = area_img.mask(mask)\n",
    "\n",
    "    total_area = masked_area_img.reduceRegion(\n",
    "        reducer=ee.Reducer.sum(),\n",
    "        geometry=aoi,\n",
    "        scale=30,\n",
    "        maxPixels=1e13,\n",
    "        bestEffort=True).get(\"area\")\n",
    "\n",
    "    total_areas = total_areas.set(band, ee.Number(total_area).divide(1e6))\n",
    "\n",
    "total_areas_dict = total_areas.getInfo()\n",
    "\n",
    "# df_band_areas(annual_med_calc.filterMetadata('system:index', 'equals', '0'), 30, d, 'The area formerly known as princetown')"
   ]
  },
  {
   "cell_type": "code",
   "execution_count": 9,
   "id": "96a83be3-bfe8-4b61-a30f-24330ec2a61c",
   "metadata": {},
   "outputs": [
    {
     "data": {
      "text/plain": [
       "[2897.4294165448564,\n",
       " 2885.4837343902277,\n",
       " 2675.72004751539,\n",
       " 2578.1680364228687,\n",
       " 1533.0052715799595,\n",
       " 14.74355613458347,\n",
       " 2845.6737921508407,\n",
       " 2867.651258377411,\n",
       " 2918.781787403685,\n",
       " 2871.378451431065,\n",
       " 1.6180864283684222]"
      ]
     },
     "execution_count": 9,
     "metadata": {},
     "output_type": "execute_result"
    }
   ],
   "source": [
    "list(total_areas_dict.values())"
   ]
  },
  {
   "cell_type": "code",
   "execution_count": 17,
   "id": "6756323e-4cf5-47ec-8bc3-65873920559d",
   "metadata": {},
   "outputs": [
    {
     "data": {
      "text/plain": [
       "1989"
      ]
     },
     "execution_count": 17,
     "metadata": {},
     "output_type": "execute_result"
    }
   ],
   "source": [
    "img_date = msToDate(image.get(\"system:time_start\").getInfo())\n",
    "img_date.year"
   ]
  },
  {
   "cell_type": "code",
   "execution_count": 70,
   "id": "3caae3c8-7e30-41c1-8e4d-91c5550e80cb",
   "metadata": {},
   "outputs": [],
   "source": [
    "def get_histogram(image: ee.Image, band: str, aoi: ee.Geometry) -> dict:\n",
    "    \"\"\"\n",
    "    Returns the histogram of band values for a given image band.\n",
    "    image: ee.Image - The image to get the histogram for\n",
    "    band: str - The name of the band to get the histogram for\n",
    "    Returns: dict - A dictionary containing the histogram data\n",
    "    \"\"\"\n",
    "    hist = image.select(band).reduceRegion(\n",
    "        reducer=ee.Reducer.histogram(255),\n",
    "        geometry=aoi,\n",
    "        scale=30,\n",
    "        maxPixels=1e13,\n",
    "        bestEffort=True\n",
    "    ).get(band)\n",
    "    return hist.getInfo()\n",
    "\n",
    "def get_histograms(image: ee.Image, bands: list, aoi: ee.Geometry) -> list:\n",
    "    \"\"\"\n",
    "    Returns the histogram of band values for each band in the given list.\n",
    "    image: ee.Image - The image to get the histograms for\n",
    "    bands: list - A list of band names to get the histograms for\n",
    "    Returns: list - A list of dictionaries, each containing the histogram data for a band\n",
    "    \"\"\"\n",
    "    histograms = []\n",
    "    for band in bands:\n",
    "        hist = get_histogram(image, band, aoi)\n",
    "        histograms.append({\n",
    "            'band': band,\n",
    "            'bucketMeans': hist['bucketMeans'],\n",
    "            'histogram': hist['histogram']\n",
    "        })\n",
    "    return histograms\n"
   ]
  },
  {
   "cell_type": "code",
   "execution_count": 72,
   "id": "3df39399-6a9f-4a25-b879-135fdc91e06a",
   "metadata": {},
   "outputs": [],
   "source": [
    "grams = get_histograms(ee.Image(annual_med_calc.first()), bandList, aoi)\n"
   ]
  },
  {
   "cell_type": "code",
   "execution_count": 78,
   "id": "c7d9bf0a-ef71-4143-a431-3ace0d03430a",
   "metadata": {},
   "outputs": [],
   "source": [
    "import numpy as np\n",
    "\n",
    "def plot_histograms(histograms: list):\n",
    "    \"\"\"\n",
    "    Plots a dictionary of histograms.\n",
    "    histograms: list - A list of histograms, each containing the band name and histogram data\n",
    "    \"\"\"\n",
    "    fig, axs = plt.subplots(1, len(histograms), figsize=(15,5))\n",
    "    for i, hist in enumerate(histograms):\n",
    "        axs[i].bar(hist['bucketMeans'], hist['histogram'])\n",
    "        axs[i].set_title(hist['band'])\n",
    "        axs[i].set_xlabel('Band Values')\n",
    "        axs[i].set_xlim(np.min(hist['bucketMeans']), np.max(hist['bucketMeans']))"
   ]
  },
  {
   "cell_type": "code",
   "execution_count": 79,
   "id": "ff53093d-dfc5-44fe-a65c-fc1005f7ec2b",
   "metadata": {},
   "outputs": [
    {
     "data": {
      "image/png": "[encoded data removed]",
      "text/plain": [
       "<Figure size 1500x500 with 6 Axes>"
      ]
     },
     "metadata": {},
     "output_type": "display_data"
    }
   ],
   "source": [
    "plot_histograms(grams)"
   ]
  },
  {
   "cell_type": "code",
   "execution_count": 113,
   "id": "7b3fb705-3939-409a-a53c-b6975d2e3755",
   "metadata": {},
   "outputs": [],
   "source": [
    "image= ee.ImageCollection(annual_med_calc.filterMetadata('system:index', 'equals', '5')).first()\n"
   ]
  },
  {
   "cell_type": "code",
   "execution_count": 96,
   "id": "142602d4-e368-4c5e-a31a-7fc1155f2391",
   "metadata": {},
   "outputs": [
    {
     "data": {
      "application/vnd.jupyter.widget-view+json": {
       "model_id": "9e5cffc50d41465c9dc9babec93383e2",
       "version_major": 2,
       "version_minor": 0
      },
      "text/plain": [
       "Map(center=[20, 0], controls=(WidgetControl(options=['position', 'transparent_bg'], widget=HBox(children=(Togg…"
      ]
     },
     "metadata": {},
     "output_type": "display_data"
    }
   ],
   "source": [
    "image = ee.Image(annual_med_calc.filterMetadata('system:index', 'equals', '5').first())\n",
    "Map = geemap.Map()\n",
    "Map.addLayer(image, {'bands':['NDVI'], min:0, max:1000}, 'EVI')\n",
    "Map.centerObject(aoi)\n",
    "Map"
   ]
  },
  {
   "cell_type": "code",
   "execution_count": 126,
   "id": "082e2d9a-2c13-49ed-886f-32b041a25f55",
   "metadata": {},
   "outputs": [],
   "source": [
    "def summarize_image(image: ee.Image, region: ee.Geometry) -> dict:\n",
    "    \"\"\"\n",
    "    Computes statistics for an image within a given region.\n",
    "    image: ee.Image - The image to compute statistics for\n",
    "    region: ee.Geometry - The region to compute statistics over\n",
    "    Returns: dict - A dictionary with statistics for the image\n",
    "    \"\"\"\n",
    "    stats = image.reduceRegion(\n",
    "        reducer=ee.Reducer.percentile([25, 50, 75], ['p25', 'p50', 'p75']).combine(\n",
    "            reducer2=ee.Reducer.mean().combine(\n",
    "                reducer2=ee.Reducer.stdDev(),\n",
    "                sharedInputs=True\n",
    "            ),\n",
    "            sharedInputs=True\n",
    "        ),\n",
    "        geometry=region,\n",
    "        scale=30,\n",
    "        maxPixels=1e13\n",
    "    )\n",
    "    \n",
    "    keys = stats.getInfo().keys()\n",
    "    \n",
    "    try:\n",
    "        return {key: stats.get(key).getInfo() for key in keys\n",
    "        }\n",
    "    except Exception as e:\n",
    "        print(e)\n",
    "        return {}"
   ]
  },
  {
   "cell_type": "code",
   "execution_count": 127,
   "id": "309e1c44-b9f1-4180-8682-ac9b2ec0a516",
   "metadata": {},
   "outputs": [
    {
     "data": {
      "text/plain": [
       "{'EVI_mean': 1319.635985415512,\n",
       " 'EVI_p25': 1322.9475924272872,\n",
       " 'EVI_p50': 1322.9475924272872,\n",
       " 'EVI_p75': 1322.9475924272872,\n",
       " 'EVI_stdDev': 2901.422144500739,\n",
       " 'GNDVI_mean': 578.1605381785804,\n",
       " 'GNDVI_p25': 524.0376739524464,\n",
       " 'GNDVI_p50': 612.0135453172194,\n",
       " 'GNDVI_p75': 667.98084383808,\n",
       " 'GNDVI_stdDev': 128.4241318359668,\n",
       " 'NBR_mean': 431.447170641014,\n",
       " 'NBR_p25': 283.98038152800746,\n",
       " 'NBR_p50': 468.02515331592497,\n",
       " 'NBR_p75': 603.9859490504559,\n",
       " 'NBR_stdDev': 210.5179818191398,\n",
       " 'NDFI_mean': 547.6603801677909,\n",
       " 'NDFI_p25': 316.0179823923208,\n",
       " 'NDFI_p50': 764.0211896792143,\n",
       " 'NDFI_p75': 940.0091215078193,\n",
       " 'NDFI_stdDev': 524.1258759695805,\n",
       " 'NDMI_mean': 188.73950857442523,\n",
       " 'NDMI_p25': 60.013119965185496,\n",
       " 'NDMI_p50': 212.00156559452083,\n",
       " 'NDMI_p75': 323.9203379594465,\n",
       " 'NDMI_stdDev': 179.74475190122342,\n",
       " 'NDSI_mean': -441.63331684003055,\n",
       " 'NDSI_p25': -499.9858021715436,\n",
       " 'NDSI_p50': -460.0417302106976,\n",
       " 'NDSI_p75': -404.08639006671063,\n",
       " 'NDSI_stdDev': 111.3833043101011,\n",
       " 'NDVI_mean': 562.8478982239944,\n",
       " 'NDVI_p25': 468.0075398821187,\n",
       " 'NDVI_p50': 603.9753607841104,\n",
       " 'NDVI_p75': 683.9796036689215,\n",
       " 'NDVI_stdDev': 163.32405973873855,\n",
       " 'TCA_mean': 2305.549372873479,\n",
       " 'TCA_p25': 1680.1070046058724,\n",
       " 'TCA_p50': 2512.004762032768,\n",
       " 'TCA_p75': 3056.050149345245,\n",
       " 'TCA_stdDev': 940.0741320691819,\n",
       " 'TCB_mean': 2464.7795495124765,\n",
       " 'TCB_p25': 1888.1123075978758,\n",
       " 'TCB_p50': 2335.7390982334828,\n",
       " 'TCB_p75': 2847.52842211227,\n",
       " 'TCB_stdDev': 764.7329595230373,\n",
       " 'TCG_mean': 991.4555318829467,\n",
       " 'TCG_p25': 784.2269396381768,\n",
       " 'TCG_p50': 1008.0204837732683,\n",
       " 'TCG_p75': 1231.7963299398489,\n",
       " 'TCG_stdDev': 371.8425389126123,\n",
       " 'TCW_mean': -921.3750083928167,\n",
       " 'TCW_p25': -1247.631985632407,\n",
       " 'TCW_p50': -799.5141483562192,\n",
       " 'TCW_p75': -480.23743246241446,\n",
       " 'TCW_stdDev': 612.6559832946531}"
      ]
     },
     "execution_count": 127,
     "metadata": {},
     "output_type": "execute_result"
    }
   ],
   "source": [
    "summarize_image(image, aoi)"
   ]
  },
  {
   "cell_type": "code",
   "execution_count": null,
   "id": "623dff14-f2f8-4c01-899e-c20f370d0dc2",
   "metadata": {},
   "outputs": [],
   "source": [
    "evi ="
   ]
  }
 ],
 "metadata": {
  "kernelspec": {
   "display_name": "Python 3 (ipykernel)",
   "language": "python",
   "name": "python3"
  },
  "language_info": {
   "codemirror_mode": {
    "name": "ipython",
    "version": 3
   },
   "file_extension": ".py",
   "mimetype": "text/x-python",
   "name": "python",
   "nbconvert_exporter": "python",
   "pygments_lexer": "ipython3",
   "version": "3.10.6"
  }
 },
 "nbformat": 4,
 "nbformat_minor": 5
}
