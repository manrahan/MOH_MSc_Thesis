{
 "cells": [
  {
   "cell_type": "markdown",
   "id": "f213685d-a844-4dae-8f85-56b4c860cbe0",
   "metadata": {
    "id": "f213685d-a844-4dae-8f85-56b4c860cbe0"
   },
   "source": [
    "# Downloading and Analyzing Band Values and Timeseries Statistics\n",
    "\n",
    "This notebook is used to extract timeseries of various band values from Landsat imagery for each catchment using the EE API. The bands are reduced to yearly means, medians, standard deviations, and percentiles, and then written to Excel files for further analysis. In addition, the code also extracts the pixel areas represented by each class of the classified image and training image, and calculates the area of each class in each year, which is also written to Excel files."
   ]
  },
  {
   "cell_type": "code",
   "execution_count": 1,
   "id": "b0c4bce2-93f0-496c-b8b6-c705773e99d3",
   "metadata": {},
   "outputs": [
    {
     "name": "stdout",
     "output_type": "stream",
     "text": [
      "Today is:  2023-04-19 19:39:40.427374\n"
     ]
    }
   ],
   "source": [
    "import ee\n",
    "import geemap\n",
    "import geemap.ml as ml\n",
    "from ipygee import chart as chart\n",
    "import matplotlib.pyplot as plt\n",
    "import numpy as np\n",
    "import pandas as pd\n",
    "from datetime import datetime as dt\n",
    "import datetime\n",
    "import os\n",
    "import pytz\n",
    "\n",
    "today = dt.today()\n",
    "print(\"Today is: \", today)"
   ]
  },
  {
   "cell_type": "markdown",
   "id": "e43d87b6-10ca-4e50-b416-37c1ec6d6b58",
   "metadata": {},
   "source": [
    "## GEE Authentication\n",
    "\n",
    "Before using the Earth Engine Python API, we need to authenticate our account. The authentication step is required for the first time you use Earth Engine in a new session and roughly every week thereafter.\n",
    "\n",
    "To authenticate, run the following cell and follow the prompts to log into your Earth Engine account. You will then be prompted to copy and paste the authentication code into the box provided. Once you have pasted the code, press enter to save the token.\n"
   ]
  },
  {
   "cell_type": "code",
   "execution_count": 2,
   "id": "8c4ac507-28df-4313-a67c-2db9fb8681ef",
   "metadata": {},
   "outputs": [],
   "source": [
    "# ee.Authenticate()\n",
    "geemap.ee_initialize()"
   ]
  },
  {
   "cell_type": "markdown",
   "id": "595b921a-da92-4583-961c-4d5cf3dad654",
   "metadata": {},
   "source": [
    "## Hydroclimatic Information\n",
    "\n",
    "The code reads a CSV file containing a list of catchment IDs and stores them as a list. The number of catchments in the list is printed to the console, followed by the list of catchment IDs. The code is designed to process hydroclimatic variables for a given set of catchments. The path and version of the input file are defined as variables at the beginning of the code. The CSV file contains a column called \"ID\" that lists the catchment IDs."
   ]
  },
  {
   "cell_type": "code",
   "execution_count": 3,
   "id": "9dce165c-0e65-44be-b541-994dd9b4a4bd",
   "metadata": {},
   "outputs": [
    {
     "name": "stdout",
     "output_type": "stream",
     "text": [
      "95 catchments processed for hydroclimatic variables:\n",
      " \n",
      "[17005, 18001, 20007, 21017, 21023, 21024, 22001, 23004, 24004, 25006, 26003, 27035, 27042, 27047, 27051, 27071, 28046, 28072, 29003, 29009, 30004, 30012, 30015, 31023, 32003, 33018, 33019, 33029, 34011, 36003, 36009, 36010, 37005, 38026, 39017, 39019, 39020, 39025, 39034, 40005, 40011, 41022, 41025, 41027, 41029, 42003, 43014, 45005, 46003, 46005, 47009, 48003, 48004, 49004, 50002, 52010, 52016, 53006, 53008, 53009, 53017, 54008, 54018, 54025, 54034, 54036, 55008, 55014, 55016, 55026, 55029, 56013, 57004, 60002, 60003, 62001, 64001, 65005, 67010, 67018, 68005, 71001, 71004, 72005, 73005, 73011, 75017, 76014, 77004, 78004, 79002, 79004, 8009, 93001, 94001]\n"
     ]
    }
   ],
   "source": [
    "# set the path and version of the input data\n",
    "p = '..'\n",
    "version = 'Version_3_20230303'\n",
    "\n",
    "# read in the list of catchment IDs from the input csv file\n",
    "l = pd.read_csv(f\"{p}/Inputs/{version}/GB.csv\").ID\n",
    "\n",
    "# display the list of catchment IDs and convert it to a Python list\n",
    "names = l.tolist()\n",
    "\n",
    "# print the number of catchments and their IDs\n",
    "print(f'{len(names)} catchments processed for hydroclimatic variables:\\n \\n{names}')\n"
   ]
  },
  {
   "cell_type": "markdown",
   "id": "18d6a8b5-c6ae-4717-9217-99abc0df58bf",
   "metadata": {},
   "source": [
    "## Load the EE package\n",
    "\n",
    "This notebook uses an adapted landTrendr package to construct time series of Landsat imagery for land cover detection. The package is optimized for deforestation event detection and can be used with the latest version of landTrendr available in the GEE asset, which has an Apache license and is free to use.\n",
    "\n",
    "To load the package, we use the ltgee.buildSRcollection method. Note that if the JavaScript module is faulty, the cell below will not load."
   ]
  },
  {
   "cell_type": "code",
   "execution_count": 4,
   "id": "7c702bf6-33c6-4c28-ba17-2eb15870d719",
   "metadata": {
    "id": "e6157fac-15c5-4016-b24e-3729960e6844"
   },
   "outputs": [
    {
     "name": "stdout",
     "output_type": "stream",
     "text": [
      "IMPORTANT! Please be advised:\n",
      "- This version of the Adapted_LT.js modules\n",
      "  uses some code adapted from the aut/or: @author Justin Braaten (Google) * @author Zhiqiang Yang (USDA Forest Service) * @author Robert Kennedy (Oregon State University)\n",
      "The latest edits to this code occur: 08/03/2023 for the adaptation efforts by @Mike OHanrahan (TU DELFT MSc research)\n"
     ]
    }
   ],
   "source": [
    "oeel = geemap.requireJS()\n",
    "\n",
    "Map = geemap.Map()\n",
    "\n",
    "ltgee = geemap.requireJS(r'../JS_module/Adapted_LT_v7.3.js')\n",
    "\n",
    "#ltgee.availability  #all functions within the javascript module"
   ]
  },
  {
   "cell_type": "markdown",
   "id": "484acd26-c655-4081-87b5-756c24f92c7a",
   "metadata": {},
   "source": [
    "## Initiate With a Shapefile\n",
    "\n",
    "This notebook assumes the user has a shapefile saved as an asset on their GEE, the assets used in the CATAPUCII project will be made publicly available in the @mohanrahan repository\n",
    "\n",
    "Assigning some useful variables for later classification\n",
    "\n",
    "Catchment Assets are available at this address:\n",
    "\n",
    "https://code.earthengine.google.com/?asset=projects/mohanrahan/assets/CATAPUCII_Catchments\n",
    "\n",
    "\n",
    "## Assigning useful variables\n",
    "\n",
    "- The asset_dir will point to the shapefile loaded as a GEE table asset. \n",
    "- crs is important for reprojection and scaling (which will affect area calculations)\n",
    "- RGB_VIS is for landsat RGB visual parameters\n",
    "- start day defines the beginning of the seasonal composite period\n",
    "- maskThese applies a mask (renders Null/NA/Transparent) to those majority pixels in landsat imagery"
   ]
  },
  {
   "cell_type": "code",
   "execution_count": 5,
   "id": "9045fa07-c860-4501-a0a3-77c980967b84",
   "metadata": {
    "id": "103ce65e-6dc2-4309-9cc8-e7374bf57af3"
   },
   "outputs": [],
   "source": [
    "# Directory where assets are stored\n",
    "asset_dir = 'projects/mohanrahan/assets'\n",
    "\n",
    "# Asset ID for catchment boundaries\n",
    "catchment_asset = 'CATAPUCII_Catchments/CAMELS_GB_catchment_boundaries'\n",
    "\n",
    "# Name of the dataset\n",
    "dataset = 'CAMELS_GB'\n",
    "\n",
    "# Column string to identify catchments\n",
    "col_string  = 'ID'\n",
    "\n",
    "# Coordinate reference system, GB is british national grid\n",
    "crs = 'EPSG:27700'\n",
    "\n",
    "# Figure number for plotting\n",
    "fignum = 0\n",
    "\n",
    "# RGB visualization settings for Landsat imagery\n",
    "RGB_VIS = {'bands':['B3','B2','B1'], 'min':0, 'max':1.5e3}\n",
    "\n",
    "#Classified image visualisation\n",
    "lc_vis = {'bands':['landcover'], 'min':1, 'max':5, 'palette':['#E6004D', '#FFFFA8', '#80FF00', '#A6A6FF', '#00CCF2']}\n",
    "\n",
    "# Start and end years for Landsat data collection\n",
    "startYear = 1984\n",
    "endYear = 2022\n",
    "\n",
    "# Start and end days for Landsat data collection\n",
    "startDay = '06-20'\n",
    "endDay = '08-31'\n",
    "\n",
    "# List of images to be masked from Landsat collection\n",
    "maskThese = ['cloud', 'shadow', 'snow',]\n",
    "\n",
    "# List of bands to include in Landsat collection\n",
    "bandList = [\"B1\", \"B2\", \"B3\", \"B4\", \"B5\", \"B7\", \n",
    "           'NBR', 'NDMI', 'NDVI', 'NDSI', 'EVI','GNDVI', \n",
    "           'TCB', 'TCG', 'TCW', 'TCA', 'NDFI',] "
   ]
  },
  {
   "cell_type": "markdown",
   "id": "24017ee3-b207-447c-938e-200892cfed46",
   "metadata": {},
   "source": [
    "## The Table Data\n",
    "\n",
    "### Code:\n",
    "The code imports a feature collection of catchment boundaries from the Google Earth Engine (GEE) asset directory, calculates the area of each catchment in square kilometers and pixels, sets a unique identifier for each catchment, and filters and sorts the catchment collection based on the area. It then converts the filtered and sorted collection to a pandas dataframe, selects only the catchments that are specified in a list of catchment names, and saves the resulting table to an Excel file.\n",
    "\n",
    "### Summary:\n",
    "The code fetches catchment boundaries from a GEE asset directory and calculates their areas in both square kilometers and pixels. Then, it assigns a unique identifier to each catchment and filters and sorts them based on their area. It saves a subset of the resulting catchment table that contains only the catchments specified in a list of names to an Excel file."
   ]
  },
  {
   "cell_type": "code",
   "execution_count": 6,
   "id": "257eab36-74c7-46b1-97e9-3cb1af199dbe",
   "metadata": {},
   "outputs": [
    {
     "data": {
      "text/html": [
       "<div>\n",
       "<style scoped>\n",
       "    .dataframe tbody tr th:only-of-type {\n",
       "        vertical-align: middle;\n",
       "    }\n",
       "\n",
       "    .dataframe tbody tr th {\n",
       "        vertical-align: top;\n",
       "    }\n",
       "\n",
       "    .dataframe thead th {\n",
       "        text-align: right;\n",
       "    }\n",
       "</style>\n",
       "<table border=\"1\" class=\"dataframe\">\n",
       "  <thead>\n",
       "    <tr style=\"text-align: right;\">\n",
       "      <th></th>\n",
       "      <th>pixel_area</th>\n",
       "      <th>area_km2</th>\n",
       "      <th>SOURCE</th>\n",
       "      <th>VERSION</th>\n",
       "      <th>ID</th>\n",
       "      <th>EXPORTED</th>\n",
       "      <th>ID_STRING</th>\n",
       "    </tr>\n",
       "    <tr>\n",
       "      <th>system_index</th>\n",
       "      <th></th>\n",
       "      <th></th>\n",
       "      <th></th>\n",
       "      <th></th>\n",
       "      <th></th>\n",
       "      <th></th>\n",
       "      <th></th>\n",
       "    </tr>\n",
       "  </thead>\n",
       "  <tbody>\n",
       "    <tr>\n",
       "      <th>00000000000000000088</th>\n",
       "      <td>1355.679450</td>\n",
       "      <td>1349.764903</td>\n",
       "      <td>National River Flow Archive</td>\n",
       "      <td>1.3</td>\n",
       "      <td>27071</td>\n",
       "      <td>1518422400000</td>\n",
       "      <td>27071</td>\n",
       "    </tr>\n",
       "    <tr>\n",
       "      <th>00000000000000000235</th>\n",
       "      <td>1145.767150</td>\n",
       "      <td>1140.885961</td>\n",
       "      <td>National River Flow Archive</td>\n",
       "      <td>1.3</td>\n",
       "      <td>71001</td>\n",
       "      <td>1518422400000</td>\n",
       "      <td>71001</td>\n",
       "    </tr>\n",
       "    <tr>\n",
       "      <th>000000000000000001c0</th>\n",
       "      <td>1125.603290</td>\n",
       "      <td>1121.172318</td>\n",
       "      <td>National River Flow Archive</td>\n",
       "      <td>1.3</td>\n",
       "      <td>54008</td>\n",
       "      <td>1518422400000</td>\n",
       "      <td>54008</td>\n",
       "    </tr>\n",
       "    <tr>\n",
       "      <th>00000000000000000207</th>\n",
       "      <td>897.948531</td>\n",
       "      <td>894.478359</td>\n",
       "      <td>National River Flow Archive</td>\n",
       "      <td>1.3</td>\n",
       "      <td>62001</td>\n",
       "      <td>1518422400000</td>\n",
       "      <td>62001</td>\n",
       "    </tr>\n",
       "    <tr>\n",
       "      <th>0000000000000000025a</th>\n",
       "      <td>798.157955</td>\n",
       "      <td>794.507522</td>\n",
       "      <td>National River Flow Archive</td>\n",
       "      <td>1.3</td>\n",
       "      <td>79002</td>\n",
       "      <td>1518422400000</td>\n",
       "      <td>79002</td>\n",
       "    </tr>\n",
       "    <tr>\n",
       "      <th>...</th>\n",
       "      <td>...</td>\n",
       "      <td>...</td>\n",
       "      <td>...</td>\n",
       "      <td>...</td>\n",
       "      <td>...</td>\n",
       "      <td>...</td>\n",
       "      <td>...</td>\n",
       "    </tr>\n",
       "    <tr>\n",
       "      <th>0000000000000000021b</th>\n",
       "      <td>12.768404</td>\n",
       "      <td>12.719149</td>\n",
       "      <td>National River Flow Archive</td>\n",
       "      <td>1.3</td>\n",
       "      <td>67010</td>\n",
       "      <td>1518422400000</td>\n",
       "      <td>67010</td>\n",
       "    </tr>\n",
       "    <tr>\n",
       "      <th>00000000000000000082</th>\n",
       "      <td>11.353532</td>\n",
       "      <td>11.304831</td>\n",
       "      <td>National River Flow Archive</td>\n",
       "      <td>1.3</td>\n",
       "      <td>27047</td>\n",
       "      <td>1518422400000</td>\n",
       "      <td>27047</td>\n",
       "    </tr>\n",
       "    <tr>\n",
       "      <th>000000000000000001df</th>\n",
       "      <td>10.506362</td>\n",
       "      <td>10.466687</td>\n",
       "      <td>National River Flow Archive</td>\n",
       "      <td>1.3</td>\n",
       "      <td>55008</td>\n",
       "      <td>1518422400000</td>\n",
       "      <td>55008</td>\n",
       "    </tr>\n",
       "    <tr>\n",
       "      <th>00000000000000000084</th>\n",
       "      <td>8.177400</td>\n",
       "      <td>8.143164</td>\n",
       "      <td>National River Flow Archive</td>\n",
       "      <td>1.3</td>\n",
       "      <td>27051</td>\n",
       "      <td>1518422400000</td>\n",
       "      <td>27051</td>\n",
       "    </tr>\n",
       "    <tr>\n",
       "      <th>000000000000000000c6</th>\n",
       "      <td>4.316773</td>\n",
       "      <td>4.299710</td>\n",
       "      <td>National River Flow Archive</td>\n",
       "      <td>1.3</td>\n",
       "      <td>31023</td>\n",
       "      <td>1518422400000</td>\n",
       "      <td>31023</td>\n",
       "    </tr>\n",
       "  </tbody>\n",
       "</table>\n",
       "<p>95 rows × 7 columns</p>\n",
       "</div>"
      ],
      "text/plain": [
       "                       pixel_area     area_km2                       SOURCE  \\\n",
       "system_index                                                                  \n",
       "00000000000000000088  1355.679450  1349.764903  National River Flow Archive   \n",
       "00000000000000000235  1145.767150  1140.885961  National River Flow Archive   \n",
       "000000000000000001c0  1125.603290  1121.172318  National River Flow Archive   \n",
       "00000000000000000207   897.948531   894.478359  National River Flow Archive   \n",
       "0000000000000000025a   798.157955   794.507522  National River Flow Archive   \n",
       "...                           ...          ...                          ...   \n",
       "0000000000000000021b    12.768404    12.719149  National River Flow Archive   \n",
       "00000000000000000082    11.353532    11.304831  National River Flow Archive   \n",
       "000000000000000001df    10.506362    10.466687  National River Flow Archive   \n",
       "00000000000000000084     8.177400     8.143164  National River Flow Archive   \n",
       "000000000000000000c6     4.316773     4.299710  National River Flow Archive   \n",
       "\n",
       "                     VERSION     ID       EXPORTED ID_STRING  \n",
       "system_index                                                  \n",
       "00000000000000000088     1.3  27071  1518422400000     27071  \n",
       "00000000000000000235     1.3  71001  1518422400000     71001  \n",
       "000000000000000001c0     1.3  54008  1518422400000     54008  \n",
       "00000000000000000207     1.3  62001  1518422400000     62001  \n",
       "0000000000000000025a     1.3  79002  1518422400000     79002  \n",
       "...                      ...    ...            ...       ...  \n",
       "0000000000000000021b     1.3  67010  1518422400000     67010  \n",
       "00000000000000000082     1.3  27047  1518422400000     27047  \n",
       "000000000000000001df     1.3  55008  1518422400000     55008  \n",
       "00000000000000000084     1.3  27051  1518422400000     27051  \n",
       "000000000000000000c6     1.3  31023  1518422400000     31023  \n",
       "\n",
       "[95 rows x 7 columns]"
      ]
     },
     "metadata": {},
     "output_type": "display_data"
    },
    {
     "name": "stdout",
     "output_type": "stream",
     "text": [
      "95\n"
     ]
    }
   ],
   "source": [
    "# Define the feature collection from asset directory and catchment asset name\n",
    "table = ee.FeatureCollection(f\"{asset_dir}/{catchment_asset}\")\n",
    "\n",
    "# Define a function to calculate the area of each geometry in square kilometer\n",
    "def set_area_km2(feature):\n",
    "    '''\n",
    "    Calculate the area of each geometry in square kilometer\n",
    "    '''\n",
    "    area = feature.geometry().area().divide(1000*1000)\n",
    "    setting = feature.set('area_km2', area)\n",
    "    return setting\n",
    "\n",
    "# Define a function to calculate the area of each geometry in pixels\n",
    "def set_area_pixel(feature):\n",
    "    '''\n",
    "    Calculate the area of each geometry in pixels\n",
    "    '''\n",
    "    aoi = feature.geometry()\n",
    "    area = ee.Image.pixelArea().divide(1e6).clip(aoi).select('area').reduceRegion(**{\n",
    "        'reducer':ee.Reducer.sum(),\n",
    "        'geometry':aoi,\n",
    "        'scale':30,\n",
    "        'crs':crs,\n",
    "        'maxPixels':1e13,\n",
    "        'bestEffort':True,\n",
    "        }).get('area')\n",
    "    setting = feature.set('pixel_area', area)\n",
    "    return setting\n",
    "\n",
    "# Define a function to set the system ID as a column\n",
    "def set_id(feature):\n",
    "    '''\n",
    "    Set the system ID as a column\n",
    "    '''\n",
    "    getting_name = ee.String(feature.get('system:index'))\n",
    "    setting_id = feature.set({'system_index':getting_name,})\n",
    "    return setting_id\n",
    "\n",
    "# Calculate the area of each geometry and set ID column and pixel area column\n",
    "table_area = table.map(set_area_km2).map(set_id).map(set_area_pixel)\n",
    "\n",
    "# Filter out geometries with area_km2 equal to zero and sort by area from largest to smallest\n",
    "Filtered_Sorted = table_area.filter(ee.Filter.gt('area_km2', 0)).sort('area_km2', False)\n",
    "\n",
    "# Convert the sorted table to a Pandas dataframe and set the index to 'system_index'\n",
    "down = geemap.ee_to_pandas(Filtered_Sorted).set_index(['system_index'])\n",
    "\n",
    "# Select the rows of 'down' where the column specified by 'col_string' is in the list 'names'\n",
    "df1 = down.loc[down[col_string].isin(names)]\n",
    "\n",
    "# Get the system_index values as a list\n",
    "sys_index = df1.index.to_list()\n",
    "\n",
    "# Display the filtered table\n",
    "display(df1)\n",
    "\n",
    "# Print the number of features in the filtered table\n",
    "print(len(df1))\n",
    "\n",
    "# Convert the filtered and sorted table to a Pandas dataframe\n",
    "gdf = geemap.ee_to_pandas(Filtered_Sorted)\n",
    "\n",
    "# Create a directory for the output if it doesn't exist\n",
    "if not os.path.exists(f'../Outputs/{dataset}/'):\n",
    "    os.makedirs(f'../Outputs/{dataset}/')\n",
    "\n",
    "# Export the filtered and sorted table to an Excel file\n",
    "gdf.to_excel(f'../Outputs/{dataset}/{dataset}_catchment_table.xlsx', index=0)"
   ]
  },
  {
   "cell_type": "code",
   "execution_count": 7,
   "id": "1cec8f4c-3729-462e-94e8-78020f018376",
   "metadata": {},
   "outputs": [
    {
     "data": {
      "application/vnd.jupyter.widget-view+json": {
       "model_id": "4a0ef177628d4620866bdce9afbe5da4",
       "version_major": 2,
       "version_minor": 0
      },
      "text/plain": [
       "Map(center=[53.49722684216607, -2.3029239738111555], controls=(ZoomControl(options=['position', 'zoom_in_text'…"
      ]
     },
     "metadata": {},
     "output_type": "display_data"
    }
   ],
   "source": [
    "catchments = Filtered_Sorted.filter(ee.Filter.inList(col_string, ee.List(names)))\n",
    "\n",
    "Map = geemap.Map()\n",
    "\n",
    "Map.setOptions('TERRAIN')\n",
    "Map.addLayer(catchments, {'color': 'green'}, 'green: Included')\n",
    "Map.centerObject(Filtered_Sorted, 7)\n",
    "Map"
   ]
  },
  {
   "cell_type": "markdown",
   "id": "2cefa15b-e203-4afb-b35f-7333ac83de19",
   "metadata": {},
   "source": [
    "## Functions for calculating Surface Reflection Derived Annual Catchment Metrics\n",
    "\n",
    "The functions are written to be employed in the loop that outputs data on a per catchment-per year basis.\n",
    "\n",
    "Ultimately the functions accomplish three things:\n",
    "\n",
    "1. Return the surface reflectance zonal statistics\n",
    "2. Return the area per catchment exceeding critical surface reflection values relevant to vegetation \n",
    " - {'NBR': 0.1, 'NDMI': 0.2, 'NDVI': 0.2, 'NDSI': 0.4, 'EVI': 0.2, 'GNDVI': 0.2, 'TCB': 0.15, 'TCG': 0.1, 'TCW': 0.15, 'TCA': 0.2, 'NDFI': -0.2}\n",
    "3. Combine 1 and 2 when the loop succeeds for all years on catchment n the combined dataframe is returned '{ind}_area_stats' e.g. '00000000000000000088_area_stats.xlsx'"
   ]
  },
  {
   "cell_type": "code",
   "execution_count": 8,
   "id": "fec43c4c-115d-4483-bb47-8c8994832a42",
   "metadata": {
    "tags": []
   },
   "outputs": [],
   "source": [
    "def area_above_critical_values(image: ee.Image, aoi:ee.Geometry, img_date, band_crit_vals: dict, scale: int, name:str, aoi_area:float) -> dict:\n",
    "    \"\"\"\n",
    "    Calculates the area within an image that is above the critical values for each band in band_crit_vals.\n",
    "    image: ee.Image - The image to calculate the area for\n",
    "    band_crit_vals: dict - A dictionary with each band as a key and its corresponding critical value as the value\n",
    "    Returns: ee.Number - The area within the image that is above the critical values\n",
    "    \"\"\"\n",
    "    area_img = ee.Image.pixelArea()\n",
    "\n",
    "    total_areas = ee.Dictionary()\n",
    "\n",
    "    for band, crit_val in band_crit_vals.items():\n",
    "        mask = image.select(band).gt(crit_val)\n",
    "\n",
    "        masked_area_img = area_img.mask(mask)\n",
    "\n",
    "        total_area = masked_area_img.reduceRegion(\n",
    "            reducer=ee.Reducer.sum(),\n",
    "            geometry=aoi,\n",
    "            scale=scale,\n",
    "            maxPixels=1e13,\n",
    "            bestEffort=True).get(\"area\")\n",
    "\n",
    "        total_areas = total_areas.set(band, ee.Number(total_area).divide(1e6))\n",
    "\n",
    "    total_areas_dict = total_areas.getInfo()\n",
    "    \n",
    "\n",
    "    df_dictionary = {'image_date':img_date, 'name':name,'scale_m':scale,'tot_area':aoi_area, **total_areas_dict}\n",
    "    pd.DataFrame(df_dictionary, index=[0]).to_excel(f'../Outputs/{dataset}/SR_timeseries/{name}_band_areas_{img_date.year}.xlsx')\n",
    "    print(f'catchment {name} critical areas calculated {img_date.year} saved')\n",
    "    return total_areas_dict\n",
    "\n",
    "    \n",
    "    \n",
    "\n",
    "def msToDate(milliseconds: int) -> datetime.datetime:\n",
    "    '''\n",
    "    Convert a timestamp in milliseconds to a datetime object.\n",
    "\n",
    "    Input:\n",
    "        milliseconds (int): a timestamp in milliseconds\n",
    "    \n",
    "    Output:\n",
    "        datetime.datetime: a datetime object corresponding to the timestamp\n",
    "    '''\n",
    "    \n",
    "    base_datetime = datetime.datetime(1970, 1, 1)\n",
    "    delta = datetime.timedelta(0, 0, 0, milliseconds)\n",
    "    target_datetime = base_datetime + delta\n",
    "    return target_datetime\n",
    "\n",
    "\n",
    "\n",
    "\n",
    "def summarize_image(image: ee.Image, region: ee.Geometry, img_date, name:str, scale:int) -> dict:\n",
    "    \"\"\"\n",
    "    Computes statistics for an image within a given region.\n",
    "    image: ee.Image - The image to compute statistics for\n",
    "    region: ee.Geometry - The region to compute statistics over\n",
    "    Returns: dict - A dictionary with statistics for the image\n",
    "    \"\"\"\n",
    "    stats = image.reduceRegion(\n",
    "        reducer=ee.Reducer.percentile([10, 90], ['p10', 'p90']).combine(\n",
    "            reducer2=ee.Reducer.mean().combine(\n",
    "                reducer2=ee.Reducer.stdDev(),\n",
    "                sharedInputs=True\n",
    "            ),\n",
    "            sharedInputs=True\n",
    "        ),\n",
    "        geometry=region,\n",
    "        scale=scale,\n",
    "        maxPixels=1e13\n",
    "    )\n",
    "    \n",
    "    keys = stats.getInfo().keys()\n",
    "    \n",
    "    dictionary = {key: stats.get(key).getInfo() for key in keys}\n",
    "    df_dictionary = {'image_date':img_date, 'name':name,'scale_m':scale, **dictionary}\n",
    "    pd.DataFrame(df_dictionary, index=[0]).to_excel(f'../Outputs/{dataset}/SR_timeseries/{name}_band_statistics_{img_date.year}.xlsx')\n",
    "    print(f'catchment {name} surface reflectance zonal statistics {img_date.year} saved')\n",
    "    return dictionary\n",
    "\n",
    "    \n",
    "def df_band_areas(imcol: ee.ImageCollection, aoi: ee.Geometry, scale: int, bands: list, crit_vals:list, name: str, aoi_area:float) -> pd.DataFrame:\n",
    "    \"\"\"\n",
    "    Creates a Pandas DataFrame with the name of the geometry, the date of the image, and the area of each image in the\n",
    "    collection above the critical values for each band in bands_crit_vals, as well as the summary statistics for each\n",
    "    image returned by the summarize_image function.\n",
    "    imcol: ee.ImageCollection - The image collection to calculate the area for\n",
    "    scale: int - The scale of the image (in meters)\n",
    "    bands_crit_vals: dict - A dictionary with each band as a key and its corresponding critical value as the value\n",
    "    name: str - The name of the geometry\n",
    "    Returns: pd.DataFrame - A Pandas DataFrame with the geometry name, image date, area above critical values, and summary statistics for each image in the collection\n",
    "    \"\"\"\n",
    "    \n",
    "    critical_adj = [i * 1000 for i in critical]\n",
    "\n",
    "    if len(bands) == len(critical):\n",
    "        bands_crit_vals = {s:f for s,f in zip(bands, critical_adj)}\n",
    "    else:\n",
    "        raise ValueError(\"The issue is that the bandList is not matching the length of the critical values list\")\n",
    "\n",
    "    \n",
    "    areas = []\n",
    "    ids = imcol.aggregate_array('system:index').getInfo()\n",
    "    for i, idt in enumerate(ids):\n",
    "        img = imcol.filterMetadata('system:index', 'equals', idt)\n",
    "        img = ee.Image(img.first())\n",
    "        img_date = msToDate(img.get(\"system:time_start\").getInfo())\n",
    "        area = area_above_critical_values(img, aoi, img_date, bands_crit_vals, scale, name, aoi_area)\n",
    "        summary_stats = summarize_image(img, aoi, img_date, name, scale)\n",
    "        area_dict = {f'{crit_val/1000}_{band}':list(area.values())[i] for i, (band, crit_val) in enumerate(bands_crit_vals.items())}\n",
    "        areas.append({\n",
    "            \"geometry\": name,\n",
    "            \"image_date\": img_date,\n",
    "            'tot_area_km':aoi_area,\n",
    "            **area_dict,\n",
    "            **summary_stats\n",
    "        })\n",
    "        \n",
    "    df = pd.DataFrame(areas)\n",
    "    \n",
    "    df.to_excel(f'../Outputs/{dataset}/SR_timeseries/{name}_area_stats.xlsx')\n",
    "    \n",
    "    print(f'catchment {name} calculated and returned combined')\n"
   ]
  },
  {
   "cell_type": "code",
   "execution_count": 9,
   "id": "0209bb49-7f47-40c1-aba7-280cbd0e3fb6",
   "metadata": {},
   "outputs": [],
   "source": [
    "SR_t = 'SR_timeseries'\n",
    "\n",
    "folder_list = [SR_t]\n",
    "\n",
    "for folder in folder_list:\n",
    "    \n",
    "    var = f'../Outputs/{dataset}/{folder}'\n",
    "    \n",
    "    if not os.path.exists(var):\n",
    "        print('created')\n",
    "        os.makedirs(var)\n"
   ]
  },
  {
   "cell_type": "markdown",
   "id": "03dddd40-74f7-4634-8072-5d2aed4a85db",
   "metadata": {},
   "source": [
    "## This loop is set to generate all classifiers, it will output CSV classifiers\n",
    "\n",
    "CSV classifiers save locally for all available training years in the corine dataset (or years set by the year classified loop parameter). The training area is the combined geometry of the whole meuse basin and are uploaded from client to server in the form of a decision Tree Ensemble. \n",
    "\n",
    "- Creating the classifier we also need to generate the training accuracy assessing  \"\" confusion matrix \"\"\n",
    "\n",
    "from the confusion matrix: (overall) accuracy, kappa coefficient, producer's accuracy, consumers'accuracy. \n",
    "\n",
    "This will be assessed three times in the report, from a \n",
    "\n",
    "1. balanced non-tuned () [1990, 2000, 2006, 2012, 2018]\n",
    "2. then weighted, non-tuned\n",
    "3. then a weighted tuned classifier"
   ]
  },
  {
   "cell_type": "code",
   "execution_count": null,
   "id": "6a90db04-5094-4472-a2f0-d913c471406f",
   "metadata": {},
   "outputs": [
    {
     "name": "stdout",
     "output_type": "stream",
     "text": [
      "begin loop: 2023-04-19 19:40:24.303032\n",
      "2023-04-19 19:40:24.636270\n",
      "Dataset: CAMELS_GB, \n",
      "catchment: 00000000000000000088, \n",
      "Surface Reflectance Processing ...\n",
      "\n"
     ]
    }
   ],
   "source": [
    "t0 = dt.today()\n",
    "\n",
    "nd_bandlist = ['NBR','NDMI', 'NDVI', 'NDSI', 'EVI','GNDVI', 'TCB', 'TCG', 'TCW', 'TCA', 'NDFI',]\n",
    "critical = [  0.1,  0.2,     0.2,   0.4,   0.2,    0.2,   0.15,   0.1,  0.15,   0.2,    -0.2]\n",
    "\n",
    "\n",
    "print(f'begin loop: {t0}')\n",
    "\n",
    "\n",
    "for i, ind in enumerate(sys_index):\n",
    "    \n",
    "    name = ind\n",
    "    \n",
    "    feat = Filtered_Sorted.filterMetadata('system:index', 'equals', ind).first()\n",
    "    \n",
    "    aoi = feat.geometry()\n",
    "    \n",
    "    area = feat.get('pixel_area').getInfo()\n",
    "    \n",
    "    t1 = dt.today()\n",
    "    \n",
    "    print(f'{t1}\\nDataset: {dataset}, \\ncatchment: {name}, \\nSurface Reflectance Processing ...\\n')\n",
    "    \n",
    "    annual_med = ltgee.buildSRcollection(startYear, endYear, startDay, endDay, aoi, maskThese, [''])#.map(clip_collection) #much slower when clipped\n",
    "    \n",
    "    annual_med_calc = ltgee.transformSRcollection(annual_med, bandList)\n",
    "    \n",
    "    df_band_areas(annual_med_calc, aoi, 30, nd_bandlist, critical,  ind, area)\n",
    "    \n",
    "    t4 = dt.today()\n",
    "    print(f'\\nCatchment: {name}, total time: {t4-t1}\\n---------------')\n",
    "    \n",
    "    # if ind == sys_index[0]:\n",
    "    #     break\n",
    "\n",
    "\n",
    "tfinal = dt.today()\n",
    "\n",
    "print(f'END LOOP: Full routine finished: {tfinal} \\nTime taken: {tfinal-t0}')"
   ]
  },
  {
   "cell_type": "code",
   "execution_count": null,
   "id": "3202bbe3-b8a1-4c94-960f-267100c41309",
   "metadata": {},
   "outputs": [],
   "source": [
    "catchment = ['Chooz', 'Chooz', 'Chooz', 'treignes', 'Chooz']\n",
    "accuracy = [0.789369, 0.783634, 0.803112, 0.796622, 0.796321]\n",
    "group = pd.read_excel(f'../Outputs/meuse/RF_classification/classifier_ranking_{year_classified[4]}.xlsx', header=[0,1], index_col=0, parse_dates=True).dropna()\n",
    "group"
   ]
  },
  {
   "cell_type": "code",
   "execution_count": null,
   "id": "a0bd6ec1-bfba-4096-9e7a-97dd93e05c2c",
   "metadata": {},
   "outputs": [],
   "source": [
    "\n",
    "fig,ax = plt.subplots(figsize=(10,6.18))\n",
    "#ax.set_xticks(list(np.arange(1984, 2022)), list(np.arange(1984, 2022)))\n",
    "groups = classArea_df.groupby((   'training', 'year_trained'))\n",
    "ls = []\n",
    "means = []\n",
    "for year in year_classified:\n",
    "    y = groups.get_group(year)[('testing',     'accuracy')].values\n",
    "    ls.append(y)\n",
    "    means.append(np.mean(y))\n",
    "ax.boxplot(ls, positions=year_classified, widths=2, meanline=True)\n",
    "ax.plot(year_classified, means, ls=':', label='Mean Line')\n",
    "ax.scatter(year_classified, accuracy, marker='+', c='r', label='Chosen Classifier')\n",
    "ax.set_ylim(0.6, 0.9)\n",
    "ax.set_xlim(1984, 2022)\n",
    "ax.legend()\n",
    "ax.set_title('Validation Accuracies across all Training Years');"
   ]
  },
  {
   "cell_type": "code",
   "execution_count": 223,
   "id": "6f7f5431-7610-4553-a578-4783e5209322",
   "metadata": {},
   "outputs": [
    {
     "data": {
      "image/png": "[encoded data removed]",
      "text/plain": [
       "<Figure size 640x480 with 1 Axes>"
      ]
     },
     "metadata": {},
     "output_type": "display_data"
    }
   ],
   "source": [
    "fig,ax = plt.subplots()\n",
    "#ax.set_xticks(list(np.arange(1984, 2022)), list(np.arange(1984, 2022)))\n",
    "groups = classArea_df.groupby((   'training', 'year_trained'))\n",
    "ls = []\n",
    "means = []\n",
    "for year in year_classified:\n",
    "    y = groups.get_group(year)[('area_RF',     '6')].values\n",
    "    ls.append(y)\n",
    "    means.append(np.mean(y))\n",
    "ax.boxplot(ls, positions=year_classified, widths=2, meanline=True)\n",
    "ax.plot(year_classified, means, ls=':', label='mean line')\n",
    "# ax.set_ylim(0.6, 0.9)\n",
    "# ax.set_xlim(1984, 2022)\n",
    "ax.legend()\n",
    "ax.set_title('Masked Pixels across all Training Years');"
   ]
  },
  {
   "cell_type": "code",
   "execution_count": 224,
   "id": "28fb4c6c-adef-4144-bc24-130fce956da4",
   "metadata": {},
   "outputs": [
    {
     "data": {
      "text/plain": [
       "array([  170.04494064, -1121.04137693, -1990.        ,   288.9496701 ,\n",
       "       -1188.77559444, -1507.10129803,    81.80562092, -1990.        ,\n",
       "          57.5897379 , -1990.        , -1990.        , -1639.97102917,\n",
       "       -1747.56122536, -1990.        , -1990.        , -1855.4575343 ,\n",
       "       -1990.        , -1990.        , -1990.        , -1852.2925636 ,\n",
       "       -1990.        , -1990.        ])"
      ]
     },
     "execution_count": 224,
     "metadata": {},
     "output_type": "execute_result"
    }
   ],
   "source": [
    "groups.get_group(1990)[('area_RF',     '6')].values"
   ]
  },
  {
   "cell_type": "code",
   "execution_count": 304,
   "id": "b176e0fa-cdcb-482f-bcd3-70715d3e3d1c",
   "metadata": {},
   "outputs": [
    {
     "data": {
      "text/plain": [
       "catchment    object\n",
       "year          int64\n",
       "classes       int64\n",
       "dtype: object"
      ]
     },
     "execution_count": 304,
     "metadata": {},
     "output_type": "execute_result"
    }
   ],
   "source": [
    "headers = ('catchment', 'year', 'classes')\n",
    "ranking_classifiers = [ ('la Meuse Stenay', 2012, 4)]\n",
    "#print(type(headers[0]))\n",
    "df = pd.DataFrame(ranking_classifiers, columns=headers)#, dtype=[(headers[0], 'U')])#, (headers[1], int()), (headers[2], int())])\n",
    "df.dtypes"
   ]
  },
  {
   "cell_type": "code",
   "execution_count": 217,
   "id": "7efcf174-22b5-47d6-a6ad-1b962101bb63",
   "metadata": {},
   "outputs": [
    {
     "data": {
      "application/vnd.jupyter.widget-view+json": {
       "model_id": "373f8452a15e47afa91b0cf21e75e583",
       "version_major": 2,
       "version_minor": 0
      },
      "text/plain": [
       "Map(center=[49.77390824509992, 4.868050388133598], controls=(WidgetControl(options=['position', 'transparent_b…"
      ]
     },
     "metadata": {},
     "output_type": "display_data"
    }
   ],
   "source": [
    "Map=geemap.Map()\n",
    "Map.centerObject(aoi, 10)\n",
    "Map.addLayer(trainingClassImage, {'band':['landcover'], 'min':1, 'max':5, 'palette':['red', 'yellow', 'green', 'purple', 'blue']}, 'Train on')\n",
    "Map.addLayer(imageToClassify, {'band':['B3', 'B2','B1'], 'min':0, 'max':1200, 'gamma':0.9}, 'RGB')\n",
    "Map.addLayer(classified, {'band':['landcover'], 'min':1, 'max':5, 'palette':['red', 'yellow', 'green', 'purple', 'blue']}, 'Classified')\n",
    "\n",
    "Map"
   ]
  },
  {
   "cell_type": "code",
   "execution_count": 120,
   "id": "07f4a9df-d524-4b6f-b35c-95cfc7da1613",
   "metadata": {},
   "outputs": [],
   "source": [
    "def maskedPixelCount(image, band, geom, scale):\n",
    "    im = image.select(band)\n",
    "    Pix = im.reduceRegion(**{\n",
    "                                'reducer':ee.Reducer.count(),\n",
    "                                'geometry':geom,\n",
    "                                'scale':im.projection().nominalScale(),\n",
    "                                'crs':im.projection(),\n",
    "                                'maxPixels':1e9,\n",
    "                                }).get(band)\n",
    "    unmaskPix = im.unmask(1).reduceRegion(**{\n",
    "                                'reducer':ee.Reducer.count(),\n",
    "                                'geometry':geom,\n",
    "                                'scale':im.projection().nominalScale(),\n",
    "                                'crs':im.projection(),\n",
    "                                'maxPixels':1e9,\n",
    "                                }).get(band)\n",
    "    maskedPix = ee.Number(unmaskPix).subtract(ee.Number(Pix))\n",
    "    return [Pix.getInfo(), unmaskPix.getInfo(), maskedPix.getInfo()]\n",
    "\n",
    "def pixelToArea(pixels, scale):\n",
    "    '''\n",
    "    x [pixels] * y [sqm / pixel]\n",
    "    --------------------------   = area [sq km]\n",
    "        z [sqm / sqkm]\n",
    "    '''\n",
    "    return (pixels*scale)/1e6"
   ]
  },
  {
   "cell_type": "code",
   "execution_count": 284,
   "id": "8381b25a-58a4-4539-8c0d-90b264606875",
   "metadata": {},
   "outputs": [],
   "source": [
    "pix1, unmaskPix1, maskedPixels1 = maskedPixelCount(imageToClassify, 'B1', aoi, 30)\n",
    "pix2, unmaskPix2, maskedPixels2 = maskedPixelCount(classified, 'classification', aoi, 30)\n",
    "pix3, unmaskPix3, maskedPixels3 = maskedPixelCount(trainingClassImage, 'landcover', aoi, 30)"
   ]
  },
  {
   "cell_type": "code",
   "execution_count": 291,
   "id": "97b9ad1c-ca5c-480a-bf1d-3be7fe945361",
   "metadata": {},
   "outputs": [
    {
     "data": {
      "text/plain": [
       "1589.5336892619698"
      ]
     },
     "execution_count": 291,
     "metadata": {},
     "output_type": "execute_result"
    }
   ],
   "source": []
  },
  {
   "cell_type": "code",
   "execution_count": 216,
   "id": "9479f363-d98b-4b0c-927b-c4cef8200b40",
   "metadata": {},
   "outputs": [
    {
     "data": {
      "text/html": [
       "<div><style>:root {\n",
       "  --font-color-primary: var(--jp-content-font-color0, rgba(0, 0, 0, 1));\n",
       "  --font-color-secondary: var(--jp-content-font-color2, rgba(0, 0, 0, 0.6));\n",
       "  --font-color-accent: rgba(123, 31, 162, 1);\n",
       "  --border-color: var(--jp-border-color2, #e0e0e0);\n",
       "  --background-color: var(--jp-layout-color0, white);\n",
       "  --background-color-row-even: var(--jp-layout-color1, white);\n",
       "  --background-color-row-odd: var(--jp-layout-color2, #eeeeee);\n",
       "}\n",
       "\n",
       "html[theme=\"dark\"],\n",
       "body[data-theme=\"dark\"],\n",
       "body.vscode-dark {\n",
       "  --font-color-primary: rgba(255, 255, 255, 1);\n",
       "  --font-color-secondary: rgba(255, 255, 255, 0.6);\n",
       "  --font-color-accent: rgb(173, 132, 190);\n",
       "  --border-color: #2e2e2e;\n",
       "  --background-color: #111111;\n",
       "  --background-color-row-even: #111111;\n",
       "  --background-color-row-odd: #313131;\n",
       "}\n",
       "\n",
       ".ee {\n",
       "  padding: 1em;\n",
       "  line-height: 1.5em;\n",
       "  min-width: 300px;\n",
       "  max-width: 1200px;\n",
       "  overflow-y: scroll;\n",
       "  max-height: 600px;\n",
       "  border: 1px solid var(--border-color);\n",
       "  font-family: monospace;\n",
       "}\n",
       "\n",
       ".ee li {\n",
       "  list-style-type: none;\n",
       "}\n",
       "\n",
       ".ee ul {\n",
       "  padding-left: 1.5em !important;\n",
       "  margin: 0;\n",
       "}\n",
       "\n",
       ".ee > ul {\n",
       "  padding-left: 0 !important;\n",
       "}\n",
       "\n",
       ".ee-open,\n",
       ".ee-shut {\n",
       "  color: var(--font-color-secondary);\n",
       "  cursor: pointer;\n",
       "  margin: 0;\n",
       "}\n",
       "\n",
       ".ee-open:hover,\n",
       ".ee-shut:hover {\n",
       "  color: var(--font-color-primary);\n",
       "}\n",
       "\n",
       ".ee-k {\n",
       "  color: var(--font-color-accent);\n",
       "  margin-right: 6px;\n",
       "}\n",
       "\n",
       ".ee-v {\n",
       "  color: var(--font-color-primary);\n",
       "}\n",
       "\n",
       ".ee-toggle {\n",
       "  display: none;\n",
       "}\n",
       "\n",
       ".ee-shut + ul {\n",
       "  display: none;\n",
       "}\n",
       "\n",
       ".ee-open + ul {\n",
       "  display: block;\n",
       "}\n",
       "\n",
       ".ee-shut::before {\n",
       "  display: inline-block;\n",
       "  content: \"▼\";\n",
       "  margin-right: 6px;\n",
       "  transform: rotate(-90deg);\n",
       "  transition: transform 0.2s;\n",
       "}\n",
       "\n",
       ".ee-open::before {\n",
       "  transform: rotate(0deg);\n",
       "  display: inline-block;\n",
       "  content: \"▼\";\n",
       "  margin-right: 6px;\n",
       "  transition: transform 0.2s;\n",
       "}\n",
       "</style><div class='ee'><ul><li><label class='ee-shut'>Object (1 property)<input type='checkbox' class='ee-toggle'></label><ul><li><span class='ee-k'>area:</span><span class='ee-v'>1589.53368926197</span></li></ul></li></ul></div><script>function toggleHeader() {\n",
       "    const parent = this.parentElement;\n",
       "    parent.className = parent.className === \"ee-open\" ? \"ee-shut\" : \"ee-open\";\n",
       "}\n",
       "\n",
       "for (let c of document.getElementsByClassName(\"ee-toggle\")) {\n",
       "    c.onclick = toggleHeader;\n",
       "}</script></div>"
      ],
      "text/plain": [
       "<ee.dictionary.Dictionary at 0x187692acf10>"
      ]
     },
     "execution_count": 216,
     "metadata": {},
     "output_type": "execute_result"
    }
   ],
   "source": [
    "areaBand = ee.Image.pixelArea().divide(1e6)\n",
    "image = classified.addBands(areaBand)\n",
    "\n",
    "areas = image.select('area').reduceRegion(**{\n",
    "        'reducer':ee.Reducer.sum(),\n",
    "        'geometry':aoi,\n",
    "        'scale':30,\n",
    "        # 'crs':'EPSG:3035',\n",
    "        'maxPixels':1e13,\n",
    "        'bestEffort':True,\n",
    "})\n",
    "\n",
    "areas\n",
    "#classAreasLists = classAreas.map(extractArea) #6191.08"
   ]
  },
  {
   "cell_type": "code",
   "execution_count": 206,
   "id": "e34052ca-8e99-4348-a9d3-57764cdb6b68",
   "metadata": {},
   "outputs": [
    {
     "data": {
      "text/plain": [
       "1579.1635123614628"
      ]
     },
     "execution_count": 206,
     "metadata": {},
     "output_type": "execute_result"
    }
   ],
   "source": [
    "(classAreas.getInfo() / 253 )"
   ]
  },
  {
   "cell_type": "code",
   "execution_count": 268,
   "id": "0dac083d-1e5a-4970-b417-b14815683b79",
   "metadata": {},
   "outputs": [],
   "source": [
    "ca = classArea(trainingClassImage, 100).getInfo()"
   ]
  },
  {
   "cell_type": "markdown",
   "id": "f5389a52-41f4-41cd-9e85-35eadf979817",
   "metadata": {},
   "source": [
    "# print('masked pixels in LS composite, area in sqKm:', pixelToArea(maskedPixels1, 30))\n",
    "\n",
    "print('masked pixels in classified, area in sqKm:', pixelToArea(maskedPixels2, 30))\n",
    "\n",
    "print('masked pixels in training, area in sqKm:', pixelToArea(maskedPixels3, 30))"
   ]
  },
  {
   "cell_type": "code",
   "execution_count": 283,
   "id": "33ab5123-99c4-4f1c-aae3-e65be355dfe4",
   "metadata": {},
   "outputs": [
    {
     "data": {
      "text/plain": [
       "date\n",
       "2011-08-31 22:00:00    1589.539192\n",
       "dtype: float64"
      ]
     },
     "execution_count": 283,
     "metadata": {},
     "output_type": "execute_result"
    }
   ],
   "source": [
    "df.area_CORINE.sum(axis=1)"
   ]
  },
  {
   "cell_type": "code",
   "execution_count": 263,
   "id": "5ff8875a-0c99-4120-a23d-63d108ee94fc",
   "metadata": {},
   "outputs": [
    {
     "data": {
      "text/plain": [
       "date\n",
       "2011-08-31 22:00:00    2011\n",
       "Name: year_trained, dtype: int64"
      ]
     },
     "execution_count": 263,
     "metadata": {},
     "output_type": "execute_result"
    }
   ],
   "source": [
    "df.year_trained"
   ]
  },
  {
   "cell_type": "code",
   "execution_count": null,
   "id": "da1959c1-0479-4cb6-bc98-b8e66e0f69af",
   "metadata": {},
   "outputs": [],
   "source": [
    "chart_min_region = chart.Image.series(**{\n",
    "'imageCollection': clear_collection,\n",
    "'reducer': ee.Reducer.min(),\n",
    "'region': aoi,\n",
    "'scale': scale,\n",
    "'band': 'B1_min',\n",
    "}).dataframe\n",
    "chart_min_region"
   ]
  },
  {
   "cell_type": "code",
   "execution_count": null,
   "id": "439ea630-938b-4847-bf0e-96a6e0bb7f09",
   "metadata": {},
   "outputs": [],
   "source": [
    "Map.addLayer(imcol.first(), RGB_VIS, '')\n",
    "Map.centerObject(aoi, 10)\n",
    "Map"
   ]
  },
  {
   "cell_type": "code",
   "execution_count": null,
   "id": "de1fdb39-a9fb-4295-baee-fa172e20a171",
   "metadata": {},
   "outputs": [],
   "source": [
    "def plot_band_timeseries(annual_df ,  bands=[], percentile=False, decadal= True, separate=False):\n",
    "    fignum = 0\n",
    "    for i in bands:\n",
    "        if separate == True:\n",
    "            fignum+=1\n",
    "        plt.figure(fignum)\n",
    "        df = annual_df.loc[:,i]\n",
    "        #display(df)\n",
    "        \n",
    "        plt.title(f'{bands} Timeseries')\n",
    "        \n",
    "        c = 'blue'\n",
    "        fill  = 'grey'\n",
    "        \n",
    "        \n",
    "        \n",
    "        if i == 'B1':\n",
    "            c = 'blue'\n",
    "            fill  = c\n",
    "        \n",
    "        if i == 'B2':\n",
    "            c = 'green'\n",
    "            fill  = c\n",
    "        \n",
    "        if i == 'B3':\n",
    "            c = 'red'\n",
    "            fill=c\n",
    "            \n",
    "        if i == 'gndvi':\n",
    "            c = 'green'\n",
    "            fill  = c\n",
    "        \n",
    "        df.plot(figsize=(20, 10), color=c)\n",
    "        \n",
    "        if decadal == True:\n",
    "            \n",
    "            decadal_mean = df.rolling(10).mean()\n",
    "            decadal_mean.plot(c='red', linestyle='dashed', label=f'Decadal Mean {i}')\n",
    "            plt.axvline(annual_df.index[0], linestyle='dotted')\n",
    "            plt.scatter(annual_df.index[9], decadal_mean[9], label=f'{i} mean 1984-1993')\n",
    "            plt.axvline(annual_df.index[9], linestyle='dotted')\n",
    "            plt.scatter(annual_df.index[19], decadal_mean[19], label=f'{i} mean 1994-2003')\n",
    "            plt.axvline(annual_df.index[19], linestyle='dotted')\n",
    "            plt.scatter(annual_df.index[29], decadal_mean[29], label=f'{i} mean 2004-2013')\n",
    "            plt.axvline(annual_df.index[29], linestyle='dotted')\n",
    "        \n",
    "        if percentile == True:\n",
    "            df_5 = annual_df.loc[:,f'{i}p5']\n",
    "            df_95 = annual_df.loc[:,f'{i}p95']\n",
    "            \n",
    "            df_5.plot(color='black', linestyle='dashed', alpha=0.7, label=f'{i} p0.05')\n",
    "            df_95.plot(color='black', linestyle='dashed', alpha=0.7, label=f'{i} p0.95')\n",
    "            plt.fill_between(annual_df.index, df_5, df_95, color=fill, alpha=0.2)\n",
    "            plt.title(f'{bands} Timeseries With Decadal Mean and Percentile Bands')\n",
    "        \n",
    "\n",
    "        # Add axis labels and a legend\n",
    "        plt.xlabel('Year')\n",
    "        \n",
    "        plt.ylabel(f'mean surface reflectance / $km^2$')\n",
    "        \n",
    "        plt.suptitle('La Meuse Stenay 1984 - 2022')\n",
    "        \n",
    "        \n",
    "\n",
    "        #plt.ylim(df.min() - (df.min()*0.7), df.max()*1.2,)\n",
    "        plt.legend()\n",
    "\n",
    "plot_band_timeseries(annual, ['ndvi', 'gndvi'], decadal=False)\n"
   ]
  },
  {
   "cell_type": "code",
   "execution_count": null,
   "id": "e4818e00-e819-4000-befb-26fd052e0ffe",
   "metadata": {},
   "outputs": [],
   "source": [
    "fignum+=1\n",
    "plt.figure(fignum)\n",
    "#annual.ndvi.plot(figsize=(20, 10), c='blue')\n",
    "decadal_mean = annual.ndvi.rolling(10).mean()\n",
    "decadal_mean.plot(figsize=(20, 10), c='red', label='Decadal Mean')\n",
    "#annual.ndvip5.plot(color='black', linestyle='dashed', alpha=0.7, label='NDVI p0.05')\n",
    "#annual.ndvip95.plot(color='black', linestyle='dashed', alpha=0.7, label='NDVI p0.95')\n",
    "plt.fill_between(annual.index, annual.ndvip5, annual.ndvip95, color='grey', alpha=0.2)\n",
    "plt.axvline(annual.index[0], linestyle='dotted')\n",
    "plt.scatter(annual.index[9], decadal_mean[9], label='NDVI mean 1984-1993')\n",
    "plt.axvline(annual.index[9], linestyle='dotted')\n",
    "plt.scatter(annual.index[19], decadal_mean[19], label='NDVI mean 1994-2003')\n",
    "plt.axvline(annual.index[19], linestyle='dotted')\n",
    "plt.scatter(annual.index[29], decadal_mean[29], label='NDVI mean 2004-2013')\n",
    "plt.axvline(annual.index[29], linestyle='dotted')\n",
    "\n",
    "# Add axis labels and a legend\n",
    "plt.xlabel('Year')\n",
    "plt.ylabel('NDVI [$/km^2$]')\n",
    "\n",
    "plt.suptitle('La Meuse Stenay 1984 - 2022')\n",
    "plt.title('NDVI Timeseries With Decadal Mean and Percentile Bands')\n",
    "\n",
    "plt.ylim(0.55,0.75)\n",
    "plt.xlim(annual.index[8], annual.index[32])\n",
    "plt.legend()\n"
   ]
  },
  {
   "cell_type": "code",
   "execution_count": null,
   "id": "7f16a4df-de6d-48c8-9a1e-535c097e49f8",
   "metadata": {},
   "outputs": [],
   "source": [
    "annual"
   ]
  },
  {
   "cell_type": "markdown",
   "id": "1f7d9be1-b27d-4477-b487-9e5fa2f12440",
   "metadata": {},
   "source": [
    "## Trend analysis per band\n",
    "\n",
    "- can we look at median band collection and percentile bounds, reduced to a per kilometer scale"
   ]
  },
  {
   "cell_type": "code",
   "execution_count": null,
   "id": "7f69108d-1a05-4183-ba4b-bd581207ee01",
   "metadata": {},
   "outputs": [],
   "source": [
    "stats_LS = geemap.image_stats(LS, aoi, scale=scale)\n",
    "LS_col_stats = stats_LS.getInfo()\n",
    "print(LS_col_stats)"
   ]
  },
  {
   "cell_type": "markdown",
   "id": "a2eb4175-7872-4a76-9798-a61539eece61",
   "metadata": {},
   "source": [
    "***\n",
    "<a id=\"Land_Cover\"></a>\n",
    "## Land Cover "
   ]
  },
  {
   "cell_type": "markdown",
   "id": "5b3f87f6-598d-40dc-b6a1-bb1b0bc4ea1c",
   "metadata": {},
   "source": [
    "[Linking Reference to Land Cover](#Land_cover)"
   ]
  },
  {
   "cell_type": "code",
   "execution_count": null,
   "id": "a2e34431-17b3-4643-9f87-ff559a28ae47",
   "metadata": {},
   "outputs": [],
   "source": [
    "Map = geemap.Map()\n",
    "Map.add_basemap('HYBRID')\n",
    "Map.addLayer(aoi, {}, 'ROI')\n",
    "Map.centerObject(aoi, 12)\n",
    "Map"
   ]
  },
  {
   "cell_type": "code",
   "execution_count": null,
   "id": "ec2ea32e-6ee1-4a09-89cd-1902f4ff37cb",
   "metadata": {},
   "outputs": [],
   "source": []
  },
  {
   "cell_type": "code",
   "execution_count": null,
   "id": "c0e13129-849a-48d0-8030-f6b19247b481",
   "metadata": {},
   "outputs": [],
   "source": []
  },
  {
   "cell_type": "code",
   "execution_count": null,
   "id": "3ecda535-669c-4c8a-8d4e-a8ee5f873670",
   "metadata": {},
   "outputs": [],
   "source": []
  }
 ],
 "metadata": {
  "colab": {
   "provenance": []
  },
  "kernelspec": {
   "display_name": "Python 3 (ipykernel)",
   "language": "python",
   "name": "python3"
  },
  "language_info": {
   "codemirror_mode": {
    "name": "ipython",
    "version": 3
   },
   "file_extension": ".py",
   "mimetype": "text/x-python",
   "name": "python",
   "nbconvert_exporter": "python",
   "pygments_lexer": "ipython3",
   "version": "3.10.6"
  },
  "toc": {
   "base_numbering": 1,
   "nav_menu": {},
   "number_sections": true,
   "sideBar": true,
   "skip_h1_title": false,
   "title_cell": "Table of Contents",
   "title_sidebar": "Contents",
   "toc_cell": false,
   "toc_position": {},
   "toc_section_display": true,
   "toc_window_display": false
  }
 },
 "nbformat": 4,
 "nbformat_minor": 5
}
