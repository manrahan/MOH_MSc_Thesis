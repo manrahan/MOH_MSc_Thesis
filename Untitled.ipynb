{
 "cells": [
  {
   "cell_type": "code",
   "execution_count": 1,
   "id": "1f7ecb8b-78fa-4c3b-b5c9-0812c31dfc79",
   "metadata": {},
   "outputs": [
    {
     "name": "stdout",
     "output_type": "stream",
     "text": [
      "IMPORTANT! Please be advised:\n",
      "- This version of the Adapted_LT.js modules\n",
      "  uses some code adapted from the aut/or: @author Justin Braaten (Google) * @author Zhiqiang Yang (USDA Forest Service) * @author Robert Kennedy (Oregon State University)\n",
      "The latest edits to this code occur: 08/03/2023 for the adaptation efforts by @Mike OHanrahan (TU DELFT MSc research)\n"
     ]
    },
    {
     "data": {
      "text/plain": [
       "{'version': 'string',\n",
       " 'buildSensorYearCollection': 'function',\n",
       " 'getSRcollection': 'function',\n",
       " 'getCombinedSRcollection': 'function',\n",
       " 'buildSRcollection': 'function',\n",
       " 'getCollectionIDlist': 'function',\n",
       " 'countClearViewPixels': 'function',\n",
       " 'buildClearPixelCountCollection': 'function',\n",
       " 'removeImages': 'function',\n",
       " 'LAIcol': 'function',\n",
       " 'calcIndex': 'function',\n",
       " 'standardize': 'function',\n",
       " 'transformSRcollection': 'function',\n",
       " 'createTrainingImage': 'function',\n",
       " 'addTerrainBand': 'function',\n",
       " 'genGCP': 'function',\n",
       " 'classifier': 'function',\n",
       " 'classArea': 'function',\n",
       " 'imcolFromAsset': 'function',\n",
       " 'unionCollections': 'function'}"
      ]
     },
     "execution_count": 1,
     "metadata": {},
     "output_type": "execute_result"
    }
   ],
   "source": [
    "import ee\n",
    "import pandas as pd\n",
    "import geemap\n",
    "from datetime import datetime as dt\n",
    "import datetime\n",
    "import timeit\n",
    "import oeel\n",
    "import os\n",
    "import numpy as np\n",
    "\n",
    "#ee.Authenticate()\n",
    "\n",
    "ee.Initialize()\n",
    "\n",
    "oeel = geemap.requireJS()\n",
    "\n",
    "Map = geemap.Map()\n",
    "\n",
    "ltgee = geemap.requireJS(r'../JS_module/Adapted_LT_v7.3.js')\n",
    "\n",
    "ltgee.availability  #all functions within the javascript module"
   ]
  },
  {
   "cell_type": "code",
   "execution_count": 2,
   "id": "57ba9ba2-11ef-403c-876b-d467844855c7",
   "metadata": {},
   "outputs": [
    {
     "name": "stdout",
     "output_type": "stream",
     "text": [
      "{'NBR': 0.1, 'NDMI': 0.2, 'NDVI': 0.2, 'NDSI': 0.4, 'EVI': 0.2, 'GNDVI': 0.2, 'TCB': 0.15, 'TCG': 0.1, 'TCW': 0.15, 'TCA': 0.2, 'NDFI': -0.2}\n"
     ]
    },
    {
     "data": {
      "application/vnd.jupyter.widget-view+json": {
       "model_id": "d787bc554e8d4c63ac6448d2ea8164ff",
       "version_major": 2,
       "version_minor": 0
      },
      "text/plain": [
       "Map(center=[20, 0], controls=(WidgetControl(options=['position', 'transparent_bg'], widget=HBox(children=(Togg…"
      ]
     },
     "metadata": {},
     "output_type": "display_data"
    }
   ],
   "source": [
    "startYear = 1984\n",
    "\n",
    "endYear = 2023\n",
    "\n",
    "startDay = '06-01'\n",
    "\n",
    "endDay  = '08-31'\n",
    "\n",
    "# Define the geometry for which to calculate areas\n",
    "aoi = ee.Geometry.Polygon(\n",
    "    [[[-120.5, 38.4],\n",
    "      [-120.5, 37.9],\n",
    "      [-119.9, 37.9],\n",
    "      [-119.9, 38.4]]])\n",
    "\n",
    "bandList = ['NBR','NDMI', 'NDVI', 'NDSI', 'EVI','GNDVI', 'TCB', 'TCG', 'TCW', 'TCA', 'NDFI',]\n",
    "critical = [  0.1,  0.2,     0.2,   0.4,   0.2,    0.2,   0.15,   0.1,  0.15,   0.2,    -0.2]\n",
    "critical_adj = [i * 1000 for i in critical]\n",
    "\n",
    "if len(bandList) == len(critical):\n",
    "    d = {s:f for s,f in zip(bandList, critical_adj)}\n",
    "else:\n",
    "    raise ValueError(\"The issue is that the bandList is not matching the length of the critical values list\")\n",
    "\n",
    "# List of images to be masked from Landsat collection\n",
    "maskThese = ['cloud', 'shadow', 'snow',]\n",
    "\n",
    "annual_med = ltgee.buildSRcollection(startYear, endYear, startDay, endDay, aoi, maskThese, [''])#.map(clip_collection) #much slower when clipped\n",
    "    \n",
    "annual_med_calc = ltgee.transformSRcollection(annual_med, bandList)\n",
    "\n",
    "print({s:f for s,f in zip(bandList, critical)})\n",
    "\n",
    "image = annual_med_calc.first()\n",
    "\n",
    "Map = geemap.Map()\n",
    "Map.addLayer(ee.Image(image), {'bands':['NDVI'], 'palette':['red', 'green'], min:0, max:1000}, 'NDVI')\n",
    "Map.centerObject(aoi)\n",
    "Map"
   ]
  },
  {
   "cell_type": "code",
   "execution_count": null,
   "id": "ca2afdb5-37f8-4900-a255-b5c170dba559",
   "metadata": {},
   "outputs": [],
   "source": []
  },
  {
   "cell_type": "code",
   "execution_count": 3,
   "id": "51456b9e-dbf7-4fbf-841c-e99c0dff1022",
   "metadata": {},
   "outputs": [
    {
     "data": {
      "text/html": [
       "<div><style>:root {\n",
       "  --font-color-primary: var(--jp-content-font-color0, rgba(0, 0, 0, 1));\n",
       "  --font-color-secondary: var(--jp-content-font-color2, rgba(0, 0, 0, 0.6));\n",
       "  --font-color-accent: rgba(123, 31, 162, 1);\n",
       "  --border-color: var(--jp-border-color2, #e0e0e0);\n",
       "  --background-color: var(--jp-layout-color0, white);\n",
       "  --background-color-row-even: var(--jp-layout-color1, white);\n",
       "  --background-color-row-odd: var(--jp-layout-color2, #eeeeee);\n",
       "}\n",
       "\n",
       "html[theme=\"dark\"],\n",
       "body[data-theme=\"dark\"],\n",
       "body.vscode-dark {\n",
       "  --font-color-primary: rgba(255, 255, 255, 1);\n",
       "  --font-color-secondary: rgba(255, 255, 255, 0.6);\n",
       "  --font-color-accent: rgb(173, 132, 190);\n",
       "  --border-color: #2e2e2e;\n",
       "  --background-color: #111111;\n",
       "  --background-color-row-even: #111111;\n",
       "  --background-color-row-odd: #313131;\n",
       "}\n",
       "\n",
       ".ee {\n",
       "  padding: 1em;\n",
       "  line-height: 1.5em;\n",
       "  min-width: 300px;\n",
       "  max-width: 1200px;\n",
       "  overflow-y: scroll;\n",
       "  max-height: 600px;\n",
       "  border: 1px solid var(--border-color);\n",
       "  font-family: monospace;\n",
       "}\n",
       "\n",
       ".ee li {\n",
       "  list-style-type: none;\n",
       "}\n",
       "\n",
       ".ee ul {\n",
       "  padding-left: 1.5em !important;\n",
       "  margin: 0;\n",
       "}\n",
       "\n",
       ".ee > ul {\n",
       "  padding-left: 0 !important;\n",
       "}\n",
       "\n",
       ".ee-open,\n",
       ".ee-shut {\n",
       "  color: var(--font-color-secondary);\n",
       "  cursor: pointer;\n",
       "  margin: 0;\n",
       "}\n",
       "\n",
       ".ee-open:hover,\n",
       ".ee-shut:hover {\n",
       "  color: var(--font-color-primary);\n",
       "}\n",
       "\n",
       ".ee-k {\n",
       "  color: var(--font-color-accent);\n",
       "  margin-right: 6px;\n",
       "}\n",
       "\n",
       ".ee-v {\n",
       "  color: var(--font-color-primary);\n",
       "}\n",
       "\n",
       ".ee-toggle {\n",
       "  display: none;\n",
       "}\n",
       "\n",
       ".ee-shut + ul {\n",
       "  display: none;\n",
       "}\n",
       "\n",
       ".ee-open + ul {\n",
       "  display: block;\n",
       "}\n",
       "\n",
       ".ee-shut::before {\n",
       "  display: inline-block;\n",
       "  content: \"▼\";\n",
       "  margin-right: 6px;\n",
       "  transform: rotate(-90deg);\n",
       "  transition: transform 0.2s;\n",
       "}\n",
       "\n",
       ".ee-open::before {\n",
       "  transform: rotate(0deg);\n",
       "  display: inline-block;\n",
       "  content: \"▼\";\n",
       "  margin-right: 6px;\n",
       "  transition: transform 0.2s;\n",
       "}\n",
       "</style><div class='ee'><ul><li><label class='ee-shut'>FeatureCollection (1 element, 1 column)<input type='checkbox' class='ee-toggle'></label><ul><li><span class='ee-k'>type:</span><span class='ee-v'>FeatureCollection</span></li><li><label class='ee-shut'>columns: Object (1 property)<input type='checkbox' class='ee-toggle'></label><ul><li><span class='ee-k'>system:index:</span><span class='ee-v'>String</span></li></ul></li><li><label class='ee-shut'>features: List (1 element)<input type='checkbox' class='ee-toggle'></label><ul><li><label class='ee-shut'>0: Feature (Polygon, 0 properties)<input type='checkbox' class='ee-toggle'></label><ul><li><span class='ee-k'>type:</span><span class='ee-v'>Feature</span></li><li><span class='ee-k'>id:</span><span class='ee-v'>0</span></li><li><label class='ee-shut'>geometry: Polygon (241 vertices)<input type='checkbox' class='ee-toggle'></label><ul><li><span class='ee-k'>type:</span><span class='ee-v'>Polygon</span></li><li><label class='ee-shut'>coordinates: List (1 element)<input type='checkbox' class='ee-toggle'></label><ul><li><label class='ee-shut'>0: List (241 elements)<input type='checkbox' class='ee-toggle'></label><ul><li><label class='ee-shut'>0: [5.014999380707624, 49.42083229971757]<input type='checkbox' class='ee-toggle'></label><ul><li><span class='ee-k'>0:</span><span class='ee-v'>5.014999380707624</span></li><li><span class='ee-k'>1:</span><span class='ee-v'>49.42083229971757</span></li></ul></li><li><label class='ee-shut'>1: [5.040001531407103, 49.42083230495849]<input type='checkbox' class='ee-toggle'></label><ul><li><span class='ee-k'>0:</span><span class='ee-v'>5.040001531407103</span></li><li><span class='ee-k'>1:</span><span class='ee-v'>49.42083230495849</span></li></ul></li><li><label class='ee-shut'>2: [5.040001539260498, 49.41249827889613]<input type='checkbox' class='ee-toggle'></label><ul><li><span class='ee-k'>0:</span><span class='ee-v'>5.040001539260498</span></li><li><span class='ee-k'>1:</span><span class='ee-v'>49.41249827889613</span></li></ul></li><li><label class='ee-shut'>3: [5.048331094339624, 49.412498295399125]<input type='checkbox' class='ee-toggle'></label><ul><li><span class='ee-k'>0:</span><span class='ee-v'>5.048331094339624</span></li><li><span class='ee-k'>1:</span><span class='ee-v'>49.412498295399125</span></li></ul></li><li><label class='ee-shut'>4: [5.048331084382352, 49.40416866023746]<input type='checkbox' class='ee-toggle'></label><ul><li><span class='ee-k'>0:</span><span class='ee-v'>5.048331084382352</span></li><li><span class='ee-k'>1:</span><span class='ee-v'>49.40416866023746</span></li></ul></li><li><label class='ee-shut'>5: [5.073333298358934, 49.40416866185507]<input type='checkbox' class='ee-toggle'></label><ul><li><span class='ee-k'>0:</span><span class='ee-v'>5.073333298358934</span></li><li><span class='ee-k'>1:</span><span class='ee-v'>49.40416866185507</span></li></ul></li><li><label class='ee-shut'>6: [5.07333330657036, 49.38750051861002]<input type='checkbox' class='ee-toggle'></label><ul><li><span class='ee-k'>0:</span><span class='ee-v'>5.07333330657036</span></li><li><span class='ee-k'>1:</span><span class='ee-v'>49.38750051861002</span></li></ul></li><li><label class='ee-shut'>7: [5.064999210148486, 49.38750053226626]<input type='checkbox' class='ee-toggle'></label><ul><li><span class='ee-k'>0:</span><span class='ee-v'>5.064999210148486</span></li><li><span class='ee-k'>1:</span><span class='ee-v'>49.38750053226626</span></li></ul></li><li><label class='ee-shut'>8: [5.06499924100749, 49.37916649724954]<input type='checkbox' class='ee-toggle'></label><ul><li><span class='ee-k'>0:</span><span class='ee-v'>5.06499924100749</span></li><li><span class='ee-k'>1:</span><span class='ee-v'>49.37916649724954</span></li></ul></li><li><label class='ee-shut'>9: [5.073333327587138, 49.379166492851205]<input type='checkbox' class='ee-toggle'></label><ul><li><span class='ee-k'>0:</span><span class='ee-v'>5.073333327587138</span></li><li><span class='ee-k'>1:</span><span class='ee-v'>49.379166492851205</span></li></ul></li><li><label class='ee-shut'>10: [5.073333284025226, 49.36249838667126]<input type='checkbox' class='ee-toggle'></label><ul><li><span class='ee-k'>0:</span><span class='ee-v'>5.073333284025226</span></li><li><span class='ee-k'>1:</span><span class='ee-v'>49.36249838667126</span></li></ul></li><li><label class='ee-shut'>11: [5.064999218454383, 49.36249837251767]<input type='checkbox' class='ee-toggle'></label><ul><li><span class='ee-k'>0:</span><span class='ee-v'>5.064999218454383</span></li><li><span class='ee-k'>1:</span><span class='ee-v'>49.36249837251767</span></li></ul></li><li><label class='ee-shut'>12: [5.064999207285684, 49.329166565959575]<input type='checkbox' class='ee-toggle'></label><ul><li><span class='ee-k'>0:</span><span class='ee-v'>5.064999207285684</span></li><li><span class='ee-k'>1:</span><span class='ee-v'>49.329166565959575</span></li></ul></li><li><label class='ee-shut'>13: [5.0566651988598545, 49.32916661171686]<input type='checkbox' class='ee-toggle'></label><ul><li><span class='ee-k'>0:</span><span class='ee-v'>5.0566651988598545</span></li><li><span class='ee-k'>1:</span><span class='ee-v'>49.32916661171686</span></li></ul></li><li><label class='ee-shut'>14: [5.056665207701993, 49.32083249776534]<input type='checkbox' class='ee-toggle'></label><ul><li><span class='ee-k'>0:</span><span class='ee-v'>5.056665207701993</span></li><li><span class='ee-k'>1:</span><span class='ee-v'>49.32083249776534</span></li></ul></li><li><label class='ee-shut'>15: [5.073333300630205, 49.32083251816692]<input type='checkbox' class='ee-toggle'></label><ul><li><span class='ee-k'>0:</span><span class='ee-v'>5.073333300630205</span></li><li><span class='ee-k'>1:</span><span class='ee-v'>49.32083251816692</span></li></ul></li><li><label class='ee-shut'>16: [5.073333324396158, 49.3124984585118]<input type='checkbox' class='ee-toggle'></label><ul><li><span class='ee-k'>0:</span><span class='ee-v'>5.073333324396158</span></li><li><span class='ee-k'>1:</span><span class='ee-v'>49.3124984585118</span></li></ul></li><li><label class='ee-shut'>17: [5.081667393488633, 49.3124984673684]<input type='checkbox' class='ee-toggle'></label><ul><li><span class='ee-k'>0:</span><span class='ee-v'>5.081667393488633</span></li><li><span class='ee-k'>1:</span><span class='ee-v'>49.3124984673684</span></li></ul></li><li><label class='ee-shut'>18: [5.081667323689716, 49.28750073972589]<input type='checkbox' class='ee-toggle'></label><ul><li><span class='ee-k'>0:</span><span class='ee-v'>5.081667323689716</span></li><li><span class='ee-k'>1:</span><span class='ee-v'>49.28750073972589</span></li></ul></li><li><label class='ee-shut'>19: [5.09000143044576, 49.28750071470141]<input type='checkbox' class='ee-toggle'></label><ul><li><span class='ee-k'>0:</span><span class='ee-v'>5.09000143044576</span></li><li><span class='ee-k'>1:</span><span class='ee-v'>49.28750071470141</span></li></ul></li><li><label class='ee-shut'>20: [5.090001380807206, 49.27916667626048]<input type='checkbox' class='ee-toggle'></label><ul><li><span class='ee-k'>0:</span><span class='ee-v'>5.090001380807206</span></li><li><span class='ee-k'>1:</span><span class='ee-v'>49.27916667626048</span></li></ul></li><li><label class='ee-shut'>21: [5.114999141170495, 49.27916671155352]<input type='checkbox' class='ee-toggle'></label><ul><li><span class='ee-k'>0:</span><span class='ee-v'>5.114999141170495</span></li><li><span class='ee-k'>1:</span><span class='ee-v'>49.27916671155352</span></li></ul></li><li><label class='ee-shut'>22: [5.114999171657031, 49.27083265789012]<input type='checkbox' class='ee-toggle'></label><ul><li><span class='ee-k'>0:</span><span class='ee-v'>5.114999171657031</span></li><li><span class='ee-k'>1:</span><span class='ee-v'>49.27083265789012</span></li></ul></li><li><label class='ee-shut'>23: [5.131667297730312, 49.27083266377555]<input type='checkbox' class='ee-toggle'></label><ul><li><span class='ee-k'>0:</span><span class='ee-v'>5.131667297730312</span></li><li><span class='ee-k'>1:</span><span class='ee-v'>49.27083266377555</span></li></ul></li><li><label class='ee-shut'>24: [5.131667289849718, 49.279166700464714]<input type='checkbox' class='ee-toggle'></label><ul><li><span class='ee-k'>0:</span><span class='ee-v'>5.131667289849718</span></li><li><span class='ee-k'>1:</span><span class='ee-v'>49.279166700464714</span></li></ul></li><li><label class='ee-shut'>25: [5.14000136092369, 49.27916672398678]<input type='checkbox' class='ee-toggle'></label><ul><li><span class='ee-k'>0:</span><span class='ee-v'>5.14000136092369</span></li><li><span class='ee-k'>1:</span><span class='ee-v'>49.27916672398678</span></li></ul></li><li><label class='ee-shut'>26: [5.14000134447704, 49.27083261865356]<input type='checkbox' class='ee-toggle'></label><ul><li><span class='ee-k'>0:</span><span class='ee-v'>5.14000134447704</span></li><li><span class='ee-k'>1:</span><span class='ee-v'>49.27083261865356</span></li></ul></li><li><label class='ee-shut'>27: [5.164999056416703, 49.27083264112898]<input type='checkbox' class='ee-toggle'></label><ul><li><span class='ee-k'>0:</span><span class='ee-v'>5.164999056416703</span></li><li><span class='ee-k'>1:</span><span class='ee-v'>49.27083264112898</span></li></ul></li><li><label class='ee-shut'>28: [5.1649990666935155, 49.25416452250062]<input type='checkbox' class='ee-toggle'></label><ul><li><span class='ee-k'>0:</span><span class='ee-v'>5.1649990666935155</span></li><li><span class='ee-k'>1:</span><span class='ee-v'>49.25416452250062</span></li></ul></li><li><label class='ee-shut'>29: [5.156664955162261, 49.25416449776742]<input type='checkbox' class='ee-toggle'></label><ul><li><span class='ee-k'>0:</span><span class='ee-v'>5.156664955162261</span></li><li><span class='ee-k'>1:</span><span class='ee-v'>49.25416449776742</span></li></ul></li><li><label class='ee-shut'>30: [5.156665003463722, 49.23750087506599]<input type='checkbox' class='ee-toggle'></label><ul><li><span class='ee-k'>0:</span><span class='ee-v'>5.156665003463722</span></li><li><span class='ee-k'>1:</span><span class='ee-v'>49.23750087506599</span></li></ul></li><li><label class='ee-shut'>31: [5.164999082262695, 49.23750083868997]<input type='checkbox' class='ee-toggle'></label><ul><li><span class='ee-k'>0:</span><span class='ee-v'>5.164999082262695</span></li><li><span class='ee-k'>1:</span><span class='ee-v'>49.23750083868997</span></li></ul></li><li><label class='ee-shut'>32: [5.164999052813175, 49.22083276213413]<input type='checkbox' class='ee-toggle'></label><ul><li><span class='ee-k'>0:</span><span class='ee-v'>5.164999052813175</span></li><li><span class='ee-k'>1:</span><span class='ee-v'>49.22083276213413</span></li></ul></li><li><label class='ee-shut'>33: [5.17333311040699, 49.220832760051195]<input type='checkbox' class='ee-toggle'></label><ul><li><span class='ee-k'>0:</span><span class='ee-v'>5.17333311040699</span></li><li><span class='ee-k'>1:</span><span class='ee-v'>49.220832760051195</span></li></ul></li><li><label class='ee-shut'>34: [5.173333072413369, 49.21249868283359]<input type='checkbox' class='ee-toggle'></label><ul><li><span class='ee-k'>0:</span><span class='ee-v'>5.173333072413369</span></li><li><span class='ee-k'>1:</span><span class='ee-v'>49.21249868283359</span></li></ul></li><li><label class='ee-shut'>35: [5.190001244474833, 49.21249866832763]<input type='checkbox' class='ee-toggle'></label><ul><li><span class='ee-k'>0:</span><span class='ee-v'>5.190001244474833</span></li><li><span class='ee-k'>1:</span><span class='ee-v'>49.21249866832763</span></li></ul></li><li><label class='ee-shut'>36: [5.190001202651151, 49.19583501918062]<input type='checkbox' class='ee-toggle'></label><ul><li><span class='ee-k'>0:</span><span class='ee-v'>5.190001202651151</span></li><li><span class='ee-k'>1:</span><span class='ee-v'>49.19583501918062</span></li></ul></li><li><label class='ee-shut'>37: [5.1983353091358895, 49.19583501375347]<input type='checkbox' class='ee-toggle'></label><ul><li><span class='ee-k'>0:</span><span class='ee-v'>5.1983353091358895</span></li><li><span class='ee-k'>1:</span><span class='ee-v'>49.19583501375347</span></li></ul></li><li><label class='ee-shut'>38: [5.198335317179448, 49.170832796185664]<input type='checkbox' class='ee-toggle'></label><ul><li><span class='ee-k'>0:</span><span class='ee-v'>5.198335317179448</span></li><li><span class='ee-k'>1:</span><span class='ee-v'>49.170832796185664</span></li></ul></li><li><label class='ee-shut'>39: [5.223333030540355, 49.17083284758025]<input type='checkbox' class='ee-toggle'></label><ul><li><span class='ee-k'>0:</span><span class='ee-v'>5.223333030540355</span></li><li><span class='ee-k'>1:</span><span class='ee-v'>49.17083284758025</span></li></ul></li><li><label class='ee-shut'>40: [5.2233329925535745, 49.16249879413569]<input type='checkbox' class='ee-toggle'></label><ul><li><span class='ee-k'>0:</span><span class='ee-v'>5.2233329925535745</span></li><li><span class='ee-k'>1:</span><span class='ee-v'>49.16249879413569</span></li></ul></li><li><label class='ee-shut'>41: [5.231667036505761, 49.16249873539414]<input type='checkbox' class='ee-toggle'></label><ul><li><span class='ee-k'>0:</span><span class='ee-v'>5.231667036505761</span></li><li><span class='ee-k'>1:</span><span class='ee-v'>49.16249873539414</span></li></ul></li><li><label class='ee-shut'>42: [5.231667113158684, 49.15416473461959]<input type='checkbox' class='ee-toggle'></label><ul><li><span class='ee-k'>0:</span><span class='ee-v'>5.231667113158684</span></li><li><span class='ee-k'>1:</span><span class='ee-v'>49.15416473461959</span></li></ul></li><li><label class='ee-shut'>43: [5.2483351878734394, 49.154164683278935]<input type='checkbox' class='ee-toggle'></label><ul><li><span class='ee-k'>0:</span><span class='ee-v'>5.2483351878734394</span></li><li><span class='ee-k'>1:</span><span class='ee-v'>49.154164683278935</span></li></ul></li><li><label class='ee-shut'>44: [5.248335189679401, 49.129166989787265]<input type='checkbox' class='ee-toggle'></label><ul><li><span class='ee-k'>0:</span><span class='ee-v'>5.248335189679401</span></li><li><span class='ee-k'>1:</span><span class='ee-v'>49.129166989787265</span></li></ul></li><li><label class='ee-shut'>45: [5.264998807474853, 49.129167016106486]<input type='checkbox' class='ee-toggle'></label><ul><li><span class='ee-k'>0:</span><span class='ee-v'>5.264998807474853</span></li><li><span class='ee-k'>1:</span><span class='ee-v'>49.129167016106486</span></li></ul></li><li><label class='ee-shut'>46: [5.264998844495307, 49.095835243906414]<input type='checkbox' class='ee-toggle'></label><ul><li><span class='ee-k'>0:</span><span class='ee-v'>5.264998844495307</span></li><li><span class='ee-k'>1:</span><span class='ee-v'>49.095835243906414</span></li></ul></li><li><label class='ee-shut'>47: [5.281666961270607, 49.09583518095512]<input type='checkbox' class='ee-toggle'></label><ul><li><span class='ee-k'>0:</span><span class='ee-v'>5.281666961270607</span></li><li><span class='ee-k'>1:</span><span class='ee-v'>49.09583518095512</span></li></ul></li><li><label class='ee-shut'>48: [5.281666971541481, 49.07916710689494]<input type='checkbox' class='ee-toggle'></label><ul><li><span class='ee-k'>0:</span><span class='ee-v'>5.281666971541481</span></li><li><span class='ee-k'>1:</span><span class='ee-v'>49.07916710689494</span></li></ul></li><li><label class='ee-shut'>49: [5.290001011577104, 49.079167073900436]<input type='checkbox' class='ee-toggle'></label><ul><li><span class='ee-k'>0:</span><span class='ee-v'>5.290001011577104</span></li><li><span class='ee-k'>1:</span><span class='ee-v'>49.079167073900436</span></li></ul></li><li><label class='ee-shut'>50: [5.2900010373388024, 49.07083305212765]<input type='checkbox' class='ee-toggle'></label><ul><li><span class='ee-k'>0:</span><span class='ee-v'>5.2900010373388024</span></li><li><span class='ee-k'>1:</span><span class='ee-v'>49.07083305212765</span></li></ul></li><li><label class='ee-shut'>51: [5.281666992186776, 49.07083300248506]<input type='checkbox' class='ee-toggle'></label><ul><li><span class='ee-k'>0:</span><span class='ee-v'>5.281666992186776</span></li><li><span class='ee-k'>1:</span><span class='ee-v'>49.07083300248506</span></li></ul></li><li><label class='ee-shut'>52: [5.28166695124426, 49.06249896051103]<input type='checkbox' class='ee-toggle'></label><ul><li><span class='ee-k'>0:</span><span class='ee-v'>5.28166695124426</span></li><li><span class='ee-k'>1:</span><span class='ee-v'>49.06249896051103</span></li></ul></li><li><label class='ee-shut'>53: [5.314998750104934, 49.06249893984165]<input type='checkbox' class='ee-toggle'></label><ul><li><span class='ee-k'>0:</span><span class='ee-v'>5.314998750104934</span></li><li><span class='ee-k'>1:</span><span class='ee-v'>49.06249893984165</span></li></ul></li><li><label class='ee-shut'>54: [5.314998713352874, 49.037501256248405]<input type='checkbox' class='ee-toggle'></label><ul><li><span class='ee-k'>0:</span><span class='ee-v'>5.314998713352874</span></li><li><span class='ee-k'>1:</span><span class='ee-v'>49.037501256248405</span></li></ul></li><li><label class='ee-shut'>55: [5.3233328087447465, 49.03750123536154]<input type='checkbox' class='ee-toggle'></label><ul><li><span class='ee-k'>0:</span><span class='ee-v'>5.3233328087447465</span></li><li><span class='ee-k'>1:</span><span class='ee-v'>49.03750123536154</span></li></ul></li><li><label class='ee-shut'>56: [5.3233327782370035, 49.02916715589279]<input type='checkbox' class='ee-toggle'></label><ul><li><span class='ee-k'>0:</span><span class='ee-v'>5.3233327782370035</span></li><li><span class='ee-k'>1:</span><span class='ee-v'>49.02916715589279</span></li></ul></li><li><label class='ee-shut'>57: [5.314998782581703, 49.02916716708623]<input type='checkbox' class='ee-toggle'></label><ul><li><span class='ee-k'>0:</span><span class='ee-v'>5.314998782581703</span></li><li><span class='ee-k'>1:</span><span class='ee-v'>49.02916716708623</span></li></ul></li><li><label class='ee-shut'>58: [5.314998701924457, 49.01249903521827]<input type='checkbox' class='ee-toggle'></label><ul><li><span class='ee-k'>0:</span><span class='ee-v'>5.314998701924457</span></li><li><span class='ee-k'>1:</span><span class='ee-v'>49.01249903521827</span></li></ul></li><li><label class='ee-shut'>59: [5.29000102944463, 49.01249908834076]<input type='checkbox' class='ee-toggle'></label><ul><li><span class='ee-k'>0:</span><span class='ee-v'>5.29000102944463</span></li><li><span class='ee-k'>1:</span><span class='ee-v'>49.01249908834076</span></li></ul></li><li><label class='ee-shut'>60: [5.290001003452554, 49.00416502549742]<input type='checkbox' class='ee-toggle'></label><ul><li><span class='ee-k'>0:</span><span class='ee-v'>5.290001003452554</span></li><li><span class='ee-k'>1:</span><span class='ee-v'>49.00416502549742</span></li></ul></li><li><label class='ee-shut'>61: [5.28166696986889, 49.00416500814067]<input type='checkbox' class='ee-toggle'></label><ul><li><span class='ee-k'>0:</span><span class='ee-v'>5.28166696986889</span></li><li><span class='ee-k'>1:</span><span class='ee-v'>49.00416500814067</span></li></ul></li><li><label class='ee-shut'>62: [5.281667013578316, 48.98750138598099]<input type='checkbox' class='ee-toggle'></label><ul><li><span class='ee-k'>0:</span><span class='ee-v'>5.281667013578316</span></li><li><span class='ee-k'>1:</span><span class='ee-v'>48.98750138598099</span></li></ul></li><li><label class='ee-shut'>63: [5.306664644436861, 48.98750133662882]<input type='checkbox' class='ee-toggle'></label><ul><li><span class='ee-k'>0:</span><span class='ee-v'>5.306664644436861</span></li><li><span class='ee-k'>1:</span><span class='ee-v'>48.98750133662882</span></li></ul></li><li><label class='ee-shut'>64: [5.30666465056739, 48.97916732712929]<input type='checkbox' class='ee-toggle'></label><ul><li><span class='ee-k'>0:</span><span class='ee-v'>5.30666465056739</span></li><li><span class='ee-k'>1:</span><span class='ee-v'>48.97916732712929</span></li></ul></li><li><label class='ee-shut'>65: [5.323332767285462, 48.97916726759199]<input type='checkbox' class='ee-toggle'></label><ul><li><span class='ee-k'>0:</span><span class='ee-v'>5.323332767285462</span></li><li><span class='ee-k'>1:</span><span class='ee-v'>48.97916726759199</span></li></ul></li><li><label class='ee-shut'>66: [5.323332853031821, 48.97083325531993]<input type='checkbox' class='ee-toggle'></label><ul><li><span class='ee-k'>0:</span><span class='ee-v'>5.323332853031821</span></li><li><span class='ee-k'>1:</span><span class='ee-v'>48.97083325531993</span></li></ul></li><li><label class='ee-shut'>67: [5.340000899284842, 48.97083326918675]<input type='checkbox' class='ee-toggle'></label><ul><li><span class='ee-k'>0:</span><span class='ee-v'>5.340000899284842</span></li><li><span class='ee-k'>1:</span><span class='ee-v'>48.97083326918675</span></li></ul></li><li><label class='ee-shut'>68: [5.3400009602458205, 48.96249918208492]<input type='checkbox' class='ee-toggle'></label><ul><li><span class='ee-k'>0:</span><span class='ee-v'>5.3400009602458205</span></li><li><span class='ee-k'>1:</span><span class='ee-v'>48.96249918208492</span></li></ul></li><li><label class='ee-shut'>69: [5.356664613073173, 48.962499160626514]<input type='checkbox' class='ee-toggle'></label><ul><li><span class='ee-k'>0:</span><span class='ee-v'>5.356664613073173</span></li><li><span class='ee-k'>1:</span><span class='ee-v'>48.962499160626514</span></li></ul></li><li><label class='ee-shut'>70: [5.356664567283321, 48.937501443339144]<input type='checkbox' class='ee-toggle'></label><ul><li><span class='ee-k'>0:</span><span class='ee-v'>5.356664567283321</span></li><li><span class='ee-k'>1:</span><span class='ee-v'>48.937501443339144</span></li></ul></li><li><label class='ee-shut'>71: [5.390000821162531, 48.93750144760121]<input type='checkbox' class='ee-toggle'></label><ul><li><span class='ee-k'>0:</span><span class='ee-v'>5.390000821162531</span></li><li><span class='ee-k'>1:</span><span class='ee-v'>48.93750144760121</span></li></ul></li><li><label class='ee-shut'>72: [5.390000842033412, 48.92083334863998]<input type='checkbox' class='ee-toggle'></label><ul><li><span class='ee-k'>0:</span><span class='ee-v'>5.390000842033412</span></li><li><span class='ee-k'>1:</span><span class='ee-v'>48.92083334863998</span></li></ul></li><li><label class='ee-shut'>73: [5.3983348514087535, 48.92083330012917]<input type='checkbox' class='ee-toggle'></label><ul><li><span class='ee-k'>0:</span><span class='ee-v'>5.3983348514087535</span></li><li><span class='ee-k'>1:</span><span class='ee-v'>48.92083330012917</span></li></ul></li><li><label class='ee-shut'>74: [5.398334918142141, 48.912499284132736]<input type='checkbox' class='ee-toggle'></label><ul><li><span class='ee-k'>0:</span><span class='ee-v'>5.398334918142141</span></li><li><span class='ee-k'>1:</span><span class='ee-v'>48.912499284132736</span></li></ul></li><li><label class='ee-shut'>75: [5.381666719279978, 48.91249924166018]<input type='checkbox' class='ee-toggle'></label><ul><li><span class='ee-k'>0:</span><span class='ee-v'>5.381666719279978</span></li><li><span class='ee-k'>1:</span><span class='ee-v'>48.91249924166018</span></li></ul></li><li><label class='ee-shut'>76: [5.381666723204716, 48.90416521732618]<input type='checkbox' class='ee-toggle'></label><ul><li><span class='ee-k'>0:</span><span class='ee-v'>5.381666723204716</span></li><li><span class='ee-k'>1:</span><span class='ee-v'>48.90416521732618</span></li></ul></li><li><label class='ee-shut'>77: [5.373332743794009, 48.904165207572106]<input type='checkbox' class='ee-toggle'></label><ul><li><span class='ee-k'>0:</span><span class='ee-v'>5.373332743794009</span></li><li><span class='ee-k'>1:</span><span class='ee-v'>48.904165207572106</span></li></ul></li><li><label class='ee-shut'>78: [5.3733327219089615, 48.887501536456604]<input type='checkbox' class='ee-toggle'></label><ul><li><span class='ee-k'>0:</span><span class='ee-v'>5.3733327219089615</span></li><li><span class='ee-k'>1:</span><span class='ee-v'>48.887501536456604</span></li></ul></li><li><label class='ee-shut'>79: [5.381666770080223, 48.88750155138272]<input type='checkbox' class='ee-toggle'></label><ul><li><span class='ee-k'>0:</span><span class='ee-v'>5.381666770080223</span></li><li><span class='ee-k'>1:</span><span class='ee-v'>48.88750155138272</span></li></ul></li><li><label class='ee-shut'>80: [5.381666734699211, 48.87083341601198]<input type='checkbox' class='ee-toggle'></label><ul><li><span class='ee-k'>0:</span><span class='ee-v'>5.381666734699211</span></li><li><span class='ee-k'>1:</span><span class='ee-v'>48.87083341601198</span></li></ul></li><li><label class='ee-shut'>81: [5.390000864316228, 48.870833449042564]<input type='checkbox' class='ee-toggle'></label><ul><li><span class='ee-k'>0:</span><span class='ee-v'>5.390000864316228</span></li><li><span class='ee-k'>1:</span><span class='ee-v'>48.870833449042564</span></li></ul></li><li><label class='ee-shut'>82: [5.390000794758304, 48.8624993498309]<input type='checkbox' class='ee-toggle'></label><ul><li><span class='ee-k'>0:</span><span class='ee-v'>5.390000794758304</span></li><li><span class='ee-k'>1:</span><span class='ee-v'>48.8624993498309</span></li></ul></li><li><label class='ee-shut'>83: [5.406664490670488, 48.86249937034238]<input type='checkbox' class='ee-toggle'></label><ul><li><span class='ee-k'>0:</span><span class='ee-v'>5.406664490670488</span></li><li><span class='ee-k'>1:</span><span class='ee-v'>48.86249937034238</span></li></ul></li><li><label class='ee-shut'>84: [5.40666449726032, 48.854165276685734]<input type='checkbox' class='ee-toggle'></label><ul><li><span class='ee-k'>0:</span><span class='ee-v'>5.40666449726032</span></li><li><span class='ee-k'>1:</span><span class='ee-v'>48.854165276685734</span></li></ul></li><li><label class='ee-shut'>85: [5.414998544009215, 48.85416528506928]<input type='checkbox' class='ee-toggle'></label><ul><li><span class='ee-k'>0:</span><span class='ee-v'>5.414998544009215</span></li><li><span class='ee-k'>1:</span><span class='ee-v'>48.85416528506928</span></li></ul></li><li><label class='ee-shut'>86: [5.414998561132241, 48.84583127370005]<input type='checkbox' class='ee-toggle'></label><ul><li><span class='ee-k'>0:</span><span class='ee-v'>5.414998561132241</span></li><li><span class='ee-k'>1:</span><span class='ee-v'>48.84583127370005</span></li></ul></li><li><label class='ee-shut'>87: [5.456668816879342, 48.84583122382161]<input type='checkbox' class='ee-toggle'></label><ul><li><span class='ee-k'>0:</span><span class='ee-v'>5.456668816879342</span></li><li><span class='ee-k'>1:</span><span class='ee-v'>48.84583122382161</span></li></ul></li><li><label class='ee-shut'>88: [5.456668814730987, 48.837501620514594]<input type='checkbox' class='ee-toggle'></label><ul><li><span class='ee-k'>0:</span><span class='ee-v'>5.456668814730987</span></li><li><span class='ee-k'>1:</span><span class='ee-v'>48.837501620514594</span></li></ul></li><li><label class='ee-shut'>89: [5.464998434911336, 48.83750161705712]<input type='checkbox' class='ee-toggle'></label><ul><li><span class='ee-k'>0:</span><span class='ee-v'>5.464998434911336</span></li><li><span class='ee-k'>1:</span><span class='ee-v'>48.83750161705712</span></li></ul></li><li><label class='ee-shut'>90: [5.464998442695061, 48.84583121702841]<input type='checkbox' class='ee-toggle'></label><ul><li><span class='ee-k'>0:</span><span class='ee-v'>5.464998442695061</span></li><li><span class='ee-k'>1:</span><span class='ee-v'>48.84583121702841</span></li></ul></li><li><label class='ee-shut'>91: [5.506668764465976, 48.845831255190035]<input type='checkbox' class='ee-toggle'></label><ul><li><span class='ee-k'>0:</span><span class='ee-v'>5.506668764465976</span></li><li><span class='ee-k'>1:</span><span class='ee-v'>48.845831255190035</span></li></ul></li><li><label class='ee-shut'>92: [5.506668753211638, 48.85416531028088]<input type='checkbox' class='ee-toggle'></label><ul><li><span class='ee-k'>0:</span><span class='ee-v'>5.506668753211638</span></li><li><span class='ee-k'>1:</span><span class='ee-v'>48.85416531028088</span></li></ul></li><li><label class='ee-shut'>93: [5.5233324312032925, 48.85416533440157]<input type='checkbox' class='ee-toggle'></label><ul><li><span class='ee-k'>0:</span><span class='ee-v'>5.5233324312032925</span></li><li><span class='ee-k'>1:</span><span class='ee-v'>48.85416533440157</span></li></ul></li><li><label class='ee-shut'>94: [5.523332421979755, 48.879167493801255]<input type='checkbox' class='ee-toggle'></label><ul><li><span class='ee-k'>0:</span><span class='ee-v'>5.523332421979755</span></li><li><span class='ee-k'>1:</span><span class='ee-v'>48.879167493801255</span></li></ul></li><li><label class='ee-shut'>95: [5.548334627888304, 48.87916748521863]<input type='checkbox' class='ee-toggle'></label><ul><li><span class='ee-k'>0:</span><span class='ee-v'>5.548334627888304</span></li><li><span class='ee-k'>1:</span><span class='ee-v'>48.87916748521863</span></li></ul></li><li><label class='ee-shut'>96: [5.548334628030354, 48.870833437505425]<input type='checkbox' class='ee-toggle'></label><ul><li><span class='ee-k'>0:</span><span class='ee-v'>5.548334628030354</span></li><li><span class='ee-k'>1:</span><span class='ee-v'>48.870833437505425</span></li></ul></li><li><label class='ee-shut'>97: [5.564998264062054, 48.870833438573534]<input type='checkbox' class='ee-toggle'></label><ul><li><span class='ee-k'>0:</span><span class='ee-v'>5.564998264062054</span></li><li><span class='ee-k'>1:</span><span class='ee-v'>48.870833438573534</span></li></ul></li><li><label class='ee-shut'>98: [5.5649982666083595, 48.86249939465742]<input type='checkbox' class='ee-toggle'></label><ul><li><span class='ee-k'>0:</span><span class='ee-v'>5.5649982666083595</span></li><li><span class='ee-k'>1:</span><span class='ee-v'>48.86249939465742</span></li></ul></li><li><label class='ee-shut'>99: [5.573332281501756, 48.86249934991556]<input type='checkbox' class='ee-toggle'></label><ul><li><span class='ee-k'>0:</span><span class='ee-v'>5.573332281501756</span></li><li><span class='ee-k'>1:</span><span class='ee-v'>48.86249934991556</span></li></ul></li><li><label class='ee-shut'>100: [5.573332292420338, 48.8708334686629]<input type='checkbox' class='ee-toggle'></label><ul><li><span class='ee-k'>0:</span><span class='ee-v'>5.573332292420338</span></li><li><span class='ee-k'>1:</span><span class='ee-v'>48.8708334686629</span></li></ul></li><li><label class='ee-shut'>101: [5.581666402044292, 48.87083343137778]<input type='checkbox' class='ee-toggle'></label><ul><li><span class='ee-k'>0:</span><span class='ee-v'>5.581666402044292</span></li><li><span class='ee-k'>1:</span><span class='ee-v'>48.87083343137778</span></li></ul></li><li><label class='ee-shut'>102: [5.581666408321809, 48.86249939025295]<input type='checkbox' class='ee-toggle'></label><ul><li><span class='ee-k'>0:</span><span class='ee-v'>5.581666408321809</span></li><li><span class='ee-k'>1:</span><span class='ee-v'>48.86249939025295</span></li></ul></li><li><label class='ee-shut'>103: [5.59000043495574, 48.862499371889804]<input type='checkbox' class='ee-toggle'></label><ul><li><span class='ee-k'>0:</span><span class='ee-v'>5.59000043495574</span></li><li><span class='ee-k'>1:</span><span class='ee-v'>48.862499371889804</span></li></ul></li><li><label class='ee-shut'>104: [5.590000425854102, 48.87083341183279]<input type='checkbox' class='ee-toggle'></label><ul><li><span class='ee-k'>0:</span><span class='ee-v'>5.590000425854102</span></li><li><span class='ee-k'>1:</span><span class='ee-v'>48.87083341183279</span></li></ul></li><li><label class='ee-shut'>105: [5.614998115192917, 48.87083341708687]<input type='checkbox' class='ee-toggle'></label><ul><li><span class='ee-k'>0:</span><span class='ee-v'>5.614998115192917</span></li><li><span class='ee-k'>1:</span><span class='ee-v'>48.87083341708687</span></li></ul></li><li><label class='ee-shut'>106: [5.61499818013263, 48.87916745050004]<input type='checkbox' class='ee-toggle'></label><ul><li><span class='ee-k'>0:</span><span class='ee-v'>5.61499818013263</span></li><li><span class='ee-k'>1:</span><span class='ee-v'>48.87916745050004</span></li></ul></li><li><label class='ee-shut'>107: [5.6316662333597005, 48.87916745540709]<input type='checkbox' class='ee-toggle'></label><ul><li><span class='ee-k'>0:</span><span class='ee-v'>5.6316662333597005</span></li><li><span class='ee-k'>1:</span><span class='ee-v'>48.87916745540709</span></li></ul></li><li><label class='ee-shut'>108: [5.631666297090186, 48.887501563901026]<input type='checkbox' class='ee-toggle'></label><ul><li><span class='ee-k'>0:</span><span class='ee-v'>5.631666297090186</span></li><li><span class='ee-k'>1:</span><span class='ee-v'>48.887501563901026</span></li></ul></li><li><label class='ee-shut'>109: [5.640000311526424, 48.88750154832136]<input type='checkbox' class='ee-toggle'></label><ul><li><span class='ee-k'>0:</span><span class='ee-v'>5.640000311526424</span></li><li><span class='ee-k'>1:</span><span class='ee-v'>48.88750154832136</span></li></ul></li><li><label class='ee-shut'>110: [5.640000299598726, 48.895831188569005]<input type='checkbox' class='ee-toggle'></label><ul><li><span class='ee-k'>0:</span><span class='ee-v'>5.640000299598726</span></li><li><span class='ee-k'>1:</span><span class='ee-v'>48.895831188569005</span></li></ul></li><li><label class='ee-shut'>111: [5.648334396036216, 48.89583118220285]<input type='checkbox' class='ee-toggle'></label><ul><li><span class='ee-k'>0:</span><span class='ee-v'>5.648334396036216</span></li><li><span class='ee-k'>1:</span><span class='ee-v'>48.89583118220285</span></li></ul></li><li><label class='ee-shut'>112: [5.648334419006375, 48.90416521066173]<input type='checkbox' class='ee-toggle'></label><ul><li><span class='ee-k'>0:</span><span class='ee-v'>5.648334419006375</span></li><li><span class='ee-k'>1:</span><span class='ee-v'>48.90416521066173</span></li></ul></li><li><label class='ee-shut'>113: [5.6566684144827635, 48.90416522272851]<input type='checkbox' class='ee-toggle'></label><ul><li><span class='ee-k'>0:</span><span class='ee-v'>5.6566684144827635</span></li><li><span class='ee-k'>1:</span><span class='ee-v'>48.90416522272851</span></li></ul></li><li><label class='ee-shut'>114: [5.65666842243514, 48.91249924875799]<input type='checkbox' class='ee-toggle'></label><ul><li><span class='ee-k'>0:</span><span class='ee-v'>5.65666842243514</span></li><li><span class='ee-k'>1:</span><span class='ee-v'>48.91249924875799</span></li></ul></li><li><label class='ee-shut'>115: [5.664998079303328, 48.912499256436504]<input type='checkbox' class='ee-toggle'></label><ul><li><span class='ee-k'>0:</span><span class='ee-v'>5.664998079303328</span></li><li><span class='ee-k'>1:</span><span class='ee-v'>48.912499256436504</span></li></ul></li><li><label class='ee-shut'>116: [5.664998084928889, 48.920833355812306]<input type='checkbox' class='ee-toggle'></label><ul><li><span class='ee-k'>0:</span><span class='ee-v'>5.664998084928889</span></li><li><span class='ee-k'>1:</span><span class='ee-v'>48.920833355812306</span></li></ul></li><li><label class='ee-shut'>117: [5.673332129260861, 48.92083331633751]<input type='checkbox' class='ee-toggle'></label><ul><li><span class='ee-k'>0:</span><span class='ee-v'>5.673332129260861</span></li><li><span class='ee-k'>1:</span><span class='ee-v'>48.92083331633751</span></li></ul></li><li><label class='ee-shut'>118: [5.673332116988633, 48.92916741210561]<input type='checkbox' class='ee-toggle'></label><ul><li><span class='ee-k'>0:</span><span class='ee-v'>5.673332116988633</span></li><li><span class='ee-k'>1:</span><span class='ee-v'>48.92916741210561</span></li></ul></li><li><label class='ee-shut'>119: [5.68166614499454, 48.92916738757939]<input type='checkbox' class='ee-toggle'></label><ul><li><span class='ee-k'>0:</span><span class='ee-v'>5.68166614499454</span></li><li><span class='ee-k'>1:</span><span class='ee-v'>48.92916738757939</span></li></ul></li><li><label class='ee-shut'>120: [5.681666204532473, 48.93750147465407]<input type='checkbox' class='ee-toggle'></label><ul><li><span class='ee-k'>0:</span><span class='ee-v'>5.681666204532473</span></li><li><span class='ee-k'>1:</span><span class='ee-v'>48.93750147465407</span></li></ul></li><li><label class='ee-shut'>121: [5.673332083223725, 48.937501426781964]<input type='checkbox' class='ee-toggle'></label><ul><li><span class='ee-k'>0:</span><span class='ee-v'>5.673332083223725</span></li><li><span class='ee-k'>1:</span><span class='ee-v'>48.937501426781964</span></li></ul></li><li><label class='ee-shut'>122: [5.67333215438657, 48.970833242053004]<input type='checkbox' class='ee-toggle'></label><ul><li><span class='ee-k'>0:</span><span class='ee-v'>5.67333215438657</span></li><li><span class='ee-k'>1:</span><span class='ee-v'>48.970833242053004</span></li></ul></li><li><label class='ee-shut'>123: [5.681666202148513, 48.97083321574178]<input type='checkbox' class='ee-toggle'></label><ul><li><span class='ee-k'>0:</span><span class='ee-v'>5.681666202148513</span></li><li><span class='ee-k'>1:</span><span class='ee-v'>48.97083321574178</span></li></ul></li><li><label class='ee-shut'>124: [5.681666138188708, 48.97916727158951]<input type='checkbox' class='ee-toggle'></label><ul><li><span class='ee-k'>0:</span><span class='ee-v'>5.681666138188708</span></li><li><span class='ee-k'>1:</span><span class='ee-v'>48.97916727158951</span></li></ul></li><li><label class='ee-shut'>125: [5.673332105789507, 48.979167297317375]<input type='checkbox' class='ee-toggle'></label><ul><li><span class='ee-k'>0:</span><span class='ee-v'>5.673332105789507</span></li><li><span class='ee-k'>1:</span><span class='ee-v'>48.979167297317375</span></li></ul></li><li><label class='ee-shut'>126: [5.673332142563911, 48.9875013387589]<input type='checkbox' class='ee-toggle'></label><ul><li><span class='ee-k'>0:</span><span class='ee-v'>5.673332142563911</span></li><li><span class='ee-k'>1:</span><span class='ee-v'>48.9875013387589</span></li></ul></li><li><label class='ee-shut'>127: [5.6483343477975545, 48.98750137418696]<input type='checkbox' class='ee-toggle'></label><ul><li><span class='ee-k'>0:</span><span class='ee-v'>5.6483343477975545</span></li><li><span class='ee-k'>1:</span><span class='ee-v'>48.98750137418696</span></li></ul></li><li><label class='ee-shut'>128: [5.648334424760545, 48.99583540456927]<input type='checkbox' class='ee-toggle'></label><ul><li><span class='ee-k'>0:</span><span class='ee-v'>5.648334424760545</span></li><li><span class='ee-k'>1:</span><span class='ee-v'>48.99583540456927</span></li></ul></li><li><label class='ee-shut'>129: [5.640000282908801, 48.995835420394606]<input type='checkbox' class='ee-toggle'></label><ul><li><span class='ee-k'>0:</span><span class='ee-v'>5.640000282908801</span></li><li><span class='ee-k'>1:</span><span class='ee-v'>48.995835420394606</span></li></ul></li><li><label class='ee-shut'>130: [5.640000313132565, 49.01249905222745]<input type='checkbox' class='ee-toggle'></label><ul><li><span class='ee-k'>0:</span><span class='ee-v'>5.640000313132565</span></li><li><span class='ee-k'>1:</span><span class='ee-v'>49.01249905222745</span></li></ul></li><li><label class='ee-shut'>131: [5.606668528852979, 49.01249904377777]<input type='checkbox' class='ee-toggle'></label><ul><li><span class='ee-k'>0:</span><span class='ee-v'>5.606668528852979</span></li><li><span class='ee-k'>1:</span><span class='ee-v'>49.01249904377777</span></li></ul></li><li><label class='ee-shut'>132: [5.606668586284013, 49.02083312052429]<input type='checkbox' class='ee-toggle'></label><ul><li><span class='ee-k'>0:</span><span class='ee-v'>5.606668586284013</span></li><li><span class='ee-k'>1:</span><span class='ee-v'>49.02083312052429</span></li></ul></li><li><label class='ee-shut'>133: [5.598334522349775, 49.02083313593766]<input type='checkbox' class='ee-toggle'></label><ul><li><span class='ee-k'>0:</span><span class='ee-v'>5.598334522349775</span></li><li><span class='ee-k'>1:</span><span class='ee-v'>49.02083313593766</span></li></ul></li><li><label class='ee-shut'>134: [5.598334498545398, 49.0291672044964]<input type='checkbox' class='ee-toggle'></label><ul><li><span class='ee-k'>0:</span><span class='ee-v'>5.598334498545398</span></li><li><span class='ee-k'>1:</span><span class='ee-v'>49.0291672044964</span></li></ul></li><li><label class='ee-shut'>135: [5.58166635716142, 49.029167208537295]<input type='checkbox' class='ee-toggle'></label><ul><li><span class='ee-k'>0:</span><span class='ee-v'>5.58166635716142</span></li><li><span class='ee-k'>1:</span><span class='ee-v'>49.029167208537295</span></li></ul></li><li><label class='ee-shut'>136: [5.58166635515478, 49.037501264736534]<input type='checkbox' class='ee-toggle'></label><ul><li><span class='ee-k'>0:</span><span class='ee-v'>5.58166635515478</span></li><li><span class='ee-k'>1:</span><span class='ee-v'>49.037501264736534</span></li></ul></li><li><label class='ee-shut'>137: [5.573332277144099, 49.03750125373625]<input type='checkbox' class='ee-toggle'></label><ul><li><span class='ee-k'>0:</span><span class='ee-v'>5.573332277144099</span></li><li><span class='ee-k'>1:</span><span class='ee-v'>49.03750125373625</span></li></ul></li><li><label class='ee-shut'>138: [5.57333234693613, 49.054164915297704]<input type='checkbox' class='ee-toggle'></label><ul><li><span class='ee-k'>0:</span><span class='ee-v'>5.57333234693613</span></li><li><span class='ee-k'>1:</span><span class='ee-v'>49.054164915297704</span></li></ul></li><li><label class='ee-shut'>139: [5.564998284680271, 49.054164922899865]<input type='checkbox' class='ee-toggle'></label><ul><li><span class='ee-k'>0:</span><span class='ee-v'>5.564998284680271</span></li><li><span class='ee-k'>1:</span><span class='ee-v'>49.054164922899865</span></li></ul></li><li><label class='ee-shut'>140: [5.5649982472089325, 49.07083300848599]<input type='checkbox' class='ee-toggle'></label><ul><li><span class='ee-k'>0:</span><span class='ee-v'>5.5649982472089325</span></li><li><span class='ee-k'>1:</span><span class='ee-v'>49.07083300848599</span></li></ul></li><li><label class='ee-shut'>141: [5.556668630282098, 49.07083305374994]<input type='checkbox' class='ee-toggle'></label><ul><li><span class='ee-k'>0:</span><span class='ee-v'>5.556668630282098</span></li><li><span class='ee-k'>1:</span><span class='ee-v'>49.07083305374994</span></li></ul></li><li><label class='ee-shut'>142: [5.556668677961997, 49.07916710738567]<input type='checkbox' class='ee-toggle'></label><ul><li><span class='ee-k'>0:</span><span class='ee-v'>5.556668677961997</span></li><li><span class='ee-k'>1:</span><span class='ee-v'>49.07916710738567</span></li></ul></li><li><label class='ee-shut'>143: [5.5483346165668195, 49.079167076098884]<input type='checkbox' class='ee-toggle'></label><ul><li><span class='ee-k'>0:</span><span class='ee-v'>5.5483346165668195</span></li><li><span class='ee-k'>1:</span><span class='ee-v'>49.079167076098884</span></li></ul></li><li><label class='ee-shut'>144: [5.54833456977971, 49.095835214681436]<input type='checkbox' class='ee-toggle'></label><ul><li><span class='ee-k'>0:</span><span class='ee-v'>5.54833456977971</span></li><li><span class='ee-k'>1:</span><span class='ee-v'>49.095835214681436</span></li></ul></li><li><label class='ee-shut'>145: [5.52333239655685, 49.09583523236097]<input type='checkbox' class='ee-toggle'></label><ul><li><span class='ee-k'>0:</span><span class='ee-v'>5.52333239655685</span></li><li><span class='ee-k'>1:</span><span class='ee-v'>49.09583523236097</span></li></ul></li><li><label class='ee-shut'>146: [5.523332370205832, 49.10416483119008]<input type='checkbox' class='ee-toggle'></label><ul><li><span class='ee-k'>0:</span><span class='ee-v'>5.523332370205832</span></li><li><span class='ee-k'>1:</span><span class='ee-v'>49.10416483119008</span></li></ul></li><li><label class='ee-shut'>147: [5.514998381537315, 49.10416479233936]<input type='checkbox' class='ee-toggle'></label><ul><li><span class='ee-k'>0:</span><span class='ee-v'>5.514998381537315</span></li><li><span class='ee-k'>1:</span><span class='ee-v'>49.10416479233936</span></li></ul></li><li><label class='ee-shut'>148: [5.514998322374072, 49.11249885960041]<input type='checkbox' class='ee-toggle'></label><ul><li><span class='ee-k'>0:</span><span class='ee-v'>5.514998322374072</span></li><li><span class='ee-k'>1:</span><span class='ee-v'>49.11249885960041</span></li></ul></li><li><label class='ee-shut'>149: [5.498334677739249, 49.11249886330734]<input type='checkbox' class='ee-toggle'></label><ul><li><span class='ee-k'>0:</span><span class='ee-v'>5.498334677739249</span></li><li><span class='ee-k'>1:</span><span class='ee-v'>49.11249886330734</span></li></ul></li><li><label class='ee-shut'>150: [5.498334642386916, 49.120832913030576]<input type='checkbox' class='ee-toggle'></label><ul><li><span class='ee-k'>0:</span><span class='ee-v'>5.498334642386916</span></li><li><span class='ee-k'>1:</span><span class='ee-v'>49.120832913030576</span></li></ul></li><li><label class='ee-shut'>151: [5.490000644294881, 49.12083293103171]<input type='checkbox' class='ee-toggle'></label><ul><li><span class='ee-k'>0:</span><span class='ee-v'>5.490000644294881</span></li><li><span class='ee-k'>1:</span><span class='ee-v'>49.12083293103171</span></li></ul></li><li><label class='ee-shut'>152: [5.49000061939872, 49.13750104321007]<input type='checkbox' class='ee-toggle'></label><ul><li><span class='ee-k'>0:</span><span class='ee-v'>5.49000061939872</span></li><li><span class='ee-k'>1:</span><span class='ee-v'>49.13750104321007</span></li></ul></li><li><label class='ee-shut'>153: [5.48166653852287, 49.137501088062955]<input type='checkbox' class='ee-toggle'></label><ul><li><span class='ee-k'>0:</span><span class='ee-v'>5.48166653852287</span></li><li><span class='ee-k'>1:</span><span class='ee-v'>49.137501088062955</span></li></ul></li><li><label class='ee-shut'>154: [5.481666549719376, 49.14583514911165]<input type='checkbox' class='ee-toggle'></label><ul><li><span class='ee-k'>0:</span><span class='ee-v'>5.481666549719376</span></li><li><span class='ee-k'>1:</span><span class='ee-v'>49.14583514911165</span></li></ul></li><li><label class='ee-shut'>155: [5.473332544406328, 49.145835133327715]<input type='checkbox' class='ee-toggle'></label><ul><li><span class='ee-k'>0:</span><span class='ee-v'>5.473332544406328</span></li><li><span class='ee-k'>1:</span><span class='ee-v'>49.145835133327715</span></li></ul></li><li><label class='ee-shut'>156: [5.4733325317084995, 49.15416468416324]<input type='checkbox' class='ee-toggle'></label><ul><li><span class='ee-k'>0:</span><span class='ee-v'>5.4733325317084995</span></li><li><span class='ee-k'>1:</span><span class='ee-v'>49.15416468416324</span></li></ul></li><li><label class='ee-shut'>157: [5.464998434693669, 49.154164693342494]<input type='checkbox' class='ee-toggle'></label><ul><li><span class='ee-k'>0:</span><span class='ee-v'>5.464998434693669</span></li><li><span class='ee-k'>1:</span><span class='ee-v'>49.154164693342494</span></li></ul></li><li><label class='ee-shut'>158: [5.464998459039902, 49.170832854776805]<input type='checkbox' class='ee-toggle'></label><ul><li><span class='ee-k'>0:</span><span class='ee-v'>5.464998459039902</span></li><li><span class='ee-k'>1:</span><span class='ee-v'>49.170832854776805</span></li></ul></li><li><label class='ee-shut'>159: [5.456668882924301, 49.17083282928152]<input type='checkbox' class='ee-toggle'></label><ul><li><span class='ee-k'>0:</span><span class='ee-v'>5.456668882924301</span></li><li><span class='ee-k'>1:</span><span class='ee-v'>49.17083282928152</span></li></ul></li><li><label class='ee-shut'>160: [5.456668868805122, 49.1791668745026]<input type='checkbox' class='ee-toggle'></label><ul><li><span class='ee-k'>0:</span><span class='ee-v'>5.456668868805122</span></li><li><span class='ee-k'>1:</span><span class='ee-v'>49.1791668745026</span></li></ul></li><li><label class='ee-shut'>161: [5.464998434369919, 49.179166897156435]<input type='checkbox' class='ee-toggle'></label><ul><li><span class='ee-k'>0:</span><span class='ee-v'>5.464998434369919</span></li><li><span class='ee-k'>1:</span><span class='ee-v'>49.179166897156435</span></li></ul></li><li><label class='ee-shut'>162: [5.46499843053969, 49.18750098825611]<input type='checkbox' class='ee-toggle'></label><ul><li><span class='ee-k'>0:</span><span class='ee-v'>5.46499843053969</span></li><li><span class='ee-k'>1:</span><span class='ee-v'>49.18750098825611</span></li></ul></li><li><label class='ee-shut'>163: [5.440000758143026, 49.18750094437533]<input type='checkbox' class='ee-toggle'></label><ul><li><span class='ee-k'>0:</span><span class='ee-v'>5.440000758143026</span></li><li><span class='ee-k'>1:</span><span class='ee-v'>49.18750094437533</span></li></ul></li><li><label class='ee-shut'>164: [5.440000698754965, 49.195835019935075]<input type='checkbox' class='ee-toggle'></label><ul><li><span class='ee-k'>0:</span><span class='ee-v'>5.440000698754965</span></li><li><span class='ee-k'>1:</span><span class='ee-v'>49.195835019935075</span></li></ul></li><li><label class='ee-shut'>165: [5.431666676430357, 49.19583503682561]<input type='checkbox' class='ee-toggle'></label><ul><li><span class='ee-k'>0:</span><span class='ee-v'>5.431666676430357</span></li><li><span class='ee-k'>1:</span><span class='ee-v'>49.19583503682561</span></li></ul></li><li><label class='ee-shut'>166: [5.431666692875275, 49.20416458984163]<input type='checkbox' class='ee-toggle'></label><ul><li><span class='ee-k'>0:</span><span class='ee-v'>5.431666692875275</span></li><li><span class='ee-k'>1:</span><span class='ee-v'>49.20416458984163</span></li></ul></li><li><label class='ee-shut'>167: [5.423332576547125, 49.20416463308399]<input type='checkbox' class='ee-toggle'></label><ul><li><span class='ee-k'>0:</span><span class='ee-v'>5.423332576547125</span></li><li><span class='ee-k'>1:</span><span class='ee-v'>49.20416463308399</span></li></ul></li><li><label class='ee-shut'>168: [5.423332641411681, 49.21249865038234]<input type='checkbox' class='ee-toggle'></label><ul><li><span class='ee-k'>0:</span><span class='ee-v'>5.423332641411681</span></li><li><span class='ee-k'>1:</span><span class='ee-v'>49.21249865038234</span></li></ul></li><li><label class='ee-shut'>169: [5.440000767139654, 49.212498657143875]<input type='checkbox' class='ee-toggle'></label><ul><li><span class='ee-k'>0:</span><span class='ee-v'>5.440000767139654</span></li><li><span class='ee-k'>1:</span><span class='ee-v'>49.212498657143875</span></li></ul></li><li><label class='ee-shut'>170: [5.44000074505709, 49.22916682336807]<input type='checkbox' class='ee-toggle'></label><ul><li><span class='ee-k'>0:</span><span class='ee-v'>5.44000074505709</span></li><li><span class='ee-k'>1:</span><span class='ee-v'>49.22916682336807</span></li></ul></li><li><label class='ee-shut'>171: [5.431666655164842, 49.22916678070916]<input type='checkbox' class='ee-toggle'></label><ul><li><span class='ee-k'>0:</span><span class='ee-v'>5.431666655164842</span></li><li><span class='ee-k'>1:</span><span class='ee-v'>49.22916678070916</span></li></ul></li><li><label class='ee-shut'>172: [5.4316666829545674, 49.2624985433157]<input type='checkbox' class='ee-toggle'></label><ul><li><span class='ee-k'>0:</span><span class='ee-v'>5.4316666829545674</span></li><li><span class='ee-k'>1:</span><span class='ee-v'>49.2624985433157</span></li></ul></li><li><label class='ee-shut'>173: [5.423332621990111, 49.26249853319364]<input type='checkbox' class='ee-toggle'></label><ul><li><span class='ee-k'>0:</span><span class='ee-v'>5.423332621990111</span></li><li><span class='ee-k'>1:</span><span class='ee-v'>49.26249853319364</span></li></ul></li><li><label class='ee-shut'>174: [5.423332622238738, 49.27083263179303]<input type='checkbox' class='ee-toggle'></label><ul><li><span class='ee-k'>0:</span><span class='ee-v'>5.423332622238738</span></li><li><span class='ee-k'>1:</span><span class='ee-v'>49.27083263179303</span></li></ul></li><li><label class='ee-shut'>175: [5.398334882517135, 49.27083259779976]<input type='checkbox' class='ee-toggle'></label><ul><li><span class='ee-k'>0:</span><span class='ee-v'>5.398334882517135</span></li><li><span class='ee-k'>1:</span><span class='ee-v'>49.27083259779976</span></li></ul></li><li><label class='ee-shut'>176: [5.398334924889095, 49.279166670647726]<input type='checkbox' class='ee-toggle'></label><ul><li><span class='ee-k'>0:</span><span class='ee-v'>5.398334924889095</span></li><li><span class='ee-k'>1:</span><span class='ee-v'>49.279166670647726</span></li></ul></li><li><label class='ee-shut'>177: [5.373332698688626, 49.27916672262292]<input type='checkbox' class='ee-toggle'></label><ul><li><span class='ee-k'>0:</span><span class='ee-v'>5.373332698688626</span></li><li><span class='ee-k'>1:</span><span class='ee-v'>49.27916672262292</span></li></ul></li><li><label class='ee-shut'>178: [5.373332687240026, 49.28750077447307]<input type='checkbox' class='ee-toggle'></label><ul><li><span class='ee-k'>0:</span><span class='ee-v'>5.373332687240026</span></li><li><span class='ee-k'>1:</span><span class='ee-v'>49.28750077447307</span></li></ul></li><li><label class='ee-shut'>179: [5.381666739054478, 49.28750073443696]<input type='checkbox' class='ee-toggle'></label><ul><li><span class='ee-k'>0:</span><span class='ee-v'>5.381666739054478</span></li><li><span class='ee-k'>1:</span><span class='ee-v'>49.28750073443696</span></li></ul></li><li><label class='ee-shut'>180: [5.381666761136989, 49.30416886873587]<input type='checkbox' class='ee-toggle'></label><ul><li><span class='ee-k'>0:</span><span class='ee-v'>5.381666761136989</span></li><li><span class='ee-k'>1:</span><span class='ee-v'>49.30416886873587</span></li></ul></li><li><label class='ee-shut'>181: [5.373332713284633, 49.30416884010332]<input type='checkbox' class='ee-toggle'></label><ul><li><span class='ee-k'>0:</span><span class='ee-v'>5.373332713284633</span></li><li><span class='ee-k'>1:</span><span class='ee-v'>49.30416884010332</span></li></ul></li><li><label class='ee-shut'>182: [5.373332757386462, 49.312498505696816]<input type='checkbox' class='ee-toggle'></label><ul><li><span class='ee-k'>0:</span><span class='ee-v'>5.373332757386462</span></li><li><span class='ee-k'>1:</span><span class='ee-v'>49.312498505696816</span></li></ul></li><li><label class='ee-shut'>183: [5.331666905182769, 49.312498479171275]<input type='checkbox' class='ee-toggle'></label><ul><li><span class='ee-k'>0:</span><span class='ee-v'>5.331666905182769</span></li><li><span class='ee-k'>1:</span><span class='ee-v'>49.312498479171275</span></li></ul></li><li><label class='ee-shut'>184: [5.331666829046883, 49.32083255845128]<input type='checkbox' class='ee-toggle'></label><ul><li><span class='ee-k'>0:</span><span class='ee-v'>5.331666829046883</span></li><li><span class='ee-k'>1:</span><span class='ee-v'>49.32083255845128</span></li></ul></li><li><label class='ee-shut'>185: [5.323332761780381, 49.32083250406204]<input type='checkbox' class='ee-toggle'></label><ul><li><span class='ee-k'>0:</span><span class='ee-v'>5.323332761780381</span></li><li><span class='ee-k'>1:</span><span class='ee-v'>49.32083250406204</span></li></ul></li><li><label class='ee-shut'>186: [5.323332812711033, 49.32916661983463]<input type='checkbox' class='ee-toggle'></label><ul><li><span class='ee-k'>0:</span><span class='ee-v'>5.323332812711033</span></li><li><span class='ee-k'>1:</span><span class='ee-v'>49.32916661983463</span></li></ul></li><li><label class='ee-shut'>187: [5.306664643804095, 49.32916658304798]<input type='checkbox' class='ee-toggle'></label><ul><li><span class='ee-k'>0:</span><span class='ee-v'>5.306664643804095</span></li><li><span class='ee-k'>1:</span><span class='ee-v'>49.32916658304798</span></li></ul></li><li><label class='ee-shut'>188: [5.306664721970637, 49.337500667174695]<input type='checkbox' class='ee-toggle'></label><ul><li><span class='ee-k'>0:</span><span class='ee-v'>5.306664721970637</span></li><li><span class='ee-k'>1:</span><span class='ee-v'>49.337500667174695</span></li></ul></li><li><label class='ee-shut'>189: [5.298335053172901, 49.337500637219534]<input type='checkbox' class='ee-toggle'></label><ul><li><span class='ee-k'>0:</span><span class='ee-v'>5.298335053172901</span></li><li><span class='ee-k'>1:</span><span class='ee-v'>49.337500637219534</span></li></ul></li><li><label class='ee-shut'>190: [5.298335100861933, 49.354168772593084]<input type='checkbox' class='ee-toggle'></label><ul><li><span class='ee-k'>0:</span><span class='ee-v'>5.298335100861933</span></li><li><span class='ee-k'>1:</span><span class='ee-v'>49.354168772593084</span></li></ul></li><li><label class='ee-shut'>191: [5.314998735780516, 49.354168788577134]<input type='checkbox' class='ee-toggle'></label><ul><li><span class='ee-k'>0:</span><span class='ee-v'>5.314998735780516</span></li><li><span class='ee-k'>1:</span><span class='ee-v'>49.354168788577134</span></li></ul></li><li><label class='ee-shut'>192: [5.314998744156432, 49.37916647555171]<input type='checkbox' class='ee-toggle'></label><ul><li><span class='ee-k'>0:</span><span class='ee-v'>5.314998744156432</span></li><li><span class='ee-k'>1:</span><span class='ee-v'>49.37916647555171</span></li></ul></li><li><label class='ee-shut'>193: [5.290001059707394, 49.37916648032679]<input type='checkbox' class='ee-toggle'></label><ul><li><span class='ee-k'>0:</span><span class='ee-v'>5.290001059707394</span></li><li><span class='ee-k'>1:</span><span class='ee-v'>49.37916648032679</span></li></ul></li><li><label class='ee-shut'>194: [5.290001000521846, 49.395834650256056]<input type='checkbox' class='ee-toggle'></label><ul><li><span class='ee-k'>0:</span><span class='ee-v'>5.290001000521846</span></li><li><span class='ee-k'>1:</span><span class='ee-v'>49.395834650256056</span></li></ul></li><li><label class='ee-shut'>195: [5.29833507161254, 49.39583457293903]<input type='checkbox' class='ee-toggle'></label><ul><li><span class='ee-k'>0:</span><span class='ee-v'>5.29833507161254</span></li><li><span class='ee-k'>1:</span><span class='ee-v'>49.39583457293903</span></li></ul></li><li><label class='ee-shut'>196: [5.298335079961501, 49.404168696372366]<input type='checkbox' class='ee-toggle'></label><ul><li><span class='ee-k'>0:</span><span class='ee-v'>5.298335079961501</span></li><li><span class='ee-k'>1:</span><span class='ee-v'>49.404168696372366</span></li></ul></li><li><label class='ee-shut'>197: [5.30666467839189, 49.404168684083544]<input type='checkbox' class='ee-toggle'></label><ul><li><span class='ee-k'>0:</span><span class='ee-v'>5.30666467839189</span></li><li><span class='ee-k'>1:</span><span class='ee-v'>49.404168684083544</span></li></ul></li><li><label class='ee-shut'>198: [5.30666469136598, 49.42916639145768]<input type='checkbox' class='ee-toggle'></label><ul><li><span class='ee-k'>0:</span><span class='ee-v'>5.30666469136598</span></li><li><span class='ee-k'>1:</span><span class='ee-v'>49.42916639145768</span></li></ul></li><li><label class='ee-shut'>199: [5.290001064461102, 49.429166364076174]<input type='checkbox' class='ee-toggle'></label><ul><li><span class='ee-k'>0:</span><span class='ee-v'>5.290001064461102</span></li><li><span class='ee-k'>1:</span><span class='ee-v'>49.429166364076174</span></li></ul></li><li><label class='ee-shut'>200: [5.29000099231051, 49.437500455033415]<input type='checkbox' class='ee-toggle'></label><ul><li><span class='ee-k'>0:</span><span class='ee-v'>5.29000099231051</span></li><li><span class='ee-k'>1:</span><span class='ee-v'>49.437500455033415</span></li></ul></li><li><label class='ee-shut'>201: [5.281666916756711, 49.43750042758311]<input type='checkbox' class='ee-toggle'></label><ul><li><span class='ee-k'>0:</span><span class='ee-v'>5.281666916756711</span></li><li><span class='ee-k'>1:</span><span class='ee-v'>49.43750042758311</span></li></ul></li><li><label class='ee-shut'>202: [5.281666972727385, 49.46249819458044]<input type='checkbox' class='ee-toggle'></label><ul><li><span class='ee-k'>0:</span><span class='ee-v'>5.281666972727385</span></li><li><span class='ee-k'>1:</span><span class='ee-v'>49.46249819458044</span></li></ul></li><li><label class='ee-shut'>203: [5.25666476136126, 49.46249814050113]<input type='checkbox' class='ee-toggle'></label><ul><li><span class='ee-k'>0:</span><span class='ee-v'>5.25666476136126</span></li><li><span class='ee-k'>1:</span><span class='ee-v'>49.46249814050113</span></li></ul></li><li><label class='ee-shut'>204: [5.256664733947023, 49.47083219993864]<input type='checkbox' class='ee-toggle'></label><ul><li><span class='ee-k'>0:</span><span class='ee-v'>5.256664733947023</span></li><li><span class='ee-k'>1:</span><span class='ee-v'>49.47083219993864</span></li></ul></li><li><label class='ee-shut'>205: [5.240001161052774, 49.47083226064067]<input type='checkbox' class='ee-toggle'></label><ul><li><span class='ee-k'>0:</span><span class='ee-v'>5.240001161052774</span></li><li><span class='ee-k'>1:</span><span class='ee-v'>49.47083226064067</span></li></ul></li><li><label class='ee-shut'>206: [5.240001078907673, 49.479166281457324]<input type='checkbox' class='ee-toggle'></label><ul><li><span class='ee-k'>0:</span><span class='ee-v'>5.240001078907673</span></li><li><span class='ee-k'>1:</span><span class='ee-v'>49.479166281457324</span></li></ul></li><li><label class='ee-shut'>207: [5.223333029576048, 49.479166257726604]<input type='checkbox' class='ee-toggle'></label><ul><li><span class='ee-k'>0:</span><span class='ee-v'>5.223333029576048</span></li><li><span class='ee-k'>1:</span><span class='ee-v'>49.479166257726604</span></li></ul></li><li><label class='ee-shut'>208: [5.223332999491802, 49.495834388354034]<input type='checkbox' class='ee-toggle'></label><ul><li><span class='ee-k'>0:</span><span class='ee-v'>5.223332999491802</span></li><li><span class='ee-k'>1:</span><span class='ee-v'>49.495834388354034</span></li></ul></li><li><label class='ee-shut'>209: [5.214998955014653, 49.495834424270974]<input type='checkbox' class='ee-toggle'></label><ul><li><span class='ee-k'>0:</span><span class='ee-v'>5.214998955014653</span></li><li><span class='ee-k'>1:</span><span class='ee-v'>49.495834424270974</span></li></ul></li><li><label class='ee-shut'>210: [5.214998985742707, 49.50416844922493]<input type='checkbox' class='ee-toggle'></label><ul><li><span class='ee-k'>0:</span><span class='ee-v'>5.214998985742707</span></li><li><span class='ee-k'>1:</span><span class='ee-v'>49.50416844922493</span></li></ul></li><li><label class='ee-shut'>211: [5.198335275504187, 49.50416848326418]<input type='checkbox' class='ee-toggle'></label><ul><li><span class='ee-k'>0:</span><span class='ee-v'>5.198335275504187</span></li><li><span class='ee-k'>1:</span><span class='ee-v'>49.50416848326418</span></li></ul></li><li><label class='ee-shut'>212: [5.198335321965668, 49.49583444066135]<input type='checkbox' class='ee-toggle'></label><ul><li><span class='ee-k'>0:</span><span class='ee-v'>5.198335321965668</span></li><li><span class='ee-k'>1:</span><span class='ee-v'>49.49583444066135</span></li></ul></li><li><label class='ee-shut'>213: [5.173333118218316, 49.49583443096917]<input type='checkbox' class='ee-toggle'></label><ul><li><span class='ee-k'>0:</span><span class='ee-v'>5.173333118218316</span></li><li><span class='ee-k'>1:</span><span class='ee-v'>49.49583443096917</span></li></ul></li><li><label class='ee-shut'>214: [5.173333080081673, 49.487500313831276]<input type='checkbox' class='ee-toggle'></label><ul><li><span class='ee-k'>0:</span><span class='ee-v'>5.173333080081673</span></li><li><span class='ee-k'>1:</span><span class='ee-v'>49.487500313831276</span></li></ul></li><li><label class='ee-shut'>215: [5.164999052796272, 49.487500319873945]<input type='checkbox' class='ee-toggle'></label><ul><li><span class='ee-k'>0:</span><span class='ee-v'>5.164999052796272</span></li><li><span class='ee-k'>1:</span><span class='ee-v'>49.487500319873945</span></li></ul></li><li><label class='ee-shut'>216: [5.164999094455136, 49.49583444442825]<input type='checkbox' class='ee-toggle'></label><ul><li><span class='ee-k'>0:</span><span class='ee-v'>5.164999094455136</span></li><li><span class='ee-k'>1:</span><span class='ee-v'>49.49583444442825</span></li></ul></li><li><label class='ee-shut'>217: [5.156664943693956, 49.49583440801684]<input type='checkbox' class='ee-toggle'></label><ul><li><span class='ee-k'>0:</span><span class='ee-v'>5.156664943693956</span></li><li><span class='ee-k'>1:</span><span class='ee-v'>49.49583440801684</span></li></ul></li><li><label class='ee-shut'>218: [5.1566650123350755, 49.50416848279147]<input type='checkbox' class='ee-toggle'></label><ul><li><span class='ee-k'>0:</span><span class='ee-v'>5.1566650123350755</span></li><li><span class='ee-k'>1:</span><span class='ee-v'>49.50416848279147</span></li></ul></li><li><label class='ee-shut'>219: [5.131667257531362, 49.50416847846735]<input type='checkbox' class='ee-toggle'></label><ul><li><span class='ee-k'>0:</span><span class='ee-v'>5.131667257531362</span></li><li><span class='ee-k'>1:</span><span class='ee-v'>49.50416847846735</span></li></ul></li><li><label class='ee-shut'>220: [5.131667273611087, 49.4958343761331]<input type='checkbox' class='ee-toggle'></label><ul><li><span class='ee-k'>0:</span><span class='ee-v'>5.131667273611087</span></li><li><span class='ee-k'>1:</span><span class='ee-v'>49.4958343761331</span></li></ul></li><li><label class='ee-shut'>221: [5.114999147945337, 49.495834419035624]<input type='checkbox' class='ee-toggle'></label><ul><li><span class='ee-k'>0:</span><span class='ee-v'>5.114999147945337</span></li><li><span class='ee-k'>1:</span><span class='ee-v'>49.495834419035624</span></li></ul></li><li><label class='ee-shut'>222: [5.1149991187134916, 49.5041684605083]<input type='checkbox' class='ee-toggle'></label><ul><li><span class='ee-k'>0:</span><span class='ee-v'>5.1149991187134916</span></li><li><span class='ee-k'>1:</span><span class='ee-v'>49.5041684605083</span></li></ul></li><li><label class='ee-shut'>223: [5.106665112724918, 49.504168482365905]<input type='checkbox' class='ee-toggle'></label><ul><li><span class='ee-k'>0:</span><span class='ee-v'>5.106665112724918</span></li><li><span class='ee-k'>1:</span><span class='ee-v'>49.504168482365905</span></li></ul></li><li><label class='ee-shut'>224: [5.10666505052782, 49.49583443655605]<input type='checkbox' class='ee-toggle'></label><ul><li><span class='ee-k'>0:</span><span class='ee-v'>5.10666505052782</span></li><li><span class='ee-k'>1:</span><span class='ee-v'>49.49583443655605</span></li></ul></li><li><label class='ee-shut'>225: [5.090001412199738, 49.49583441590969]<input type='checkbox' class='ee-toggle'></label><ul><li><span class='ee-k'>0:</span><span class='ee-v'>5.090001412199738</span></li><li><span class='ee-k'>1:</span><span class='ee-v'>49.49583441590969</span></li></ul></li><li><label class='ee-shut'>226: [5.090001393445057, 49.487500372684515]<input type='checkbox' class='ee-toggle'></label><ul><li><span class='ee-k'>0:</span><span class='ee-v'>5.090001393445057</span></li><li><span class='ee-k'>1:</span><span class='ee-v'>49.487500372684515</span></li></ul></li><li><label class='ee-shut'>227: [5.081667324145832, 49.48750036966934]<input type='checkbox' class='ee-toggle'></label><ul><li><span class='ee-k'>0:</span><span class='ee-v'>5.081667324145832</span></li><li><span class='ee-k'>1:</span><span class='ee-v'>49.48750036966934</span></li></ul></li><li><label class='ee-shut'>228: [5.081667336370172, 49.47916626093464]<input type='checkbox' class='ee-toggle'></label><ul><li><span class='ee-k'>0:</span><span class='ee-v'>5.081667336370172</span></li><li><span class='ee-k'>1:</span><span class='ee-v'>49.47916626093464</span></li></ul></li><li><label class='ee-shut'>229: [5.07333334706395, 49.47916626779493]<input type='checkbox' class='ee-toggle'></label><ul><li><span class='ee-k'>0:</span><span class='ee-v'>5.07333334706395</span></li><li><span class='ee-k'>1:</span><span class='ee-v'>49.47916626779493</span></li></ul></li><li><label class='ee-shut'>230: [5.07333332765609, 49.470832252577694]<input type='checkbox' class='ee-toggle'></label><ul><li><span class='ee-k'>0:</span><span class='ee-v'>5.07333332765609</span></li><li><span class='ee-k'>1:</span><span class='ee-v'>49.470832252577694</span></li></ul></li><li><label class='ee-shut'>231: [5.064999222950129, 49.47083219985643]<input type='checkbox' class='ee-toggle'></label><ul><li><span class='ee-k'>0:</span><span class='ee-v'>5.064999222950129</span></li><li><span class='ee-k'>1:</span><span class='ee-v'>49.47083219985643</span></li></ul></li><li><label class='ee-shut'>232: [5.064999251150403, 49.479166301409805]<input type='checkbox' class='ee-toggle'></label><ul><li><span class='ee-k'>0:</span><span class='ee-v'>5.064999251150403</span></li><li><span class='ee-k'>1:</span><span class='ee-v'>49.479166301409805</span></li></ul></li><li><label class='ee-shut'>233: [5.04833108095279, 49.47916627829145]<input type='checkbox' class='ee-toggle'></label><ul><li><span class='ee-k'>0:</span><span class='ee-v'>5.04833108095279</span></li><li><span class='ee-k'>1:</span><span class='ee-v'>49.47916627829145</span></li></ul></li><li><label class='ee-shut'>234: [5.048331170432751, 49.47083223123618]<input type='checkbox' class='ee-toggle'></label><ul><li><span class='ee-k'>0:</span><span class='ee-v'>5.048331170432751</span></li><li><span class='ee-k'>1:</span><span class='ee-v'>49.47083223123618</span></li></ul></li><li><label class='ee-shut'>235: [5.031667484335559, 49.4708322383962]<input type='checkbox' class='ee-toggle'></label><ul><li><span class='ee-k'>0:</span><span class='ee-v'>5.031667484335559</span></li><li><span class='ee-k'>1:</span><span class='ee-v'>49.4708322383962</span></li></ul></li><li><label class='ee-shut'>236: [5.031667473201497, 49.47916630069261]<input type='checkbox' class='ee-toggle'></label><ul><li><span class='ee-k'>0:</span><span class='ee-v'>5.031667473201497</span></li><li><span class='ee-k'>1:</span><span class='ee-v'>49.47916630069261</span></li></ul></li><li><label class='ee-shut'>237: [5.023333373624886, 49.47916628954631]<input type='checkbox' class='ee-toggle'></label><ul><li><span class='ee-k'>0:</span><span class='ee-v'>5.023333373624886</span></li><li><span class='ee-k'>1:</span><span class='ee-v'>49.47916628954631</span></li></ul></li><li><label class='ee-shut'>238: [5.023333393056968, 49.470832217412045]<input type='checkbox' class='ee-toggle'></label><ul><li><span class='ee-k'>0:</span><span class='ee-v'>5.023333393056968</span></li><li><span class='ee-k'>1:</span><span class='ee-v'>49.470832217412045</span></li></ul></li><li><label class='ee-shut'>239: [5.014999382047776, 49.47083221490845]<input type='checkbox' class='ee-toggle'></label><ul><li><span class='ee-k'>0:</span><span class='ee-v'>5.014999382047776</span></li><li><span class='ee-k'>1:</span><span class='ee-v'>49.47083221490845</span></li></ul></li><li><label class='ee-shut'>240: [5.014999380707624, 49.42083229971757]<input type='checkbox' class='ee-toggle'></label><ul><li><span class='ee-k'>0:</span><span class='ee-v'>5.014999380707624</span></li><li><span class='ee-k'>1:</span><span class='ee-v'>49.42083229971757</span></li></ul></li></ul></li></ul></li></ul></li><li><label class='ee-shut'>properties: Object (0 properties)<input type='checkbox' class='ee-toggle'></label><ul></ul></li></ul></li></ul></li></ul></li></ul></div><script>function toggleHeader() {\n",
       "    const parent = this.parentElement;\n",
       "    parent.className = parent.className === \"ee-open\" ? \"ee-shut\" : \"ee-open\";\n",
       "}\n",
       "\n",
       "for (let c of document.getElementsByClassName(\"ee-toggle\")) {\n",
       "    c.onclick = toggleHeader;\n",
       "}</script></div>"
      ],
      "text/plain": [
       "<ee.featurecollection.FeatureCollection at 0x20ae0a0ae90>"
      ]
     },
     "execution_count": 3,
     "metadata": {},
     "output_type": "execute_result"
    }
   ],
   "source": [
    "asset_dir = 'projects/mohanrahan/assets'\n",
    "\n",
    "catchment_asset = 'CATAPUCII_Catchments/Meuse_Catchments_4326_WFLOW' #currently using the WFLOW derived upstream area polygons as a feature collection on GEE asset directory\n",
    "\n",
    "table = ee.FeatureCollection(f\"{asset_dir}/{catchment_asset}\")\n",
    "\n",
    "out_dir = f'{os.getcwd()}/test/'\n",
    "if not os.path.exists(out_dir):\n",
    "    os.makedirs(out_dir)\n",
    "\n",
    "    \n",
    "aoi = ee.FeatureCollection(table.first().geometry())\n",
    "aoi"
   ]
  },
  {
   "cell_type": "code",
   "execution_count": 44,
   "id": "36f1a2de-3e15-4cf6-90ba-e0b6495c7c66",
   "metadata": {},
   "outputs": [
    {
     "name": "stdout",
     "output_type": "stream",
     "text": [
      "Computing statistics ...\n",
      "Generating URL ...\n",
      "Downloading data from https://earthengine.googleapis.com/v1alpha/projects/earthengine-legacy/tables/c874419dfa0e2b50256f04b43cd17033-3566373e16da6c780b65d07a33c0be45:getFeatures\n",
      "Please wait ...\n",
      "Data downloaded to H:\\My Drive\\Delft\\TUDELFT\\Thesis\\Git\\MikeThesis\\MikeThesis_Code\\test\\all_bands_all_years_MEDIAN.csv\n",
      "Computing statistics ...\n",
      "Generating URL ...\n",
      "Downloading data from https://earthengine.googleapis.com/v1alpha/projects/earthengine-legacy/tables/32568d6ae7c94e3f408d892f1445e5ca-897d482edfb091b6413a576c65f48071:getFeatures\n",
      "Please wait ...\n",
      "Data downloaded to H:\\My Drive\\Delft\\TUDELFT\\Thesis\\Git\\MikeThesis\\MikeThesis_Code\\test\\all_bands_all_years_MEAN.csv\n",
      "Computing statistics ...\n",
      "Generating URL ...\n",
      "Downloading data from https://earthengine.googleapis.com/v1alpha/projects/earthengine-legacy/tables/dca1868d4665ea541eca7f671177a129-e6b0c29655a76ef569ab806a66682516:getFeatures\n",
      "Please wait ...\n",
      "Data downloaded to H:\\My Drive\\Delft\\TUDELFT\\Thesis\\Git\\MikeThesis\\MikeThesis_Code\\test\\all_bands_all_years_MIN_MAX.csv\n",
      "Computing statistics ...\n",
      "Generating URL ...\n",
      "Downloading data from https://earthengine.googleapis.com/v1alpha/projects/earthengine-legacy/tables/696f2f0448e027f62f56eec137a41aba-08ba53450a3eee7290149effbe17b963:getFeatures\n",
      "Please wait ...\n",
      "Data downloaded to H:\\My Drive\\Delft\\TUDELFT\\Thesis\\Git\\MikeThesis\\MikeThesis_Code\\test\\all_bands_all_years_STD.csv\n"
     ]
    }
   ],
   "source": [
    "red='MEDIAN'\n",
    "out_landsat_stats = os.path.join(out_dir, f'all_bands_all_years_{red}.csv')\n",
    "geemap.zonal_statistics(ee.ImageCollection(annual_med_calc).toBands(), out_file_path=out_landsat_stats, in_zone_vector=aoi,statistics_type=red, scale=30, tile_scale=2)\n",
    "red='MEAN'\n",
    "out_landsat_stats = os.path.join(out_dir, f'all_bands_all_years_{red}.csv')\n",
    "geemap.zonal_statistics(ee.ImageCollection(annual_med_calc).toBands(), out_file_path=out_landsat_stats, in_zone_vector=aoi,statistics_type=red, scale=30, tile_scale=2)\n",
    "red='MIN_MAX'\n",
    "out_landsat_stats = os.path.join(out_dir, f'all_bands_all_years_{red}.csv')\n",
    "geemap.zonal_statistics(ee.ImageCollection(annual_med_calc).toBands(), out_file_path=out_landsat_stats, in_zone_vector=aoi,statistics_type=red, scale=30, tile_scale=2)\n",
    "red='STD'\n",
    "out_landsat_stats = os.path.join(out_dir, f'all_bands_all_years_{red}.csv')\n",
    "geemap.zonal_statistics(ee.ImageCollection(annual_med_calc).toBands(), out_file_path=out_landsat_stats, in_zone_vector=aoi,statistics_type=red, scale=30, tile_scale=2)\n",
    "#geemap.zonal_statistics(modis, states, out_landsat_stats, statistics_type='MEAN', scale=1000)"
   ]
  },
  {
   "cell_type": "code",
   "execution_count": 7,
   "id": "e8228243-1767-4e64-b23b-c62d3f49901f",
   "metadata": {},
   "outputs": [],
   "source": [
    "def area_above_critical_values(image: ee.Image, aoi:ee.Geometry, img_date, band_crit_vals: dict, scale: int, name:str) -> ee.Number:\n",
    "    \"\"\"\n",
    "    Calculates the area within an image that is above the critical values for each band in band_crit_vals.\n",
    "    image: ee.Image - The image to calculate the area for\n",
    "    band_crit_vals: dict - A dictionary with each band as a key and its corresponding critical value as the value\n",
    "    Returns: ee.Number - The area within the image that is above the critical values\n",
    "    \"\"\"\n",
    "    area_img = ee.Image.pixelArea()\n",
    "\n",
    "    total_areas = ee.Dictionary()\n",
    "    arange = np.arange(startYear, endYear)\n",
    "    for i in range(len(arange)):\n",
    "        prefix= f'{i}_'\n",
    "        for band, crit_val in d.items():\n",
    "            band = f'{prefix}{band}'\n",
    "            mask = image.select(band).gt(crit_val)\n",
    "\n",
    "            masked_area_img = area_img.mask(mask)\n",
    "\n",
    "            total_area = masked_area_img.reduceRegion(\n",
    "                reducer=ee.Reducer.sum(),\n",
    "                geometry=aoi,\n",
    "                scale=scale,\n",
    "                maxPixels=1e13,\n",
    "                bestEffort=True).get(\"area\")\n",
    "\n",
    "            total_areas = total_areas.set(band, ee.Number(total_area).divide(1e6))\n",
    "\n",
    "    total_areas_dict = total_areas\n",
    "        # try:\n",
    "    #df_dictionary = {'image_date':img_date, 'name':name,'scale_m':scale, **total_areas_dict}\n",
    "    #pd.DataFrame(df_dictionary, index=[0]).to_excel(f'{out_dir}{name}_band_areas_{img_date.year}.xlsx')\n",
    "    return total_areas_dict\n",
    "    # except Exception as e:\n",
    "    #     print(e)\n",
    "    #     return {}\n",
    "    \n",
    "    \n",
    "\n",
    "def msToDate(milliseconds: int) -> datetime.datetime:\n",
    "    '''\n",
    "    Convert a timestamp in milliseconds to a datetime object.\n",
    "\n",
    "    Input:\n",
    "        milliseconds (int): a timestamp in milliseconds\n",
    "    \n",
    "    Output:\n",
    "        datetime.datetime: a datetime object corresponding to the timestamp\n",
    "    '''\n",
    "    \n",
    "    base_datetime = datetime.datetime(1970, 1, 1)\n",
    "    delta = datetime.timedelta(0, 0, 0, milliseconds)\n",
    "    target_datetime = base_datetime + delta\n",
    "    return target_datetime\n",
    "\n",
    "\n",
    "\n",
    "\n",
    "def summarize_image(image: ee.Image, region: ee.Geometry, img_date, name:str, scale:int) -> dict:\n",
    "    \"\"\"\n",
    "    Computes statistics for an image within a given region.\n",
    "    image: ee.Image - The image to compute statistics for\n",
    "    region: ee.Geometry - The region to compute statistics over\n",
    "    Returns: dict - A dictionary with statistics for the image\n",
    "    \"\"\"\n",
    "    stats = image.reduceRegion(\n",
    "        reducer=ee.Reducer.percentile([10, 90], ['p10', 'p90']).combine(\n",
    "            reducer2=ee.Reducer.mean().combine(\n",
    "                reducer2=ee.Reducer.stdDev(),\n",
    "                sharedInputs=True\n",
    "            ),\n",
    "            sharedInputs=True\n",
    "        ),\n",
    "        geometry=region,\n",
    "        scale=scale,\n",
    "        maxPixels=1e13\n",
    "    )\n",
    "    \n",
    "    keys = stats.getInfo().keys()\n",
    "    \n",
    "    dictionary = {key: stats.get(key).getInfo() for key in keys}\n",
    "    df_dictionary = {'image_date':img_date, 'name':name,'scale_m':scale, **dictionary}\n",
    "    pd.DataFrame(df_dictionary, index=[0]).to_excel(f'{name}_band_statistics_{img_date.year}.xlsx')\n",
    "    return dictionary\n",
    "\n",
    "    \n",
    "def df_band_areas(imcol: ee.ImageCollection, aoi: ee.Geometry, scale: int, bands_crit_vals: dict, name: str) -> pd.DataFrame:\n",
    "    \"\"\"\n",
    "    Creates a Pandas DataFrame with the name of the geometry, the date of the image, and the area of each image in the\n",
    "    collection above the critical values for each band in bands_crit_vals, as well as the summary statistics for each\n",
    "    image returned by the summarize_image function.\n",
    "    imcol: ee.ImageCollection - The image collection to calculate the area for\n",
    "    scale: int - The scale of the image (in meters)\n",
    "    bands_crit_vals: dict - A dictionary with each band as a key and its corresponding critical value as the value\n",
    "    name: str - The name of the geometry\n",
    "    Returns: pd.DataFrame - A Pandas DataFrame with the geometry name, image date, area above critical values, and summary statistics for each image in the collection\n",
    "    \"\"\"\n",
    "    areas = []\n",
    "    ids = imcol.aggregate_array('system:index').getInfo()\n",
    "    for i, idt in enumerate(ids):\n",
    "        img = imcol.filterMetadata('system:index', 'equals', idt)\n",
    "        img = ee.Image(img.first())\n",
    "        img_date = msToDate(img.get(\"system:time_start\").getInfo())\n",
    "        area = area_above_critical_values(img, aoi, img_date, bands_crit_vals, scale, name)\n",
    "        summary_stats = summarize_image(img, aoi, img_date, name, scale)\n",
    "        area_dict = {f'{crit_val/1000}_{band}':list(area.values())[i] for i, (band, crit_val) in enumerate(d.items())}\n",
    "        areas.append({\n",
    "            \"geometry\": name,\n",
    "            \"image_date\": img_date,\n",
    "            **area_dict,\n",
    "            **summary_stats\n",
    "        })\n",
    "    return pd.DataFrame(areas)\n",
    "\n",
    "\n",
    "#df_band_areas(annual_med_calc, aoi, 30, d,  'fakeLoc')"
   ]
  },
  {
   "cell_type": "code",
   "execution_count": 8,
   "id": "67030a0d-a37c-4b1c-a650-a769b899f0f6",
   "metadata": {},
   "outputs": [
    {
     "ename": "gaierror",
     "evalue": "[Errno 11001] getaddrinfo failed",
     "output_type": "error",
     "traceback": [
      "\u001b[1;31m---------------------------------------------------------------------------\u001b[0m",
      "\u001b[1;31mRemoteDisconnected\u001b[0m                        Traceback (most recent call last)",
      "File \u001b[1;32m~\\anaconda3\\envs\\BPD4a\\lib\\site-packages\\httplib2\\__init__.py:1373\u001b[0m, in \u001b[0;36mHttp._conn_request\u001b[1;34m(self, conn, request_uri, method, body, headers)\u001b[0m\n\u001b[0;32m   1372\u001b[0m \u001b[38;5;28;01mtry\u001b[39;00m:\n\u001b[1;32m-> 1373\u001b[0m     response \u001b[38;5;241m=\u001b[39m \u001b[43mconn\u001b[49m\u001b[38;5;241;43m.\u001b[39;49m\u001b[43mgetresponse\u001b[49m\u001b[43m(\u001b[49m\u001b[43m)\u001b[49m\n\u001b[0;32m   1374\u001b[0m \u001b[38;5;28;01mexcept\u001b[39;00m (http\u001b[38;5;241m.\u001b[39mclient\u001b[38;5;241m.\u001b[39mBadStatusLine, http\u001b[38;5;241m.\u001b[39mclient\u001b[38;5;241m.\u001b[39mResponseNotReady):\n\u001b[0;32m   1375\u001b[0m     \u001b[38;5;66;03m# If we get a BadStatusLine on the first try then that means\u001b[39;00m\n\u001b[0;32m   1376\u001b[0m     \u001b[38;5;66;03m# the connection just went stale, so retry regardless of the\u001b[39;00m\n\u001b[0;32m   1377\u001b[0m     \u001b[38;5;66;03m# number of RETRIES set.\u001b[39;00m\n",
      "File \u001b[1;32m~\\anaconda3\\envs\\BPD4a\\lib\\http\\client.py:1374\u001b[0m, in \u001b[0;36mHTTPConnection.getresponse\u001b[1;34m(self)\u001b[0m\n\u001b[0;32m   1373\u001b[0m \u001b[38;5;28;01mtry\u001b[39;00m:\n\u001b[1;32m-> 1374\u001b[0m     \u001b[43mresponse\u001b[49m\u001b[38;5;241;43m.\u001b[39;49m\u001b[43mbegin\u001b[49m\u001b[43m(\u001b[49m\u001b[43m)\u001b[49m\n\u001b[0;32m   1375\u001b[0m \u001b[38;5;28;01mexcept\u001b[39;00m \u001b[38;5;167;01mConnectionError\u001b[39;00m:\n",
      "File \u001b[1;32m~\\anaconda3\\envs\\BPD4a\\lib\\http\\client.py:318\u001b[0m, in \u001b[0;36mHTTPResponse.begin\u001b[1;34m(self)\u001b[0m\n\u001b[0;32m    317\u001b[0m \u001b[38;5;28;01mwhile\u001b[39;00m \u001b[38;5;28;01mTrue\u001b[39;00m:\n\u001b[1;32m--> 318\u001b[0m     version, status, reason \u001b[38;5;241m=\u001b[39m \u001b[38;5;28;43mself\u001b[39;49m\u001b[38;5;241;43m.\u001b[39;49m\u001b[43m_read_status\u001b[49m\u001b[43m(\u001b[49m\u001b[43m)\u001b[49m\n\u001b[0;32m    319\u001b[0m     \u001b[38;5;28;01mif\u001b[39;00m status \u001b[38;5;241m!=\u001b[39m CONTINUE:\n",
      "File \u001b[1;32m~\\anaconda3\\envs\\BPD4a\\lib\\http\\client.py:287\u001b[0m, in \u001b[0;36mHTTPResponse._read_status\u001b[1;34m(self)\u001b[0m\n\u001b[0;32m    284\u001b[0m \u001b[38;5;28;01mif\u001b[39;00m \u001b[38;5;129;01mnot\u001b[39;00m line:\n\u001b[0;32m    285\u001b[0m     \u001b[38;5;66;03m# Presumably, the server closed the connection before\u001b[39;00m\n\u001b[0;32m    286\u001b[0m     \u001b[38;5;66;03m# sending a valid response.\u001b[39;00m\n\u001b[1;32m--> 287\u001b[0m     \u001b[38;5;28;01mraise\u001b[39;00m RemoteDisconnected(\u001b[38;5;124m\"\u001b[39m\u001b[38;5;124mRemote end closed connection without\u001b[39m\u001b[38;5;124m\"\u001b[39m\n\u001b[0;32m    288\u001b[0m                              \u001b[38;5;124m\"\u001b[39m\u001b[38;5;124m response\u001b[39m\u001b[38;5;124m\"\u001b[39m)\n\u001b[0;32m    289\u001b[0m \u001b[38;5;28;01mtry\u001b[39;00m:\n",
      "\u001b[1;31mRemoteDisconnected\u001b[0m: Remote end closed connection without response",
      "\nDuring handling of the above exception, another exception occurred:\n",
      "\u001b[1;31mgaierror\u001b[0m                                  Traceback (most recent call last)",
      "File \u001b[1;32m~\\anaconda3\\envs\\BPD4a\\lib\\site-packages\\IPython\\core\\formatters.py:343\u001b[0m, in \u001b[0;36mBaseFormatter.__call__\u001b[1;34m(self, obj)\u001b[0m\n\u001b[0;32m    341\u001b[0m     method \u001b[38;5;241m=\u001b[39m get_real_method(obj, \u001b[38;5;28mself\u001b[39m\u001b[38;5;241m.\u001b[39mprint_method)\n\u001b[0;32m    342\u001b[0m     \u001b[38;5;28;01mif\u001b[39;00m method \u001b[38;5;129;01mis\u001b[39;00m \u001b[38;5;129;01mnot\u001b[39;00m \u001b[38;5;28;01mNone\u001b[39;00m:\n\u001b[1;32m--> 343\u001b[0m         \u001b[38;5;28;01mreturn\u001b[39;00m \u001b[43mmethod\u001b[49m\u001b[43m(\u001b[49m\u001b[43m)\u001b[49m\n\u001b[0;32m    344\u001b[0m     \u001b[38;5;28;01mreturn\u001b[39;00m \u001b[38;5;28;01mNone\u001b[39;00m\n\u001b[0;32m    345\u001b[0m \u001b[38;5;28;01melse\u001b[39;00m:\n",
      "File \u001b[1;32m~\\anaconda3\\envs\\BPD4a\\lib\\site-packages\\eerepr\\repr.py:82\u001b[0m, in \u001b[0;36m_ee_repr\u001b[1;34m(obj)\u001b[0m\n\u001b[0;32m     77\u001b[0m \u001b[38;5;28;01mif\u001b[39;00m _is_nondeterministic(obj):\n\u001b[0;32m     78\u001b[0m     \u001b[38;5;66;03m# We don't want to cache nondeterministic objects, so we'll add add a unique attribute\u001b[39;00m\n\u001b[0;32m     79\u001b[0m     \u001b[38;5;66;03m# that causes ee.ComputedObject.__eq__ to return False, preventing a cache hit.\u001b[39;00m\n\u001b[0;32m     80\u001b[0m     \u001b[38;5;28msetattr\u001b[39m(obj, \u001b[38;5;124m\"\u001b[39m\u001b[38;5;124m_eerepr_id\u001b[39m\u001b[38;5;124m\"\u001b[39m, uuid\u001b[38;5;241m.\u001b[39muuid4())\n\u001b[1;32m---> 82\u001b[0m rep \u001b[38;5;241m=\u001b[39m \u001b[43m_repr_html_\u001b[49m\u001b[43m(\u001b[49m\u001b[43mobj\u001b[49m\u001b[43m)\u001b[49m\n\u001b[0;32m     83\u001b[0m mbs \u001b[38;5;241m=\u001b[39m \u001b[38;5;28mlen\u001b[39m(rep) \u001b[38;5;241m/\u001b[39m \u001b[38;5;241m1e6\u001b[39m\n\u001b[0;32m     84\u001b[0m \u001b[38;5;28;01mif\u001b[39;00m mbs \u001b[38;5;241m>\u001b[39m options\u001b[38;5;241m.\u001b[39mmax_repr_mbs:\n",
      "File \u001b[1;32m~\\anaconda3\\envs\\BPD4a\\lib\\site-packages\\eerepr\\repr.py:54\u001b[0m, in \u001b[0;36m_repr_html_\u001b[1;34m(obj)\u001b[0m\n\u001b[0;32m     52\u001b[0m \u001b[38;5;124;03m\"\"\"Generate an HTML representation of an EE object.\"\"\"\u001b[39;00m\n\u001b[0;32m     53\u001b[0m \u001b[38;5;28;01mtry\u001b[39;00m:\n\u001b[1;32m---> 54\u001b[0m     info \u001b[38;5;241m=\u001b[39m \u001b[43mobj\u001b[49m\u001b[38;5;241;43m.\u001b[39;49m\u001b[43mgetInfo\u001b[49m\u001b[43m(\u001b[49m\u001b[43m)\u001b[49m\n\u001b[0;32m     55\u001b[0m \u001b[38;5;66;03m# Fall back to a string repr if getInfo fails\u001b[39;00m\n\u001b[0;32m     56\u001b[0m \u001b[38;5;28;01mexcept\u001b[39;00m ee\u001b[38;5;241m.\u001b[39mEEException \u001b[38;5;28;01mas\u001b[39;00m e:\n",
      "File \u001b[1;32m~\\anaconda3\\envs\\BPD4a\\lib\\site-packages\\ee\\computedobject.py:98\u001b[0m, in \u001b[0;36mComputedObject.getInfo\u001b[1;34m(self)\u001b[0m\n\u001b[0;32m     92\u001b[0m \u001b[38;5;28;01mdef\u001b[39;00m \u001b[38;5;21mgetInfo\u001b[39m(\u001b[38;5;28mself\u001b[39m):\n\u001b[0;32m     93\u001b[0m   \u001b[38;5;124;03m\"\"\"Fetch and return information about this object.\u001b[39;00m\n\u001b[0;32m     94\u001b[0m \n\u001b[0;32m     95\u001b[0m \u001b[38;5;124;03m  Returns:\u001b[39;00m\n\u001b[0;32m     96\u001b[0m \u001b[38;5;124;03m    The object can evaluate to anything.\u001b[39;00m\n\u001b[0;32m     97\u001b[0m \u001b[38;5;124;03m  \"\"\"\u001b[39;00m\n\u001b[1;32m---> 98\u001b[0m   \u001b[38;5;28;01mreturn\u001b[39;00m \u001b[43mdata\u001b[49m\u001b[38;5;241;43m.\u001b[39;49m\u001b[43mcomputeValue\u001b[49m\u001b[43m(\u001b[49m\u001b[38;5;28;43mself\u001b[39;49m\u001b[43m)\u001b[49m\n",
      "File \u001b[1;32m~\\anaconda3\\envs\\BPD4a\\lib\\site-packages\\ee\\data.py:738\u001b[0m, in \u001b[0;36mcomputeValue\u001b[1;34m(obj)\u001b[0m\n\u001b[0;32m    735\u001b[0m \u001b[38;5;28;01mif\u001b[39;00m workload_tag:\n\u001b[0;32m    736\u001b[0m   body[\u001b[38;5;124m'\u001b[39m\u001b[38;5;124mworkloadTag\u001b[39m\u001b[38;5;124m'\u001b[39m] \u001b[38;5;241m=\u001b[39m workload_tag\n\u001b[1;32m--> 738\u001b[0m \u001b[38;5;28;01mreturn\u001b[39;00m \u001b[43m_execute_cloud_call\u001b[49m\u001b[43m(\u001b[49m\n\u001b[0;32m    739\u001b[0m \u001b[43m    \u001b[49m\u001b[43m_get_cloud_api_resource\u001b[49m\u001b[43m(\u001b[49m\u001b[43m)\u001b[49m\u001b[38;5;241;43m.\u001b[39;49m\u001b[43mprojects\u001b[49m\u001b[43m(\u001b[49m\u001b[43m)\u001b[49m\u001b[38;5;241;43m.\u001b[39;49m\u001b[43mvalue\u001b[49m\u001b[43m(\u001b[49m\u001b[43m)\u001b[49m\u001b[38;5;241;43m.\u001b[39;49m\u001b[43mcompute\u001b[49m\u001b[43m(\u001b[49m\n\u001b[0;32m    740\u001b[0m \u001b[43m        \u001b[49m\u001b[43mbody\u001b[49m\u001b[38;5;241;43m=\u001b[39;49m\u001b[43mbody\u001b[49m\u001b[43m,\u001b[49m\n\u001b[0;32m    741\u001b[0m \u001b[43m        \u001b[49m\u001b[43mproject\u001b[49m\u001b[38;5;241;43m=\u001b[39;49m\u001b[43m_get_projects_path\u001b[49m\u001b[43m(\u001b[49m\u001b[43m)\u001b[49m\u001b[43m,\u001b[49m\n\u001b[0;32m    742\u001b[0m \u001b[43m        \u001b[49m\u001b[43mprettyPrint\u001b[49m\u001b[38;5;241;43m=\u001b[39;49m\u001b[38;5;28;43;01mFalse\u001b[39;49;00m\u001b[43m)\u001b[49m\u001b[43m)\u001b[49m[\u001b[38;5;124m'\u001b[39m\u001b[38;5;124mresult\u001b[39m\u001b[38;5;124m'\u001b[39m]\n",
      "File \u001b[1;32m~\\anaconda3\\envs\\BPD4a\\lib\\site-packages\\ee\\data.py:328\u001b[0m, in \u001b[0;36m_execute_cloud_call\u001b[1;34m(call, num_retries)\u001b[0m\n\u001b[0;32m    314\u001b[0m \u001b[38;5;124;03m\"\"\"Executes a Cloud API call and translates errors to EEExceptions.\u001b[39;00m\n\u001b[0;32m    315\u001b[0m \n\u001b[0;32m    316\u001b[0m \u001b[38;5;124;03mArgs:\u001b[39;00m\n\u001b[1;32m   (...)\u001b[0m\n\u001b[0;32m    325\u001b[0m \u001b[38;5;124;03m  EEException if the call fails.\u001b[39;00m\n\u001b[0;32m    326\u001b[0m \u001b[38;5;124;03m\"\"\"\u001b[39;00m\n\u001b[0;32m    327\u001b[0m \u001b[38;5;28;01mtry\u001b[39;00m:\n\u001b[1;32m--> 328\u001b[0m   \u001b[38;5;28;01mreturn\u001b[39;00m \u001b[43mcall\u001b[49m\u001b[38;5;241;43m.\u001b[39;49m\u001b[43mexecute\u001b[49m\u001b[43m(\u001b[49m\u001b[43mnum_retries\u001b[49m\u001b[38;5;241;43m=\u001b[39;49m\u001b[43mnum_retries\u001b[49m\u001b[43m)\u001b[49m\n\u001b[0;32m    329\u001b[0m \u001b[38;5;28;01mexcept\u001b[39;00m googleapiclient\u001b[38;5;241m.\u001b[39merrors\u001b[38;5;241m.\u001b[39mHttpError \u001b[38;5;28;01mas\u001b[39;00m e:\n\u001b[0;32m    330\u001b[0m   \u001b[38;5;28;01mraise\u001b[39;00m _translate_cloud_exception(e)\n",
      "File \u001b[1;32m~\\anaconda3\\envs\\BPD4a\\lib\\site-packages\\googleapiclient\\_helpers.py:134\u001b[0m, in \u001b[0;36mpositional.<locals>.positional_decorator.<locals>.positional_wrapper\u001b[1;34m(*args, **kwargs)\u001b[0m\n\u001b[0;32m    132\u001b[0m     \u001b[38;5;28;01melif\u001b[39;00m positional_parameters_enforcement \u001b[38;5;241m==\u001b[39m POSITIONAL_WARNING:\n\u001b[0;32m    133\u001b[0m         logger\u001b[38;5;241m.\u001b[39mwarning(message)\n\u001b[1;32m--> 134\u001b[0m \u001b[38;5;28;01mreturn\u001b[39;00m wrapped(\u001b[38;5;241m*\u001b[39margs, \u001b[38;5;241m*\u001b[39m\u001b[38;5;241m*\u001b[39mkwargs)\n",
      "File \u001b[1;32m~\\anaconda3\\envs\\BPD4a\\lib\\site-packages\\googleapiclient\\http.py:900\u001b[0m, in \u001b[0;36mHttpRequest.execute\u001b[1;34m(self, http, num_retries)\u001b[0m\n\u001b[0;32m    897\u001b[0m     \u001b[38;5;28mself\u001b[39m\u001b[38;5;241m.\u001b[39mheaders[\u001b[38;5;124m\"\u001b[39m\u001b[38;5;124mcontent-length\u001b[39m\u001b[38;5;124m\"\u001b[39m] \u001b[38;5;241m=\u001b[39m \u001b[38;5;28mstr\u001b[39m(\u001b[38;5;28mlen\u001b[39m(\u001b[38;5;28mself\u001b[39m\u001b[38;5;241m.\u001b[39mbody))\n\u001b[0;32m    899\u001b[0m \u001b[38;5;66;03m# Handle retries for server-side errors.\u001b[39;00m\n\u001b[1;32m--> 900\u001b[0m resp, content \u001b[38;5;241m=\u001b[39m \u001b[43m_retry_request\u001b[49m\u001b[43m(\u001b[49m\n\u001b[0;32m    901\u001b[0m \u001b[43m    \u001b[49m\u001b[43mhttp\u001b[49m\u001b[43m,\u001b[49m\n\u001b[0;32m    902\u001b[0m \u001b[43m    \u001b[49m\u001b[43mnum_retries\u001b[49m\u001b[43m,\u001b[49m\n\u001b[0;32m    903\u001b[0m \u001b[43m    \u001b[49m\u001b[38;5;124;43m\"\u001b[39;49m\u001b[38;5;124;43mrequest\u001b[39;49m\u001b[38;5;124;43m\"\u001b[39;49m\u001b[43m,\u001b[49m\n\u001b[0;32m    904\u001b[0m \u001b[43m    \u001b[49m\u001b[38;5;28;43mself\u001b[39;49m\u001b[38;5;241;43m.\u001b[39;49m\u001b[43m_sleep\u001b[49m\u001b[43m,\u001b[49m\n\u001b[0;32m    905\u001b[0m \u001b[43m    \u001b[49m\u001b[38;5;28;43mself\u001b[39;49m\u001b[38;5;241;43m.\u001b[39;49m\u001b[43m_rand\u001b[49m\u001b[43m,\u001b[49m\n\u001b[0;32m    906\u001b[0m \u001b[43m    \u001b[49m\u001b[38;5;28;43mstr\u001b[39;49m\u001b[43m(\u001b[49m\u001b[38;5;28;43mself\u001b[39;49m\u001b[38;5;241;43m.\u001b[39;49m\u001b[43muri\u001b[49m\u001b[43m)\u001b[49m\u001b[43m,\u001b[49m\n\u001b[0;32m    907\u001b[0m \u001b[43m    \u001b[49m\u001b[43mmethod\u001b[49m\u001b[38;5;241;43m=\u001b[39;49m\u001b[38;5;28;43mstr\u001b[39;49m\u001b[43m(\u001b[49m\u001b[38;5;28;43mself\u001b[39;49m\u001b[38;5;241;43m.\u001b[39;49m\u001b[43mmethod\u001b[49m\u001b[43m)\u001b[49m\u001b[43m,\u001b[49m\n\u001b[0;32m    908\u001b[0m \u001b[43m    \u001b[49m\u001b[43mbody\u001b[49m\u001b[38;5;241;43m=\u001b[39;49m\u001b[38;5;28;43mself\u001b[39;49m\u001b[38;5;241;43m.\u001b[39;49m\u001b[43mbody\u001b[49m\u001b[43m,\u001b[49m\n\u001b[0;32m    909\u001b[0m \u001b[43m    \u001b[49m\u001b[43mheaders\u001b[49m\u001b[38;5;241;43m=\u001b[39;49m\u001b[38;5;28;43mself\u001b[39;49m\u001b[38;5;241;43m.\u001b[39;49m\u001b[43mheaders\u001b[49m\u001b[43m,\u001b[49m\n\u001b[0;32m    910\u001b[0m \u001b[43m\u001b[49m\u001b[43m)\u001b[49m\n\u001b[0;32m    912\u001b[0m \u001b[38;5;28;01mfor\u001b[39;00m callback \u001b[38;5;129;01min\u001b[39;00m \u001b[38;5;28mself\u001b[39m\u001b[38;5;241m.\u001b[39mresponse_callbacks:\n\u001b[0;32m    913\u001b[0m     callback(resp)\n",
      "File \u001b[1;32m~\\anaconda3\\envs\\BPD4a\\lib\\site-packages\\googleapiclient\\http.py:177\u001b[0m, in \u001b[0;36m_retry_request\u001b[1;34m(http, num_retries, req_type, sleep, rand, uri, method, *args, **kwargs)\u001b[0m\n\u001b[0;32m    175\u001b[0m \u001b[38;5;28;01mtry\u001b[39;00m:\n\u001b[0;32m    176\u001b[0m     exception \u001b[38;5;241m=\u001b[39m \u001b[38;5;28;01mNone\u001b[39;00m\n\u001b[1;32m--> 177\u001b[0m     resp, content \u001b[38;5;241m=\u001b[39m http\u001b[38;5;241m.\u001b[39mrequest(uri, method, \u001b[38;5;241m*\u001b[39margs, \u001b[38;5;241m*\u001b[39m\u001b[38;5;241m*\u001b[39mkwargs)\n\u001b[0;32m    178\u001b[0m \u001b[38;5;66;03m# Retry on SSL errors and socket timeout errors.\u001b[39;00m\n\u001b[0;32m    179\u001b[0m \u001b[38;5;28;01mexcept\u001b[39;00m _ssl_SSLError \u001b[38;5;28;01mas\u001b[39;00m ssl_error:\n",
      "File \u001b[1;32m~\\anaconda3\\envs\\BPD4a\\lib\\site-packages\\google_auth_httplib2.py:218\u001b[0m, in \u001b[0;36mAuthorizedHttp.request\u001b[1;34m(self, uri, method, body, headers, redirections, connection_type, **kwargs)\u001b[0m\n\u001b[0;32m    215\u001b[0m     body_stream_position \u001b[38;5;241m=\u001b[39m body\u001b[38;5;241m.\u001b[39mtell()\n\u001b[0;32m    217\u001b[0m \u001b[38;5;66;03m# Make the request.\u001b[39;00m\n\u001b[1;32m--> 218\u001b[0m response, content \u001b[38;5;241m=\u001b[39m \u001b[38;5;28mself\u001b[39m\u001b[38;5;241m.\u001b[39mhttp\u001b[38;5;241m.\u001b[39mrequest(\n\u001b[0;32m    219\u001b[0m     uri,\n\u001b[0;32m    220\u001b[0m     method,\n\u001b[0;32m    221\u001b[0m     body\u001b[38;5;241m=\u001b[39mbody,\n\u001b[0;32m    222\u001b[0m     headers\u001b[38;5;241m=\u001b[39mrequest_headers,\n\u001b[0;32m    223\u001b[0m     redirections\u001b[38;5;241m=\u001b[39mredirections,\n\u001b[0;32m    224\u001b[0m     connection_type\u001b[38;5;241m=\u001b[39mconnection_type,\n\u001b[0;32m    225\u001b[0m     \u001b[38;5;241m*\u001b[39m\u001b[38;5;241m*\u001b[39mkwargs\n\u001b[0;32m    226\u001b[0m )\n\u001b[0;32m    228\u001b[0m \u001b[38;5;66;03m# If the response indicated that the credentials needed to be\u001b[39;00m\n\u001b[0;32m    229\u001b[0m \u001b[38;5;66;03m# refreshed, then refresh the credentials and re-attempt the\u001b[39;00m\n\u001b[0;32m    230\u001b[0m \u001b[38;5;66;03m# request.\u001b[39;00m\n\u001b[0;32m    231\u001b[0m \u001b[38;5;66;03m# A stored token may expire between the time it is retrieved and\u001b[39;00m\n\u001b[0;32m    232\u001b[0m \u001b[38;5;66;03m# the time the request is made, so we may need to try twice.\u001b[39;00m\n\u001b[0;32m    233\u001b[0m \u001b[38;5;28;01mif\u001b[39;00m (\n\u001b[0;32m    234\u001b[0m     response\u001b[38;5;241m.\u001b[39mstatus \u001b[38;5;129;01min\u001b[39;00m \u001b[38;5;28mself\u001b[39m\u001b[38;5;241m.\u001b[39m_refresh_status_codes\n\u001b[0;32m    235\u001b[0m     \u001b[38;5;129;01mand\u001b[39;00m _credential_refresh_attempt \u001b[38;5;241m<\u001b[39m \u001b[38;5;28mself\u001b[39m\u001b[38;5;241m.\u001b[39m_max_refresh_attempts\n\u001b[0;32m    236\u001b[0m ):\n",
      "File \u001b[1;32m~\\anaconda3\\envs\\BPD4a\\lib\\site-packages\\httplib2\\__init__.py:1701\u001b[0m, in \u001b[0;36mHttp.request\u001b[1;34m(self, uri, method, body, headers, redirections, connection_type)\u001b[0m\n\u001b[0;32m   1699\u001b[0m             content \u001b[38;5;241m=\u001b[39m \u001b[38;5;124mb\u001b[39m\u001b[38;5;124m\"\u001b[39m\u001b[38;5;124m\"\u001b[39m\n\u001b[0;32m   1700\u001b[0m         \u001b[38;5;28;01melse\u001b[39;00m:\n\u001b[1;32m-> 1701\u001b[0m             (response, content) \u001b[38;5;241m=\u001b[39m \u001b[38;5;28;43mself\u001b[39;49m\u001b[38;5;241;43m.\u001b[39;49m\u001b[43m_request\u001b[49m\u001b[43m(\u001b[49m\n\u001b[0;32m   1702\u001b[0m \u001b[43m                \u001b[49m\u001b[43mconn\u001b[49m\u001b[43m,\u001b[49m\u001b[43m \u001b[49m\u001b[43mauthority\u001b[49m\u001b[43m,\u001b[49m\u001b[43m \u001b[49m\u001b[43muri\u001b[49m\u001b[43m,\u001b[49m\u001b[43m \u001b[49m\u001b[43mrequest_uri\u001b[49m\u001b[43m,\u001b[49m\u001b[43m \u001b[49m\u001b[43mmethod\u001b[49m\u001b[43m,\u001b[49m\u001b[43m \u001b[49m\u001b[43mbody\u001b[49m\u001b[43m,\u001b[49m\u001b[43m \u001b[49m\u001b[43mheaders\u001b[49m\u001b[43m,\u001b[49m\u001b[43m \u001b[49m\u001b[43mredirections\u001b[49m\u001b[43m,\u001b[49m\u001b[43m \u001b[49m\u001b[43mcachekey\u001b[49m\u001b[43m,\u001b[49m\n\u001b[0;32m   1703\u001b[0m \u001b[43m            \u001b[49m\u001b[43m)\u001b[49m\n\u001b[0;32m   1704\u001b[0m \u001b[38;5;28;01mexcept\u001b[39;00m \u001b[38;5;167;01mException\u001b[39;00m \u001b[38;5;28;01mas\u001b[39;00m e:\n\u001b[0;32m   1705\u001b[0m     is_timeout \u001b[38;5;241m=\u001b[39m \u001b[38;5;28misinstance\u001b[39m(e, socket\u001b[38;5;241m.\u001b[39mtimeout)\n",
      "File \u001b[1;32m~\\anaconda3\\envs\\BPD4a\\lib\\site-packages\\httplib2\\__init__.py:1421\u001b[0m, in \u001b[0;36mHttp._request\u001b[1;34m(self, conn, host, absolute_uri, request_uri, method, body, headers, redirections, cachekey)\u001b[0m\n\u001b[0;32m   1418\u001b[0m \u001b[38;5;28;01mif\u001b[39;00m auth:\n\u001b[0;32m   1419\u001b[0m     auth\u001b[38;5;241m.\u001b[39mrequest(method, request_uri, headers, body)\n\u001b[1;32m-> 1421\u001b[0m (response, content) \u001b[38;5;241m=\u001b[39m \u001b[38;5;28;43mself\u001b[39;49m\u001b[38;5;241;43m.\u001b[39;49m\u001b[43m_conn_request\u001b[49m\u001b[43m(\u001b[49m\u001b[43mconn\u001b[49m\u001b[43m,\u001b[49m\u001b[43m \u001b[49m\u001b[43mrequest_uri\u001b[49m\u001b[43m,\u001b[49m\u001b[43m \u001b[49m\u001b[43mmethod\u001b[49m\u001b[43m,\u001b[49m\u001b[43m \u001b[49m\u001b[43mbody\u001b[49m\u001b[43m,\u001b[49m\u001b[43m \u001b[49m\u001b[43mheaders\u001b[49m\u001b[43m)\u001b[49m\n\u001b[0;32m   1423\u001b[0m \u001b[38;5;28;01mif\u001b[39;00m auth:\n\u001b[0;32m   1424\u001b[0m     \u001b[38;5;28;01mif\u001b[39;00m auth\u001b[38;5;241m.\u001b[39mresponse(response, body):\n",
      "File \u001b[1;32m~\\anaconda3\\envs\\BPD4a\\lib\\site-packages\\httplib2\\__init__.py:1382\u001b[0m, in \u001b[0;36mHttp._conn_request\u001b[1;34m(self, conn, request_uri, method, body, headers)\u001b[0m\n\u001b[0;32m   1380\u001b[0m     seen_bad_status_line \u001b[38;5;241m=\u001b[39m \u001b[38;5;28;01mTrue\u001b[39;00m\n\u001b[0;32m   1381\u001b[0m     conn\u001b[38;5;241m.\u001b[39mclose()\n\u001b[1;32m-> 1382\u001b[0m     \u001b[43mconn\u001b[49m\u001b[38;5;241;43m.\u001b[39;49m\u001b[43mconnect\u001b[49m\u001b[43m(\u001b[49m\u001b[43m)\u001b[49m\n\u001b[0;32m   1383\u001b[0m     \u001b[38;5;28;01mcontinue\u001b[39;00m\n\u001b[0;32m   1384\u001b[0m \u001b[38;5;28;01melse\u001b[39;00m:\n",
      "File \u001b[1;32m~\\anaconda3\\envs\\BPD4a\\lib\\site-packages\\httplib2\\__init__.py:1119\u001b[0m, in \u001b[0;36mHTTPSConnectionWithTimeout.connect\u001b[1;34m(self)\u001b[0m\n\u001b[0;32m   1115\u001b[0m     proxy_headers \u001b[38;5;241m=\u001b[39m \u001b[38;5;28;01mNone\u001b[39;00m\n\u001b[0;32m   1117\u001b[0m socket_err \u001b[38;5;241m=\u001b[39m \u001b[38;5;28;01mNone\u001b[39;00m\n\u001b[1;32m-> 1119\u001b[0m address_info \u001b[38;5;241m=\u001b[39m \u001b[43msocket\u001b[49m\u001b[38;5;241;43m.\u001b[39;49m\u001b[43mgetaddrinfo\u001b[49m\u001b[43m(\u001b[49m\u001b[43mhost\u001b[49m\u001b[43m,\u001b[49m\u001b[43m \u001b[49m\u001b[43mport\u001b[49m\u001b[43m,\u001b[49m\u001b[43m \u001b[49m\u001b[38;5;241;43m0\u001b[39;49m\u001b[43m,\u001b[49m\u001b[43m \u001b[49m\u001b[43msocket\u001b[49m\u001b[38;5;241;43m.\u001b[39;49m\u001b[43mSOCK_STREAM\u001b[49m\u001b[43m)\u001b[49m\n\u001b[0;32m   1120\u001b[0m \u001b[38;5;28;01mfor\u001b[39;00m family, socktype, proto, canonname, sockaddr \u001b[38;5;129;01min\u001b[39;00m address_info:\n\u001b[0;32m   1121\u001b[0m     \u001b[38;5;28;01mtry\u001b[39;00m:\n",
      "File \u001b[1;32m~\\anaconda3\\envs\\BPD4a\\lib\\socket.py:955\u001b[0m, in \u001b[0;36mgetaddrinfo\u001b[1;34m(host, port, family, type, proto, flags)\u001b[0m\n\u001b[0;32m    952\u001b[0m \u001b[38;5;66;03m# We override this function since we want to translate the numeric family\u001b[39;00m\n\u001b[0;32m    953\u001b[0m \u001b[38;5;66;03m# and socket type values to enum constants.\u001b[39;00m\n\u001b[0;32m    954\u001b[0m addrlist \u001b[38;5;241m=\u001b[39m []\n\u001b[1;32m--> 955\u001b[0m \u001b[38;5;28;01mfor\u001b[39;00m res \u001b[38;5;129;01min\u001b[39;00m \u001b[43m_socket\u001b[49m\u001b[38;5;241;43m.\u001b[39;49m\u001b[43mgetaddrinfo\u001b[49m\u001b[43m(\u001b[49m\u001b[43mhost\u001b[49m\u001b[43m,\u001b[49m\u001b[43m \u001b[49m\u001b[43mport\u001b[49m\u001b[43m,\u001b[49m\u001b[43m \u001b[49m\u001b[43mfamily\u001b[49m\u001b[43m,\u001b[49m\u001b[43m \u001b[49m\u001b[38;5;28;43mtype\u001b[39;49m\u001b[43m,\u001b[49m\u001b[43m \u001b[49m\u001b[43mproto\u001b[49m\u001b[43m,\u001b[49m\u001b[43m \u001b[49m\u001b[43mflags\u001b[49m\u001b[43m)\u001b[49m:\n\u001b[0;32m    956\u001b[0m     af, socktype, proto, canonname, sa \u001b[38;5;241m=\u001b[39m res\n\u001b[0;32m    957\u001b[0m     addrlist\u001b[38;5;241m.\u001b[39mappend((_intenum_converter(af, AddressFamily),\n\u001b[0;32m    958\u001b[0m                      _intenum_converter(socktype, SocketKind),\n\u001b[0;32m    959\u001b[0m                      proto, canonname, sa))\n",
      "\u001b[1;31mgaierror\u001b[0m: [Errno 11001] getaddrinfo failed"
     ]
    },
    {
     "data": {
      "text/plain": [
       "<ee.dictionary.Dictionary at 0x1de989cee60>"
      ]
     },
     "execution_count": 8,
     "metadata": {},
     "output_type": "execute_result"
    }
   ],
   "source": [
    "area_above_critical_values(ee.ImageCollection(annual_med_calc).toBands(), aoi, 1994, d, 30, 'fakeloc')\n"
   ]
  },
  {
   "cell_type": "code",
   "execution_count": 37,
   "id": "d339cc6c-28e6-46c0-9047-e484eaf75255",
   "metadata": {},
   "outputs": [
    {
     "data": {
      "text/plain": [
       "{'0.1_NBR': 2897.4294165448564,\n",
       " '0.2_NDMI': 2885.4837343902277,\n",
       " '0.2_NDVI': 2675.72004751539,\n",
       " '0.4_NDSI': 2578.1680364228687,\n",
       " '0.2_EVI': 1533.0052715799595,\n",
       " '0.2_GNDVI': 14.74355613458347,\n",
       " '0.15_TCB': 2845.6737921508407,\n",
       " '0.1_TCG': 2867.651258377411,\n",
       " '0.15_TCW': 2918.781787403685,\n",
       " '0.2_TCA': 2871.378451431065,\n",
       " '-0.2_NDFI': 1.6180864283684222}"
      ]
     },
     "execution_count": 37,
     "metadata": {},
     "output_type": "execute_result"
    }
   ],
   "source": [
    "area_dict = {f'{crit_val/1000}_{band}':list(total_areas_dict.values())[i] for i, (band, crit_val) in enumerate(d.items())}\n",
    "area_dict\n",
    "# df_band_areas(annual_med_calc.filterMetadata('system:index', 'equals', '0'), 30, d, 'The area formerly known as princetown')"
   ]
  },
  {
   "cell_type": "code",
   "execution_count": 38,
   "id": "96a83be3-bfe8-4b61-a30f-24330ec2a61c",
   "metadata": {},
   "outputs": [
    {
     "data": {
      "text/plain": [
       "{'EVI': 2897.4294165448564,\n",
       " 'GNDVI': 2885.4837343902277,\n",
       " 'NBR': 2675.72004751539,\n",
       " 'NDFI': 2578.1680364228687,\n",
       " 'NDMI': 1533.0052715799595,\n",
       " 'NDSI': 14.74355613458347,\n",
       " 'NDVI': 2845.6737921508407,\n",
       " 'TCA': 2867.651258377411,\n",
       " 'TCB': 2918.781787403685,\n",
       " 'TCG': 2871.378451431065,\n",
       " 'TCW': 1.6180864283684222}"
      ]
     },
     "execution_count": 38,
     "metadata": {},
     "output_type": "execute_result"
    }
   ],
   "source": [
    "total_areas_dict"
   ]
  },
  {
   "cell_type": "code",
   "execution_count": 17,
   "id": "6756323e-4cf5-47ec-8bc3-65873920559d",
   "metadata": {},
   "outputs": [
    {
     "data": {
      "text/plain": [
       "1989"
      ]
     },
     "execution_count": 17,
     "metadata": {},
     "output_type": "execute_result"
    }
   ],
   "source": [
    "img_date = msToDate(image.get(\"system:time_start\").getInfo())\n",
    "img_date.year"
   ]
  },
  {
   "cell_type": "code",
   "execution_count": 70,
   "id": "3caae3c8-7e30-41c1-8e4d-91c5550e80cb",
   "metadata": {},
   "outputs": [],
   "source": [
    "def get_histogram(image: ee.Image, band: str, aoi: ee.Geometry) -> dict:\n",
    "    \"\"\"\n",
    "    Returns the histogram of band values for a given image band.\n",
    "    image: ee.Image - The image to get the histogram for\n",
    "    band: str - The name of the band to get the histogram for\n",
    "    Returns: dict - A dictionary containing the histogram data\n",
    "    \"\"\"\n",
    "    hist = image.select(band).reduceRegion(\n",
    "        reducer=ee.Reducer.histogram(255),\n",
    "        geometry=aoi,\n",
    "        scale=30,\n",
    "        maxPixels=1e13,\n",
    "        bestEffort=True\n",
    "    ).get(band)\n",
    "    return hist.getInfo()\n",
    "\n",
    "def get_histograms(image: ee.Image, bands: list, aoi: ee.Geometry) -> list:\n",
    "    \"\"\"\n",
    "    Returns the histogram of band values for each band in the given list.\n",
    "    image: ee.Image - The image to get the histograms for\n",
    "    bands: list - A list of band names to get the histograms for\n",
    "    Returns: list - A list of dictionaries, each containing the histogram data for a band\n",
    "    \"\"\"\n",
    "    histograms = []\n",
    "    for band in bands:\n",
    "        hist = get_histogram(image, band, aoi)\n",
    "        histograms.append({\n",
    "            'band': band,\n",
    "            'bucketMeans': hist['bucketMeans'],\n",
    "            'histogram': hist['histogram']\n",
    "        })\n",
    "    return histograms\n"
   ]
  },
  {
   "cell_type": "code",
   "execution_count": 72,
   "id": "3df39399-6a9f-4a25-b879-135fdc91e06a",
   "metadata": {},
   "outputs": [],
   "source": [
    "grams = get_histograms(ee.Image(annual_med_calc.first()), bandList, aoi)\n"
   ]
  },
  {
   "cell_type": "code",
   "execution_count": 78,
   "id": "c7d9bf0a-ef71-4143-a431-3ace0d03430a",
   "metadata": {},
   "outputs": [],
   "source": [
    "import numpy as np\n",
    "\n",
    "def plot_histograms(histograms: list):\n",
    "    \"\"\"\n",
    "    Plots a dictionary of histograms.\n",
    "    histograms: list - A list of histograms, each containing the band name and histogram data\n",
    "    \"\"\"\n",
    "    fig, axs = plt.subplots(1, len(histograms), figsize=(15,5))\n",
    "    for i, hist in enumerate(histograms):\n",
    "        axs[i].bar(hist['bucketMeans'], hist['histogram'])\n",
    "        axs[i].set_title(hist['band'])\n",
    "        axs[i].set_xlabel('Band Values')\n",
    "        axs[i].set_xlim(np.min(hist['bucketMeans']), np.max(hist['bucketMeans']))"
   ]
  },
  {
   "cell_type": "code",
   "execution_count": 79,
   "id": "ff53093d-dfc5-44fe-a65c-fc1005f7ec2b",
   "metadata": {},
   "outputs": [
    {
     "data": {
      "image/png": "[encoded data removed]",
      "text/plain": [
       "<Figure size 1500x500 with 6 Axes>"
      ]
     },
     "metadata": {},
     "output_type": "display_data"
    }
   ],
   "source": [
    "plot_histograms(grams)"
   ]
  },
  {
   "cell_type": "code",
   "execution_count": 113,
   "id": "7b3fb705-3939-409a-a53c-b6975d2e3755",
   "metadata": {},
   "outputs": [],
   "source": [
    "image= ee.ImageCollection(annual_med_calc.filterMetadata('system:index', 'equals', '5')).first()\n"
   ]
  },
  {
   "cell_type": "code",
   "execution_count": 96,
   "id": "142602d4-e368-4c5e-a31a-7fc1155f2391",
   "metadata": {},
   "outputs": [
    {
     "data": {
      "application/vnd.jupyter.widget-view+json": {
       "model_id": "9e5cffc50d41465c9dc9babec93383e2",
       "version_major": 2,
       "version_minor": 0
      },
      "text/plain": [
       "Map(center=[20, 0], controls=(WidgetControl(options=['position', 'transparent_bg'], widget=HBox(children=(Togg…"
      ]
     },
     "metadata": {},
     "output_type": "display_data"
    }
   ],
   "source": [
    "image = ee.Image(annual_med_calc.filterMetadata('system:index', 'equals', '5').first())\n",
    "Map = geemap.Map()\n",
    "Map.addLayer(image, {'bands':['NDVI'], min:0, max:1000}, 'EVI')\n",
    "Map.centerObject(aoi)\n",
    "Map"
   ]
  },
  {
   "cell_type": "code",
   "execution_count": 3,
   "id": "082e2d9a-2c13-49ed-886f-32b041a25f55",
   "metadata": {},
   "outputs": [],
   "source": [
    "# def summarize_image(image: ee.Image, region: ee.Geometry) -> dict:\n",
    "#     \"\"\"\n",
    "#     Computes statistics for an image within a given region.\n",
    "#     image: ee.Image - The image to compute statistics for\n",
    "#     region: ee.Geometry - The region to compute statistics over\n",
    "#     Returns: dict - A dictionary with statistics for the image\n",
    "#     \"\"\"\n",
    "#     stats = image.reduceRegion(\n",
    "#         reducer=ee.Reducer.percentile([25, 50, 75], ['p25', 'p50', 'p75']).combine(\n",
    "#             reducer2=ee.Reducer.mean().combine(\n",
    "#                 reducer2=ee.Reducer.stdDev(),\n",
    "#                 sharedInputs=True\n",
    "#             ),\n",
    "#             sharedInputs=True\n",
    "#         ),\n",
    "#         geometry=region,\n",
    "#         scale=30,\n",
    "#         maxPixels=1e13\n",
    "#     )\n",
    "    \n",
    "#     keys = stats.getInfo().keys()\n",
    "    \n",
    "#     try:\n",
    "#         return {key: stats.get(key).getInfo() for key in keys\n",
    "#         }\n",
    "#     except Exception as e:\n",
    "#         print(e)\n",
    "#         return {}\n",
    "    \n",
    "def summarize_image(image: ee.Image, region: ee.Geometry) -> dict:\n",
    "    \"\"\"\n",
    "    Computes the minimum and maximum values of an image within a given region.\n",
    "    image: ee.Image - The image to compute statistics for\n",
    "    region: ee.Geometry - The region to compute statistics over\n",
    "    Returns: dict - A dictionary with the minimum and maximum values of the image\n",
    "    \"\"\"\n",
    "    stats = image.reduceRegion(\n",
    "        reducer=ee.Reducer.minMax(),\n",
    "        geometry=region,\n",
    "        scale=30,\n",
    "        maxPixels=1e13,\n",
    "        bestEffort=True\n",
    "    )\n",
    "    \n",
    "    keys = stats.getInfo().keys()\n",
    "    \n",
    "    try:\n",
    "        return {key: stats.get(key).getInfo() for key in keys\n",
    "                }\n",
    "    except Exception as e:\n",
    "        print(e)\n",
    "        return {}\n"
   ]
  },
  {
   "cell_type": "code",
   "execution_count": 4,
   "id": "309e1c44-b9f1-4180-8682-ac9b2ec0a516",
   "metadata": {},
   "outputs": [
    {
     "data": {
      "text/plain": [
       "{'EVI_max': 972500,\n",
       " 'EVI_min': -1055000,\n",
       " 'GNDVI_max': 809.2738407699037,\n",
       " 'GNDVI_min': -685.5345911949685,\n",
       " 'NBR_max': 1000,\n",
       " 'NBR_min': -461.133069828722,\n",
       " 'NDFI_max': 1000,\n",
       " 'NDFI_min': -1000,\n",
       " 'NDMI_max': 1000,\n",
       " 'NDMI_min': -648.3539094650206,\n",
       " 'NDSI_max': 1000,\n",
       " 'NDSI_min': -804.5841076758461,\n",
       " 'NDVI_max': 861.0816542948038,\n",
       " 'NDVI_min': -535.2697095435684,\n",
       " 'TCA_max': 4109.552182286685,\n",
       " 'TCA_min': -2699.647074590037,\n",
       " 'TCB_max': 17418.3057,\n",
       " 'TCB_min': 261.598,\n",
       " 'TCG_max': 3678.4239000000002,\n",
       " 'TCG_min': -3155.3868999999995,\n",
       " 'TCW_max': 662.0676000000001,\n",
       " 'TCW_min': -12174.716499999999}"
      ]
     },
     "execution_count": 4,
     "metadata": {},
     "output_type": "execute_result"
    }
   ],
   "source": [
    "summarize_image(ee.Image(image), aoi)"
   ]
  },
  {
   "cell_type": "code",
   "execution_count": 5,
   "id": "623dff14-f2f8-4c01-899e-c20f370d0dc2",
   "metadata": {},
   "outputs": [
    {
     "data": {
      "text/plain": [
       "{'EVI_max': 972.5,\n",
       " 'EVI_min': -1055.0,\n",
       " 'GNDVI_max': 0.8092738407699037,\n",
       " 'GNDVI_min': -0.6855345911949685,\n",
       " 'NBR_max': 1.0,\n",
       " 'NBR_min': -0.461133069828722,\n",
       " 'NDFI_max': 1.0,\n",
       " 'NDFI_min': -1.0,\n",
       " 'NDMI_max': 1.0,\n",
       " 'NDMI_min': -0.6483539094650206,\n",
       " 'NDSI_max': 1.0,\n",
       " 'NDSI_min': -0.8045841076758461,\n",
       " 'NDVI_max': 0.8610816542948038,\n",
       " 'NDVI_min': -0.5352697095435685,\n",
       " 'TCA_max': 4.109552182286685,\n",
       " 'TCA_min': -2.699647074590037,\n",
       " 'TCB_max': 17.4183057,\n",
       " 'TCB_min': 0.261598,\n",
       " 'TCG_max': 3.6784239000000003,\n",
       " 'TCG_min': -3.1553868999999994,\n",
       " 'TCW_max': 0.6620676000000001,\n",
       " 'TCW_min': -12.174716499999999}"
      ]
     },
     "execution_count": 5,
     "metadata": {},
     "output_type": "execute_result"
    }
   ],
   "source": [
    "def divide_by_1000(d: dict) -> dict:\n",
    "    \"\"\"\n",
    "    Divides all values in a dictionary by 1000.\n",
    "    d: dict - The dictionary to modify\n",
    "    Returns: dict - A new dictionary with the values divided by 1000\n",
    "    \"\"\"\n",
    "    return {k: v/1000 for k, v in d.items()}\n",
    "\n",
    "d = {'EVI_max': 972500,\n",
    " 'EVI_min': -1055000,\n",
    " 'GNDVI_max': 809.2738407699037,\n",
    " 'GNDVI_min': -685.5345911949685,\n",
    " 'NBR_max': 1000,\n",
    " 'NBR_min': -461.133069828722,\n",
    " 'NDFI_max': 1000,\n",
    " 'NDFI_min': -1000,\n",
    " 'NDMI_max': 1000,\n",
    " 'NDMI_min': -648.3539094650206,\n",
    " 'NDSI_max': 1000,\n",
    " 'NDSI_min': -804.5841076758461,\n",
    " 'NDVI_max': 861.0816542948038,\n",
    " 'NDVI_min': -535.2697095435684,\n",
    " 'TCA_max': 4109.552182286685,\n",
    " 'TCA_min': -2699.647074590037,\n",
    " 'TCB_max': 17418.3057,\n",
    " 'TCB_min': 261.598,\n",
    " 'TCG_max': 3678.4239000000002,\n",
    " 'TCG_min': -3155.3868999999995,\n",
    " 'TCW_max': 662.0676000000001,\n",
    " 'TCW_min': -12174.716499999999}\n",
    "\n",
    "divide_by_1000(d)"
   ]
  },
  {
   "cell_type": "code",
   "execution_count": 30,
   "id": "4f4a8015-a183-4e6d-b469-646658848342",
   "metadata": {},
   "outputs": [],
   "source": [
    "import numpy as np\n",
    "\n",
    "def calculate_classification_stats(confusion_matrix):\n",
    "    # Calculate the total number of predictions\n",
    "    total = np.sum(confusion_matrix)\n",
    "    \n",
    "    # Calculate the number of true positives, false positives, false negatives, and true negatives\n",
    "    true_positives = np.diag(confusion_matrix)\n",
    "    false_positives = np.sum(confusion_matrix, axis=0) - true_positives\n",
    "    false_negatives = np.sum(confusion_matrix, axis=1) - true_positives\n",
    "    true_negatives = total - (true_positives + false_positives + false_negatives)\n",
    "\n",
    "    # Calculate the producer and consumer accuracy\n",
    "    producer_accuracy = true_positives / np.sum(confusion_matrix, axis=1)\n",
    "    consumer_accuracy = true_positives / np.sum(confusion_matrix, axis=0)\n",
    "\n",
    "    # Calculate the precision, recall, and F-score\n",
    "    precision = true_positives / (true_positives + false_positives)\n",
    "    recall = true_positives / (true_positives + false_negatives)\n",
    "    fscore = 2 * ((precision * recall) / (precision + recall))\n",
    "\n",
    "    # Calculate the overall accuracy\n",
    "    overall_accuracy = np.sum(true_positives) / total\n",
    "\n",
    "    # Calculate Cohen's kappa coefficient\n",
    "    observed_agreement = np.sum(true_positives + true_negatives) / total\n",
    "    expected_agreement = np.sum(np.sum(confusion_matrix, axis=0) * np.sum(confusion_matrix, axis=1)) / (total ** 2)\n",
    "    kappa = (observed_agreement - expected_agreement) / (1 - expected_agreement)\n",
    "\n",
    "    # Normalize kappa to a range of -1 to 1\n",
    "    normalized_kappa = kappa / 10\n",
    "\n",
    "    # Return the consumer accuracy, producer accuracy, F-score, overall accuracy, and kappa\n",
    "    return consumer_accuracy, producer_accuracy, fscore, overall_accuracy, normalized_kappa\n"
   ]
  },
  {
   "cell_type": "code",
   "execution_count": 31,
   "id": "4b9fd0d7-c707-473b-b76a-d3327d18b552",
   "metadata": {},
   "outputs": [],
   "source": [
    "mat = np.array([[  5,  44,   2,   1,   0],\n",
    " [  7, 826,  54,   2,   0],\n",
    " [  0,  99, 249,   6,   0],\n",
    " [  0,  13,  30,  61,   0],\n",
    " [  0,   0,   0,   1,   6]])"
   ]
  },
  {
   "cell_type": "code",
   "execution_count": 39,
   "id": "b67e1e9a-f366-4648-9a69-801dbbf04de9",
   "metadata": {},
   "outputs": [],
   "source": [
    "consumer_accuracy, producer_accuracy, fscore, overall_accuracy, normalized_kappa = calculate_classification_stats(mat)"
   ]
  },
  {
   "cell_type": "code",
   "execution_count": 40,
   "id": "08c4615f-620a-43ec-bfd7-16ba40728f23",
   "metadata": {},
   "outputs": [
    {
     "data": {
      "text/plain": [
       "array([0.41666667, 0.84114053, 0.74328358, 0.85915493, 1.        ])"
      ]
     },
     "execution_count": 40,
     "metadata": {},
     "output_type": "execute_result"
    }
   ],
   "source": [
    "consumer_accuracy"
   ]
  },
  {
   "cell_type": "code",
   "execution_count": null,
   "id": "3a24e22b-9588-4850-bbd6-039fe99f0448",
   "metadata": {},
   "outputs": [],
   "source": []
  }
 ],
 "metadata": {
  "kernelspec": {
   "display_name": "Python 3 (ipykernel)",
   "language": "python",
   "name": "python3"
  },
  "language_info": {
   "codemirror_mode": {
    "name": "ipython",
    "version": 3
   },
   "file_extension": ".py",
   "mimetype": "text/x-python",
   "name": "python",
   "nbconvert_exporter": "python",
   "pygments_lexer": "ipython3",
   "version": "3.10.6"
  }
 },
 "nbformat": 4,
 "nbformat_minor": 5
}
