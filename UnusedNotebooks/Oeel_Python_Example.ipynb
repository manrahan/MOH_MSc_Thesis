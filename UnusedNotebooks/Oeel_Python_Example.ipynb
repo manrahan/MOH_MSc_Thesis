{
 "cells": [
  {
   "cell_type": "code",
   "execution_count": 1,
   "metadata": {
    "id": "dLvLHUyZwMBR"
   },
   "outputs": [],
   "source": [
    "%%capture\n",
    "!pip install geemap\n",
    "!pip install oeel --upgrade"
   ]
  },
  {
   "cell_type": "code",
   "execution_count": 1,
   "metadata": {
    "colab": {
     "base_uri": "https://localhost:8080/",
     "height": 52
    },
    "id": "BXDLg8PqwINi",
    "outputId": "b3fb2394-42d1-439e-df9f-0869dc82f63d"
   },
   "outputs": [
    {
     "name": "stdout",
     "output_type": "stream",
     "text": [
      "Start initilization of OEEL...\n",
      "Initilization of OEEL is finished\n"
     ]
    }
   ],
   "source": [
    "import ee\n",
    "from oeel import oeel\n",
    "import geemap"
   ]
  },
  {
   "cell_type": "code",
   "execution_count": 2,
   "metadata": {
    "colab": {
     "base_uri": "https://localhost:8080/",
     "height": 780,
     "referenced_widgets": [
      "6a8d0aa316374e1b8570953938fcdbb7",
      "3375bd265e9a4dd8ad224f332369d9e6",
      "1d3bffa179f74418a39b054200e1bed5",
      "e88639f357e749a3aa0e225edf1e3995",
      "b2004f749a654ce79da18cd1c393698e",
      "dda96dbcc2fc4a34981d72a41ae0a336",
      "d9a676b39414463a95c3458dd8fdee30",
      "0fc5a8b911f1400a938cf697b80581b1",
      "dd7f87fa15c44f04a9c9dc12e962be55",
      "1e1191c89c344fa19528397254fe3207",
      "dba9ab3c8c604e99ae3fee37a9a680ab",
      "4e9ebd0bbb434594b2a62249b7494980",
      "7860deaaf8134aff8b14cc8a2c108444",
      "a9918fa4c59c4db28629a808028d94c8",
      "54b3a51ffa0a41de9d43f7fc736e0d9d",
      "128c04ea63b04b1ea9d5b02c19411e01",
      "cce8c470acf44fb9ae773d8b8fb2c793",
      "ecba3d6676924888af658882d6c86740",
      "7b0b847b00a84fc9aae3975f7df29c67",
      "a2d5bbbe9f344732acc2d8b7574d0346",
      "1e01a4cbabc14ee59d7d55a75fb3434a",
      "66d4a2fb78b74a7791ed98b934a421be",
      "1c650ff2bcdc4428a24612a4dc96aac8",
      "6e99d9d7b5f34a59af55ede2e39beb30",
      "5419e5265b52412da41ccc0e4d44e1c6",
      "9b43cc18ebe74a1d8ff2b7e1caf803cc"
     ]
    },
    "id": "BMXhJ4RfdSi_",
    "outputId": "3717cb8e-8aa6-47b8-f27e-1b43e6a30ae6"
   },
   "outputs": [
    {
     "data": {
      "application/vnd.jupyter.widget-view+json": {
       "model_id": "06b1138455d74eed9b5d6ad870f97ab1",
       "version_major": 2,
       "version_minor": 0
      },
      "text/plain": [
       "Map(center=[0, 0], controls=(WidgetControl(options=['position', 'transparent_bg'], widget=HBox(children=(Toggl…"
      ]
     },
     "execution_count": 2,
     "metadata": {},
     "output_type": "execute_result"
    }
   ],
   "source": [
    "Map = geemap.Map(center=(0, 0), zoom=4)\n",
    "oeel.setMap(Map) # only if you want to use the Map\n",
    "Map"
   ]
  },
  {
   "cell_type": "code",
   "execution_count": 4,
   "metadata": {
    "colab": {
     "base_uri": "https://localhost:8080/"
    },
    "id": "tCNcueE1wLT0",
    "outputId": "2d19379e-0c3e-48f8-8c2d-a60ec400f7a9"
   },
   "outputs": [
    {
     "name": "stdout",
     "output_type": "stream",
     "text": [
      "oeel1:  7156\n"
     ]
    },
    {
     "name": "stderr",
     "output_type": "stream",
     "text": [
      "WARNING:googleapiclient.http:Sleeping 0.66 seconds before retry 1 of 5 for request: POST https://earthengine.googleapis.com/v1alpha/projects/earthengine-legacy/value:compute?prettyPrint=false&alt=json, after 503\n"
     ]
    },
    {
     "name": "stdout",
     "output_type": "stream",
     "text": [
      "oeel2:  7156\n",
      "oeel3:  7156\n",
      "oeel4:  7156\n"
     ]
    }
   ],
   "source": [
    "\n",
    "ic=ee.ImageCollection(\"COPERNICUS/S2_SR\");\n",
    "icSize=oeel.Algorithms.Sentinel2.cloudfree(\n",
    "\t\t\tmaxCloud=20,\n",
    "\t\t\tS2Collection=ic) \\\n",
    "\t\t.filterDate('2020-01-01','2020-01-02') \\\n",
    "\t\t.size()\n",
    "print('oeel1: ',icSize.getInfo())\n",
    "\n",
    "icSize=oeel.Algorithms.Sentinel2.cloudfree(20,\n",
    "\t\t\tS2Collection=ic) \\\n",
    "\t\t.filterDate('2020-01-01','2020-01-02') \\\n",
    "\t\t.size()\n",
    "print('oeel2: ',icSize.getInfo())\n",
    "\n",
    "icSize=oeel.Algorithms.Sentinel2.cloudfree(20,ic) \\\n",
    "\t\t.filterDate('2020-01-01','2020-01-02') \\\n",
    "\t\t.size()\n",
    "print('oeel3: ',icSize.getInfo())\n",
    "\n",
    "icSize=oeel.Algorithms.Sentinel2.cloudfree(**{\n",
    "\t\t\t'maxCloud':20,\n",
    "\t\t\t'S2Collection':ic}) \\\n",
    "\t\t.filterDate('2020-01-01','2020-01-02') \\\n",
    "\t\t.size()\n",
    "print('oeel4: ',icSize.getInfo())"
   ]
  },
  {
   "cell_type": "code",
   "execution_count": 5,
   "metadata": {
    "id": "jmvXWjrH6UkA"
   },
   "outputs": [],
   "source": [
    "%%bash\n",
    "echo '\n",
    "exports.test=function(ic){\n",
    "\tprint(\"Hello Earth!\");\n",
    "\tMap.addLayer(ee.Image(\"CGIAR/SRTM90_V4\"), {min:0, max:4000})\n",
    "\tMap.setZoom(1);\n",
    "\treturn ic.filterDate(\"2022-01-01\",\"2022-01-02\");\n",
    "}\n",
    "\n",
    "exports.moveMap=function(){\n",
    "\tui.util.setTimeout(function(){\n",
    "\t\tprint(\"move the Map!\")\n",
    "\t\tMap.setCenter(10, 20, 5)\n",
    "\t\tui.util.setTimeout(function(){\n",
    "\t\t\tMap.setCenter(10, 40, 6)\n",
    "\t\t},2000)\n",
    "\t}, 5000)\n",
    "}\n",
    "\n",
    "exports.simplePrint=function(val){\n",
    "\tprint(val)\n",
    "}\n",
    "' > testLib.js"
   ]
  },
  {
   "cell_type": "code",
   "execution_count": 6,
   "metadata": {
    "colab": {
     "base_uri": "https://localhost:8080/",
     "height": 52
    },
    "id": "ImS9J6oE5tct",
    "outputId": "2a033e07-9788-4ac4-fca6-8bfd772bfa78"
   },
   "outputs": [
    {
     "name": "stdout",
     "output_type": "stream",
     "text": [
      "Hello Earth!\n",
      "8882\n"
     ]
    }
   ],
   "source": [
    "testLib=oeel.requireJS('./testLib.js')\n",
    "ic=ee.ImageCollection(\"COPERNICUS/S2_SR\")\n",
    "print(testLib.test(ic).size().getInfo())"
   ]
  },
  {
   "cell_type": "code",
   "execution_count": 7,
   "metadata": {
    "colab": {
     "base_uri": "https://localhost:8080/",
     "height": 34
    },
    "id": "fv9FPYKL1AAK",
    "outputId": "5f3b6b7a-1900-4df2-a4c2-a1bd8a26434a"
   },
   "outputs": [
    {
     "name": "stdout",
     "output_type": "stream",
     "text": [
      "move the Map!\n"
     ]
    }
   ],
   "source": [
    "import time\n",
    "testLib.moveMap()\n",
    "time.sleep(10) #<-- Needed for the animation to finish"
   ]
  },
  {
   "cell_type": "code",
   "execution_count": null,
   "metadata": {
    "id": "yRAxJ_XY5ntv"
   },
   "outputs": [],
   "source": [
    "# genaPalettes=oeel.requireJS('./gena/palettes')\n",
    "# print('genaPalettes: ',genaPalettes.cmocean);\n",
    "\n",
    "# genaGrid=oeel.requireJS('./gena/grid')\n",
    "# print('genaGrid: ',genaGrid.\\\n",
    "# \tgenerateGrid(-180, -50, 180, 50, 10, 10, 0, 0).size().getInfo());"
   ]
  }
 ],
 "metadata": {
  "colab": {
   "name": "Oeel_Python_Example.ipynb",
   "provenance": []
  },
  "kernelspec": {
   "display_name": "Python 3 (ipykernel)",
   "language": "python",
   "name": "python3"
  },
  "language_info": {
   "codemirror_mode": {
    "name": "ipython",
    "version": 3
   },
   "file_extension": ".py",
   "mimetype": "text/x-python",
   "name": "python",
   "nbconvert_exporter": "python",
   "pygments_lexer": "ipython3",
   "version": "3.10.6"
  },
  "widgets": {
   "application/vnd.jupyter.widget-state+json": {
    "0fc5a8b911f1400a938cf697b80581b1": {
     "model_module": "jupyter-leaflet",
     "model_module_version": "^0.17",
     "model_name": "LeafletDrawControlModel",
     "state": {
      "_model_module": "jupyter-leaflet",
      "_model_module_version": "^0.17",
      "_model_name": "LeafletDrawControlModel",
      "_view_count": null,
      "_view_module": "jupyter-leaflet",
      "_view_module_version": "^0.17",
      "_view_name": "LeafletDrawControlView",
      "circle": {
       "shapeOptions": {
        "color": "#3388ff"
       }
      },
      "circlemarker": {},
      "data": [],
      "edit": true,
      "marker": {
       "shapeOptions": {
        "color": "#3388ff"
       }
      },
      "options": [
       "position"
      ],
      "polygon": {
       "shapeOptions": {}
      },
      "polyline": {
       "shapeOptions": {}
      },
      "position": "topleft",
      "rectangle": {
       "shapeOptions": {
        "color": "#3388ff"
       }
      },
      "remove": true
     }
    },
    "128c04ea63b04b1ea9d5b02c19411e01": {
     "model_module": "@jupyter-widgets/controls",
     "model_module_version": "1.5.0",
     "model_name": "HBoxModel",
     "state": {
      "_dom_classes": [],
      "_model_module": "@jupyter-widgets/controls",
      "_model_module_version": "1.5.0",
      "_model_name": "HBoxModel",
      "_view_count": null,
      "_view_module": "@jupyter-widgets/controls",
      "_view_module_version": "1.5.0",
      "_view_name": "HBoxView",
      "box_style": "",
      "children": [
       "IPY_MODEL_ecba3d6676924888af658882d6c86740"
      ],
      "layout": "IPY_MODEL_7b0b847b00a84fc9aae3975f7df29c67"
     }
    },
    "1c650ff2bcdc4428a24612a4dc96aac8": {
     "model_module": "@jupyter-widgets/controls",
     "model_module_version": "1.5.0",
     "model_name": "DescriptionStyleModel",
     "state": {
      "_model_module": "@jupyter-widgets/controls",
      "_model_module_version": "1.5.0",
      "_model_name": "DescriptionStyleModel",
      "_view_count": null,
      "_view_module": "@jupyter-widgets/base",
      "_view_module_version": "1.2.0",
      "_view_name": "StyleView",
      "description_width": ""
     }
    },
    "1d3bffa179f74418a39b054200e1bed5": {
     "model_module": "jupyter-leaflet",
     "model_module_version": "^0.17",
     "model_name": "LeafletZoomControlModel",
     "state": {
      "_model_module": "jupyter-leaflet",
      "_model_module_version": "^0.17",
      "_model_name": "LeafletZoomControlModel",
      "_view_count": null,
      "_view_module": "jupyter-leaflet",
      "_view_module_version": "^0.17",
      "_view_name": "LeafletZoomControlView",
      "options": [
       "position",
       "zoom_in_text",
       "zoom_in_title",
       "zoom_out_text",
       "zoom_out_title"
      ],
      "position": "topleft",
      "zoom_in_text": "+",
      "zoom_in_title": "Zoom in",
      "zoom_out_text": "-",
      "zoom_out_title": "Zoom out"
     }
    },
    "1e01a4cbabc14ee59d7d55a75fb3434a": {
     "model_module": "@jupyter-widgets/base",
     "model_module_version": "1.2.0",
     "model_name": "LayoutModel",
     "state": {
      "_model_module": "@jupyter-widgets/base",
      "_model_module_version": "1.2.0",
      "_model_name": "LayoutModel",
      "_view_count": null,
      "_view_module": "@jupyter-widgets/base",
      "_view_module_version": "1.2.0",
      "_view_name": "LayoutView",
      "align_content": null,
      "align_items": null,
      "align_self": null,
      "border": null,
      "bottom": null,
      "display": null,
      "flex": null,
      "flex_flow": null,
      "grid_area": null,
      "grid_auto_columns": null,
      "grid_auto_flow": null,
      "grid_auto_rows": null,
      "grid_column": null,
      "grid_gap": null,
      "grid_row": null,
      "grid_template_areas": null,
      "grid_template_columns": null,
      "grid_template_rows": null,
      "height": null,
      "justify_content": null,
      "justify_items": null,
      "left": null,
      "margin": null,
      "max_height": null,
      "max_width": null,
      "min_height": null,
      "min_width": null,
      "object_fit": null,
      "object_position": null,
      "order": null,
      "overflow": null,
      "overflow_x": null,
      "overflow_y": null,
      "padding": null,
      "right": null,
      "top": null,
      "visibility": null,
      "width": null
     }
    },
    "1e1191c89c344fa19528397254fe3207": {
     "model_module": "jupyter-leaflet",
     "model_module_version": "^0.17",
     "model_name": "LeafletMapStyleModel",
     "state": {
      "_model_module": "jupyter-leaflet",
      "_model_module_version": "^0.17",
      "_model_name": "LeafletMapStyleModel",
      "_view_count": null,
      "_view_module": "@jupyter-widgets/base",
      "_view_module_version": "1.2.0",
      "_view_name": "StyleView",
      "cursor": "grab"
     }
    },
    "3375bd265e9a4dd8ad224f332369d9e6": {
     "model_module": "jupyter-leaflet",
     "model_module_version": "^0.17",
     "model_name": "LeafletWidgetControlModel",
     "state": {
      "_model_module": "jupyter-leaflet",
      "_model_module_version": "^0.17",
      "_model_name": "LeafletWidgetControlModel",
      "_view_count": null,
      "_view_module": "jupyter-leaflet",
      "_view_module_version": "^0.17",
      "_view_name": "LeafletWidgetControlView",
      "max_height": null,
      "max_width": null,
      "min_height": null,
      "min_width": null,
      "options": [
       "position",
       "transparent_bg"
      ],
      "position": "topleft",
      "transparent_bg": false,
      "widget": "IPY_MODEL_128c04ea63b04b1ea9d5b02c19411e01"
     }
    },
    "4e9ebd0bbb434594b2a62249b7494980": {
     "model_module": "jupyter-leaflet",
     "model_module_version": "^0.17",
     "model_name": "LeafletTileLayerModel",
     "state": {
      "_model_module": "jupyter-leaflet",
      "_model_module_version": "^0.17",
      "_model_name": "LeafletTileLayerModel",
      "_view_count": null,
      "_view_module": "jupyter-leaflet",
      "_view_module_version": "^0.17",
      "_view_name": "LeafletTileLayerView",
      "attribution": "&copy; <a href=\"https://www.openstreetmap.org/copyright\">OpenStreetMap</a> contributors",
      "base": true,
      "bottom": true,
      "bounds": null,
      "detect_retina": false,
      "loading": false,
      "max_native_zoom": null,
      "max_zoom": 19,
      "min_native_zoom": null,
      "min_zoom": 1,
      "name": "OpenStreetMap.Mapnik",
      "no_wrap": false,
      "opacity": 1,
      "options": [
       "attribution",
       "bounds",
       "detect_retina",
       "max_native_zoom",
       "max_zoom",
       "min_native_zoom",
       "min_zoom",
       "no_wrap",
       "tile_size",
       "tms",
       "zoom_offset"
      ],
      "pane": "",
      "popup": null,
      "popup_max_height": null,
      "popup_max_width": 300,
      "popup_min_width": 50,
      "show_loading": false,
      "subitems": [],
      "tile_size": 256,
      "tms": false,
      "url": "https://tile.openstreetmap.org/{z}/{x}/{y}.png",
      "visible": true,
      "zoom_offset": 0
     }
    },
    "5419e5265b52412da41ccc0e4d44e1c6": {
     "model_module": "@jupyter-widgets/controls",
     "model_module_version": "1.5.0",
     "model_name": "DescriptionStyleModel",
     "state": {
      "_model_module": "@jupyter-widgets/controls",
      "_model_module_version": "1.5.0",
      "_model_name": "DescriptionStyleModel",
      "_view_count": null,
      "_view_module": "@jupyter-widgets/base",
      "_view_module_version": "1.2.0",
      "_view_name": "StyleView",
      "description_width": ""
     }
    },
    "54b3a51ffa0a41de9d43f7fc736e0d9d": {
     "model_module": "jupyter-leaflet",
     "model_module_version": "^0.17",
     "model_name": "LeafletMapStyleModel",
     "state": {
      "_model_module": "jupyter-leaflet",
      "_model_module_version": "^0.17",
      "_model_name": "LeafletMapStyleModel",
      "_view_count": null,
      "_view_module": "@jupyter-widgets/base",
      "_view_module_version": "1.2.0",
      "_view_name": "StyleView",
      "cursor": "grab"
     }
    },
    "66d4a2fb78b74a7791ed98b934a421be": {
     "model_module": "@jupyter-widgets/base",
     "model_module_version": "1.2.0",
     "model_name": "LayoutModel",
     "state": {
      "_model_module": "@jupyter-widgets/base",
      "_model_module_version": "1.2.0",
      "_model_name": "LayoutModel",
      "_view_count": null,
      "_view_module": "@jupyter-widgets/base",
      "_view_module_version": "1.2.0",
      "_view_name": "LayoutView",
      "align_content": null,
      "align_items": null,
      "align_self": null,
      "border": null,
      "bottom": null,
      "display": null,
      "flex": null,
      "flex_flow": null,
      "grid_area": null,
      "grid_auto_columns": null,
      "grid_auto_flow": null,
      "grid_auto_rows": null,
      "grid_column": null,
      "grid_gap": null,
      "grid_row": null,
      "grid_template_areas": null,
      "grid_template_columns": null,
      "grid_template_rows": null,
      "height": "28px",
      "justify_content": null,
      "justify_items": null,
      "left": null,
      "margin": null,
      "max_height": null,
      "max_width": null,
      "min_height": null,
      "min_width": null,
      "object_fit": null,
      "object_position": null,
      "order": null,
      "overflow": null,
      "overflow_x": null,
      "overflow_y": null,
      "padding": "0px 0px 0px 4px",
      "right": null,
      "top": null,
      "visibility": null,
      "width": "28px"
     }
    },
    "6a8d0aa316374e1b8570953938fcdbb7": {
     "model_module": "jupyter-leaflet",
     "model_module_version": "^0.17",
     "model_name": "LeafletMapModel",
     "state": {
      "_dom_classes": [],
      "_model_module": "jupyter-leaflet",
      "_model_module_version": "^0.17",
      "_model_name": "LeafletMapModel",
      "_view_count": null,
      "_view_module": "jupyter-leaflet",
      "_view_module_version": "^0.17",
      "_view_name": "LeafletMapView",
      "bottom": 22693,
      "bounce_at_zoom_limits": true,
      "box_zoom": true,
      "center": [
       49.40739905889802,
       3.4277343750000004
      ],
      "close_popup_on_click": true,
      "controls": [
       "IPY_MODEL_3375bd265e9a4dd8ad224f332369d9e6",
       "IPY_MODEL_1d3bffa179f74418a39b054200e1bed5",
       "IPY_MODEL_e88639f357e749a3aa0e225edf1e3995",
       "IPY_MODEL_b2004f749a654ce79da18cd1c393698e",
       "IPY_MODEL_dda96dbcc2fc4a34981d72a41ae0a336",
       "IPY_MODEL_d9a676b39414463a95c3458dd8fdee30",
       "IPY_MODEL_0fc5a8b911f1400a938cf697b80581b1",
       "IPY_MODEL_dd7f87fa15c44f04a9c9dc12e962be55"
      ],
      "crs": {
       "custom": false,
       "name": "EPSG3857"
      },
      "default_style": "IPY_MODEL_1e1191c89c344fa19528397254fe3207",
      "double_click_zoom": true,
      "dragging": true,
      "dragging_style": "IPY_MODEL_dba9ab3c8c604e99ae3fee37a9a680ab",
      "east": 5.712890625000001,
      "fullscreen": false,
      "inertia": true,
      "inertia_deceleration": 3000,
      "inertia_max_speed": 1500,
      "interpolation": "bilinear",
      "keyboard": true,
      "keyboard_pan_offset": 80,
      "keyboard_zoom_offset": 1,
      "layers": [
       "IPY_MODEL_4e9ebd0bbb434594b2a62249b7494980",
       "IPY_MODEL_7860deaaf8134aff8b14cc8a2c108444",
       "IPY_MODEL_9b43cc18ebe74a1d8ff2b7e1caf803cc"
      ],
      "layout": "IPY_MODEL_a9918fa4c59c4db28629a808028d94c8",
      "left": 32976,
      "max_zoom": 24,
      "min_zoom": null,
      "modisdate": "2022-12-14",
      "north": 50.467994531475696,
      "options": [
       "bounce_at_zoom_limits",
       "box_zoom",
       "center",
       "close_popup_on_click",
       "double_click_zoom",
       "dragging",
       "fullscreen",
       "inertia",
       "inertia_deceleration",
       "inertia_max_speed",
       "interpolation",
       "keyboard",
       "keyboard_pan_offset",
       "keyboard_zoom_offset",
       "max_zoom",
       "min_zoom",
       "prefer_canvas",
       "scroll_wheel_zoom",
       "tap",
       "tap_tolerance",
       "touch_zoom",
       "world_copy_jump",
       "zoom",
       "zoom_animation_threshold",
       "zoom_delta",
       "zoom_snap"
      ],
      "panes": {},
      "prefer_canvas": false,
      "right": 33808,
      "scroll_wheel_zoom": true,
      "south": 48.32338671633094,
      "style": "IPY_MODEL_1e1191c89c344fa19528397254fe3207",
      "tap": true,
      "tap_tolerance": 15,
      "top": 22093,
      "touch_zoom": true,
      "west": 1.1425781250000002,
      "window_url": "https://zfemhkmrxqj-496ff2e9c6d22116-0-colab.googleusercontent.com/outputframe.html?vrz=colab-20221213-060111-RC00_494987091",
      "world_copy_jump": false,
      "zoom": 8,
      "zoom_animation_threshold": 4,
      "zoom_delta": 1,
      "zoom_snap": 1
     }
    },
    "6e99d9d7b5f34a59af55ede2e39beb30": {
     "model_module": "@jupyter-widgets/base",
     "model_module_version": "1.2.0",
     "model_name": "LayoutModel",
     "state": {
      "_model_module": "@jupyter-widgets/base",
      "_model_module_version": "1.2.0",
      "_model_name": "LayoutModel",
      "_view_count": null,
      "_view_module": "@jupyter-widgets/base",
      "_view_module_version": "1.2.0",
      "_view_name": "LayoutView",
      "align_content": null,
      "align_items": null,
      "align_self": null,
      "border": null,
      "bottom": null,
      "display": null,
      "flex": null,
      "flex_flow": null,
      "grid_area": null,
      "grid_auto_columns": null,
      "grid_auto_flow": null,
      "grid_auto_rows": null,
      "grid_column": null,
      "grid_gap": null,
      "grid_row": null,
      "grid_template_areas": null,
      "grid_template_columns": null,
      "grid_template_rows": null,
      "height": "28px",
      "justify_content": null,
      "justify_items": null,
      "left": null,
      "margin": null,
      "max_height": null,
      "max_width": null,
      "min_height": null,
      "min_width": null,
      "object_fit": null,
      "object_position": null,
      "order": null,
      "overflow": null,
      "overflow_x": null,
      "overflow_y": null,
      "padding": "0px 0px 0px 4px",
      "right": null,
      "top": null,
      "visibility": null,
      "width": "28px"
     }
    },
    "7860deaaf8134aff8b14cc8a2c108444": {
     "model_module": "jupyter-leaflet",
     "model_module_version": "^0.17",
     "model_name": "LeafletTileLayerModel",
     "state": {
      "_model_module": "jupyter-leaflet",
      "_model_module_version": "^0.17",
      "_model_name": "LeafletTileLayerModel",
      "_view_count": null,
      "_view_module": "jupyter-leaflet",
      "_view_module_version": "^0.17",
      "_view_name": "LeafletTileLayerView",
      "attribution": "Google",
      "base": false,
      "bottom": true,
      "bounds": null,
      "detect_retina": false,
      "loading": false,
      "max_native_zoom": null,
      "max_zoom": 22,
      "min_native_zoom": null,
      "min_zoom": 0,
      "name": "Google Maps",
      "no_wrap": false,
      "opacity": 1,
      "options": [
       "attribution",
       "bounds",
       "detect_retina",
       "max_native_zoom",
       "max_zoom",
       "min_native_zoom",
       "min_zoom",
       "no_wrap",
       "tile_size",
       "tms",
       "zoom_offset"
      ],
      "pane": "",
      "popup": null,
      "popup_max_height": null,
      "popup_max_width": 300,
      "popup_min_width": 50,
      "show_loading": false,
      "subitems": [],
      "tile_size": 256,
      "tms": false,
      "url": "https://mt1.google.com/vt/lyrs=m&x={x}&y={y}&z={z}",
      "visible": true,
      "zoom_offset": 0
     }
    },
    "7b0b847b00a84fc9aae3975f7df29c67": {
     "model_module": "@jupyter-widgets/base",
     "model_module_version": "1.2.0",
     "model_name": "LayoutModel",
     "state": {
      "_model_module": "@jupyter-widgets/base",
      "_model_module_version": "1.2.0",
      "_model_name": "LayoutModel",
      "_view_count": null,
      "_view_module": "@jupyter-widgets/base",
      "_view_module_version": "1.2.0",
      "_view_name": "LayoutView",
      "align_content": null,
      "align_items": null,
      "align_self": null,
      "border": null,
      "bottom": null,
      "display": null,
      "flex": null,
      "flex_flow": null,
      "grid_area": null,
      "grid_auto_columns": null,
      "grid_auto_flow": null,
      "grid_auto_rows": null,
      "grid_column": null,
      "grid_gap": null,
      "grid_row": null,
      "grid_template_areas": null,
      "grid_template_columns": null,
      "grid_template_rows": null,
      "height": null,
      "justify_content": null,
      "justify_items": null,
      "left": null,
      "margin": null,
      "max_height": null,
      "max_width": null,
      "min_height": null,
      "min_width": null,
      "object_fit": null,
      "object_position": null,
      "order": null,
      "overflow": null,
      "overflow_x": null,
      "overflow_y": null,
      "padding": null,
      "right": null,
      "top": null,
      "visibility": null,
      "width": null
     }
    },
    "9b43cc18ebe74a1d8ff2b7e1caf803cc": {
     "model_module": "jupyter-leaflet",
     "model_module_version": "^0.17",
     "model_name": "LeafletTileLayerModel",
     "state": {
      "_model_module": "jupyter-leaflet",
      "_model_module_version": "^0.17",
      "_model_name": "LeafletTileLayerModel",
      "_view_count": null,
      "_view_module": "jupyter-leaflet",
      "_view_module_version": "^0.17",
      "_view_name": "LeafletTileLayerView",
      "attribution": "Google Earth Engine",
      "base": false,
      "bottom": true,
      "bounds": null,
      "detect_retina": false,
      "loading": false,
      "max_native_zoom": null,
      "max_zoom": 24,
      "min_native_zoom": null,
      "min_zoom": 0,
      "name": "Layer 3",
      "no_wrap": false,
      "opacity": 1,
      "options": [
       "attribution",
       "bounds",
       "detect_retina",
       "max_native_zoom",
       "max_zoom",
       "min_native_zoom",
       "min_zoom",
       "no_wrap",
       "tile_size",
       "tms",
       "zoom_offset"
      ],
      "pane": "",
      "popup": null,
      "popup_max_height": null,
      "popup_max_width": 300,
      "popup_min_width": 50,
      "show_loading": false,
      "subitems": [],
      "tile_size": 256,
      "tms": false,
      "url": "https://earthengine.googleapis.com/v1alpha/projects/earthengine-legacy/maps/b5ef35e2e8f7514a495d8473cdda34c6-623b033c8b6b44826d6389492919df46/tiles/{z}/{x}/{y}",
      "visible": true,
      "zoom_offset": 0
     }
    },
    "a2d5bbbe9f344732acc2d8b7574d0346": {
     "model_module": "@jupyter-widgets/controls",
     "model_module_version": "1.5.0",
     "model_name": "ToggleButtonModel",
     "state": {
      "_dom_classes": [],
      "_model_module": "@jupyter-widgets/controls",
      "_model_module_version": "1.5.0",
      "_model_name": "ToggleButtonModel",
      "_view_count": null,
      "_view_module": "@jupyter-widgets/controls",
      "_view_module_version": "1.5.0",
      "_view_name": "ToggleButtonView",
      "button_style": "",
      "description": "",
      "description_tooltip": null,
      "disabled": false,
      "icon": "wrench",
      "layout": "IPY_MODEL_6e99d9d7b5f34a59af55ede2e39beb30",
      "style": "IPY_MODEL_5419e5265b52412da41ccc0e4d44e1c6",
      "tooltip": "Toolbar",
      "value": false
     }
    },
    "a9918fa4c59c4db28629a808028d94c8": {
     "model_module": "@jupyter-widgets/base",
     "model_module_version": "1.2.0",
     "model_name": "LayoutModel",
     "state": {
      "_model_module": "@jupyter-widgets/base",
      "_model_module_version": "1.2.0",
      "_model_name": "LayoutModel",
      "_view_count": null,
      "_view_module": "@jupyter-widgets/base",
      "_view_module_version": "1.2.0",
      "_view_name": "LayoutView",
      "align_content": null,
      "align_items": null,
      "align_self": null,
      "border": null,
      "bottom": null,
      "display": null,
      "flex": null,
      "flex_flow": null,
      "grid_area": null,
      "grid_auto_columns": null,
      "grid_auto_flow": null,
      "grid_auto_rows": null,
      "grid_column": null,
      "grid_gap": null,
      "grid_row": null,
      "grid_template_areas": null,
      "grid_template_columns": null,
      "grid_template_rows": null,
      "height": "600px",
      "justify_content": null,
      "justify_items": null,
      "left": null,
      "margin": null,
      "max_height": null,
      "max_width": null,
      "min_height": null,
      "min_width": null,
      "object_fit": null,
      "object_position": null,
      "order": null,
      "overflow": null,
      "overflow_x": null,
      "overflow_y": null,
      "padding": null,
      "right": null,
      "top": null,
      "visibility": null,
      "width": null
     }
    },
    "b2004f749a654ce79da18cd1c393698e": {
     "model_module": "jupyter-leaflet",
     "model_module_version": "^0.17",
     "model_name": "LeafletFullScreenControlModel",
     "state": {
      "_model_module": "jupyter-leaflet",
      "_model_module_version": "^0.17",
      "_model_name": "LeafletFullScreenControlModel",
      "_view_count": null,
      "_view_module": "jupyter-leaflet",
      "_view_module_version": "^0.17",
      "_view_name": "LeafletFullScreenControlView",
      "options": [
       "position"
      ],
      "position": "topleft"
     }
    },
    "cce8c470acf44fb9ae773d8b8fb2c793": {
     "model_module": "@jupyter-widgets/controls",
     "model_module_version": "1.5.0",
     "model_name": "VBoxModel",
     "state": {
      "_dom_classes": [],
      "_model_module": "@jupyter-widgets/controls",
      "_model_module_version": "1.5.0",
      "_model_name": "VBoxModel",
      "_view_count": null,
      "_view_module": "@jupyter-widgets/controls",
      "_view_module_version": "1.5.0",
      "_view_name": "VBoxView",
      "box_style": "",
      "children": [
       "IPY_MODEL_a2d5bbbe9f344732acc2d8b7574d0346"
      ],
      "layout": "IPY_MODEL_1e01a4cbabc14ee59d7d55a75fb3434a"
     }
    },
    "d9a676b39414463a95c3458dd8fdee30": {
     "model_module": "jupyter-leaflet",
     "model_module_version": "^0.17",
     "model_name": "LeafletAttributionControlModel",
     "state": {
      "_model_module": "jupyter-leaflet",
      "_model_module_version": "^0.17",
      "_model_name": "LeafletAttributionControlModel",
      "_view_count": null,
      "_view_module": "jupyter-leaflet",
      "_view_module_version": "^0.17",
      "_view_name": "LeafletAttributionControlView",
      "options": [
       "position",
       "prefix"
      ],
      "position": "bottomright",
      "prefix": "ipyleaflet"
     }
    },
    "dba9ab3c8c604e99ae3fee37a9a680ab": {
     "model_module": "jupyter-leaflet",
     "model_module_version": "^0.17",
     "model_name": "LeafletMapStyleModel",
     "state": {
      "_model_module": "jupyter-leaflet",
      "_model_module_version": "^0.17",
      "_model_name": "LeafletMapStyleModel",
      "_view_count": null,
      "_view_module": "@jupyter-widgets/base",
      "_view_module_version": "1.2.0",
      "_view_name": "StyleView",
      "cursor": "move"
     }
    },
    "dd7f87fa15c44f04a9c9dc12e962be55": {
     "model_module": "jupyter-leaflet",
     "model_module_version": "^0.17",
     "model_name": "LeafletWidgetControlModel",
     "state": {
      "_model_module": "jupyter-leaflet",
      "_model_module_version": "^0.17",
      "_model_name": "LeafletWidgetControlModel",
      "_view_count": null,
      "_view_module": "jupyter-leaflet",
      "_view_module_version": "^0.17",
      "_view_name": "LeafletWidgetControlView",
      "max_height": null,
      "max_width": null,
      "min_height": null,
      "min_width": null,
      "options": [
       "position",
       "transparent_bg"
      ],
      "position": "topright",
      "transparent_bg": false,
      "widget": "IPY_MODEL_cce8c470acf44fb9ae773d8b8fb2c793"
     }
    },
    "dda96dbcc2fc4a34981d72a41ae0a336": {
     "model_module": "jupyter-leaflet",
     "model_module_version": "^0.17",
     "model_name": "LeafletMeasureControlModel",
     "state": {
      "_custom_units": {},
      "_model_module": "jupyter-leaflet",
      "_model_module_version": "^0.17",
      "_model_name": "LeafletMeasureControlModel",
      "_view_count": null,
      "_view_module": "jupyter-leaflet",
      "_view_module_version": "^0.17",
      "_view_name": "LeafletMeasureControlView",
      "active_color": "orange",
      "capture_z_index": 10000,
      "completed_color": "#C8F2BE",
      "options": [
       "active_color",
       "capture_z_index",
       "completed_color",
       "popup_options",
       "position",
       "primary_area_unit",
       "primary_length_unit",
       "secondary_area_unit",
       "secondary_length_unit"
      ],
      "popup_options": {
       "autoPanPadding": [
        10,
        10
       ],
       "className": "leaflet-measure-resultpopup"
      },
      "position": "bottomleft",
      "primary_area_unit": "acres",
      "primary_length_unit": "kilometers",
      "secondary_area_unit": null,
      "secondary_length_unit": null
     }
    },
    "e88639f357e749a3aa0e225edf1e3995": {
     "model_module": "jupyter-leaflet",
     "model_module_version": "^0.17",
     "model_name": "LeafletScaleControlModel",
     "state": {
      "_model_module": "jupyter-leaflet",
      "_model_module_version": "^0.17",
      "_model_name": "LeafletScaleControlModel",
      "_view_count": null,
      "_view_module": "jupyter-leaflet",
      "_view_module_version": "^0.17",
      "_view_name": "LeafletScaleControlView",
      "imperial": true,
      "max_width": 100,
      "metric": true,
      "options": [
       "imperial",
       "max_width",
       "metric",
       "position",
       "update_when_idle"
      ],
      "position": "bottomleft",
      "update_when_idle": false
     }
    },
    "ecba3d6676924888af658882d6c86740": {
     "model_module": "@jupyter-widgets/controls",
     "model_module_version": "1.5.0",
     "model_name": "ToggleButtonModel",
     "state": {
      "_dom_classes": [],
      "_model_module": "@jupyter-widgets/controls",
      "_model_module_version": "1.5.0",
      "_model_name": "ToggleButtonModel",
      "_view_count": null,
      "_view_module": "@jupyter-widgets/controls",
      "_view_module_version": "1.5.0",
      "_view_name": "ToggleButtonView",
      "button_style": "",
      "description": "",
      "description_tooltip": null,
      "disabled": false,
      "icon": "globe",
      "layout": "IPY_MODEL_66d4a2fb78b74a7791ed98b934a421be",
      "style": "IPY_MODEL_1c650ff2bcdc4428a24612a4dc96aac8",
      "tooltip": "Search location/data",
      "value": false
     }
    }
   }
  }
 },
 "nbformat": 4,
 "nbformat_minor": 4
}
