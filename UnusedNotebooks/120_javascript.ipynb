{
 "cells": [
  {
   "cell_type": "markdown",
   "id": "f213685d-a844-4dae-8f85-56b4c860cbe0",
   "metadata": {
    "id": "f213685d-a844-4dae-8f85-56b4c860cbe0"
   },
   "source": [
    "[![image](https://colab.research.google.com/assets/colab-badge.svg)](https://githubtocolab.com/giswqs/geemap/blob/master/examples/notebooks/120_javascript.ipynb)\n",
    "[![image](https://mybinder.org/badge_logo.svg)](https://gishub.org/geemap-binder)\n",
    "\n",
    "**Calling functions in Earth Engine JavaScript libraries from Python**"
   ]
  },
  {
   "cell_type": "markdown",
   "id": "e7254768-ab7a-40f1-8fac-df9a806d65bc",
   "metadata": {
    "id": "e7254768-ab7a-40f1-8fac-df9a806d65bc"
   },
   "source": [
    "Run the following line to enable tab-completion for JavaScript libraries."
   ]
  },
  {
   "cell_type": "code",
   "execution_count": 5,
   "id": "e63ff84a-466e-4219-889f-16f0f775beea",
   "metadata": {
    "id": "e63ff84a-466e-4219-889f-16f0f775beea"
   },
   "outputs": [],
   "source": [
    "%config IPCompleter.use_jedi = False"
   ]
  },
  {
   "cell_type": "markdown",
   "id": "72d4b636-e30e-4f26-ac0e-e2fae5cf113f",
   "metadata": {
    "id": "72d4b636-e30e-4f26-ac0e-e2fae5cf113f"
   },
   "source": [
    "Import libraries"
   ]
  },
  {
   "cell_type": "code",
   "execution_count": 32,
   "id": "a4a5ebbe-7382-4ebd-b8c7-72342fda809b",
   "metadata": {
    "id": "a4a5ebbe-7382-4ebd-b8c7-72342fda809b"
   },
   "outputs": [],
   "source": [
    "import ee\n",
    "import geemap\n",
    "import oeel"
   ]
  },
  {
   "cell_type": "code",
   "execution_count": 33,
   "id": "32e22cba-dedc-41c0-ad71-23efd4ad109b",
   "metadata": {
    "id": "32e22cba-dedc-41c0-ad71-23efd4ad109b",
    "tags": []
   },
   "outputs": [],
   "source": [
    "geemap.ee_initialize()"
   ]
  },
  {
   "cell_type": "markdown",
   "id": "b0c75079-227b-41e9-9de8-4f63b559488b",
   "metadata": {
    "id": "b0c75079-227b-41e9-9de8-4f63b559488b"
   },
   "source": [
    "Use the [Open Earth Engine Library (OEEL)](https://www.open-geocomputing.org/OpenEarthEngineLibrary/#)"
   ]
  },
  {
   "cell_type": "code",
   "execution_count": 34,
   "id": "b8f3b590-2f41-4d55-9dde-311246167554",
   "metadata": {
    "id": "b8f3b590-2f41-4d55-9dde-311246167554"
   },
   "outputs": [],
   "source": [
    "#oeel = geemap.requireJS(\"\")\n",
    "#oeel = geemap.requireJS()"
   ]
  },
  {
   "cell_type": "code",
   "execution_count": null,
   "id": "a2c8dfca-2117-4342-a569-0c7769208f28",
   "metadata": {
    "id": "a2c8dfca-2117-4342-a569-0c7769208f28"
   },
   "outputs": [],
   "source": []
  },
  {
   "cell_type": "markdown",
   "id": "149a18b2-3c53-427c-8b98-17248fa3330c",
   "metadata": {
    "id": "149a18b2-3c53-427c-8b98-17248fa3330c"
   },
   "source": [
    "Use an Earth Engine JavaScript library from a HTTP URL."
   ]
  },
  {
   "cell_type": "code",
   "execution_count": 35,
   "id": "e6157fac-15c5-4016-b24e-3729960e6844",
   "metadata": {
    "id": "e6157fac-15c5-4016-b24e-3729960e6844"
   },
   "outputs": [],
   "source": [
    "url = 'grid.js'"
   ]
  },
  {
   "cell_type": "code",
   "execution_count": 37,
   "id": "7e385a13-e422-47ab-9231-a557e6107ca3",
   "metadata": {
    "id": "7e385a13-e422-47ab-9231-a557e6107ca3"
   },
   "outputs": [],
   "source": [
    "lib = geemap.requireJS(url)"
   ]
  },
  {
   "cell_type": "code",
   "execution_count": 38,
   "id": "c4f9427d-7a14-4433-8964-2e726c2b8375",
   "metadata": {
    "id": "c4f9427d-7a14-4433-8964-2e726c2b8375"
   },
   "outputs": [
    {
     "data": {
      "text/plain": [
       "<function oeel.external.externalEEjs.callArgument.get.<locals>.localFunc(*argl, **args)>"
      ]
     },
     "execution_count": 38,
     "metadata": {},
     "output_type": "execute_result"
    }
   ],
   "source": [
    "lib.generateGrid"
   ]
  },
  {
   "cell_type": "code",
   "execution_count": 39,
   "id": "8ead5554-7df6-4233-957d-1db17bf656fb",
   "metadata": {
    "id": "8ead5554-7df6-4233-957d-1db17bf656fb"
   },
   "outputs": [],
   "source": [
    "grid = lib.generateGrid(-180, -50, 180, 50, 10, 10, 0, 0)"
   ]
  },
  {
   "cell_type": "code",
   "execution_count": 40,
   "id": "103ce65e-6dc2-4309-9cc8-e7374bf57af3",
   "metadata": {
    "id": "103ce65e-6dc2-4309-9cc8-e7374bf57af3"
   },
   "outputs": [
    {
     "data": {
      "application/vnd.jupyter.widget-view+json": {
       "model_id": "79bdc65dbb6a4f4e996ddcd5e5627b19",
       "version_major": 2,
       "version_minor": 0
      },
      "text/plain": [
       "Map(center=[20, 0], controls=(WidgetControl(options=['position', 'transparent_bg'], widget=HBox(children=(Togg…"
      ]
     },
     "execution_count": 40,
     "metadata": {},
     "output_type": "execute_result"
    }
   ],
   "source": [
    "Map = geemap.Map()\n",
    "Map.addLayer(grid, {}, 'Grid')\n",
    "Map"
   ]
  },
  {
   "cell_type": "markdown",
   "id": "b4c54aeb-763a-4f35-b024-49bf0f4275a1",
   "metadata": {
    "id": "b4c54aeb-763a-4f35-b024-49bf0f4275a1"
   },
   "source": [
    "Use a local Earth Engine JavaScript library."
   ]
  },
  {
   "cell_type": "code",
   "execution_count": null,
   "id": "cc5da96b-d9f7-4042-b21c-1aed2be24d8e",
   "metadata": {
    "id": "cc5da96b-d9f7-4042-b21c-1aed2be24d8e"
   },
   "outputs": [],
   "source": [
    "Map = geemap.Map()\n",
    "Map"
   ]
  },
  {
   "cell_type": "code",
   "execution_count": null,
   "id": "2afecc83-5fce-4ccc-8329-cd22eb212b48",
   "metadata": {
    "id": "2afecc83-5fce-4ccc-8329-cd22eb212b48"
   },
   "outputs": [],
   "source": [
    "lib = geemap.requireJS('grid.js', Map)"
   ]
  },
  {
   "cell_type": "code",
   "execution_count": null,
   "id": "15bedb71-b098-4470-9b10-e074f69a2841",
   "metadata": {
    "id": "15bedb71-b098-4470-9b10-e074f69a2841"
   },
   "outputs": [],
   "source": [
    "lib.availability"
   ]
  },
  {
   "cell_type": "code",
   "execution_count": null,
   "id": "842cf18c-da16-443b-9d6b-fe43a3cb72bb",
   "metadata": {
    "id": "842cf18c-da16-443b-9d6b-fe43a3cb72bb"
   },
   "outputs": [],
   "source": [
    "lib.grid_test()"
   ]
  },
  {
   "cell_type": "markdown",
   "id": "e8e1bb0f-bd5e-4ac2-9bea-ef755cbbf28c",
   "metadata": {
    "id": "e8e1bb0f-bd5e-4ac2-9bea-ef755cbbf28c"
   },
   "source": [
    "Use an Earth Engine JavaScript from an Earth Engine repo."
   ]
  },
  {
   "cell_type": "code",
   "execution_count": null,
   "id": "2ec85798-b34f-4f67-88ef-73626204fd1f",
   "metadata": {
    "id": "2ec85798-b34f-4f67-88ef-73626204fd1f"
   },
   "outputs": [],
   "source": [
    "lib = geemap.requireJS('users/gena/packages:grid')"
   ]
  },
  {
   "cell_type": "code",
   "execution_count": null,
   "id": "efe2eeb4-9a72-48c5-83f7-e0d6842683c2",
   "metadata": {
    "id": "efe2eeb4-9a72-48c5-83f7-e0d6842683c2"
   },
   "outputs": [],
   "source": [
    "lib.availability"
   ]
  },
  {
   "cell_type": "code",
   "execution_count": null,
   "id": "53c3f19c-6776-4a53-9f73-66a7fafca58c",
   "metadata": {
    "id": "53c3f19c-6776-4a53-9f73-66a7fafca58c"
   },
   "outputs": [],
   "source": [
    "grid = lib.generateGrid(-180, -50, 180, 50, 10, 10, 0, 0)"
   ]
  },
  {
   "cell_type": "code",
   "execution_count": null,
   "id": "95a9c12e-a2ba-4c36-b759-30575b50eb0f",
   "metadata": {
    "id": "95a9c12e-a2ba-4c36-b759-30575b50eb0f"
   },
   "outputs": [],
   "source": [
    "Map = geemap.Map()\n",
    "Map.addLayer(grid, {}, 'Grid')\n",
    "Map"
   ]
  }
 ],
 "metadata": {
  "colab": {
   "provenance": []
  },
  "kernelspec": {
   "display_name": "Python 3 (ipykernel)",
   "language": "python",
   "name": "python3"
  },
  "language_info": {
   "codemirror_mode": {
    "name": "ipython",
    "version": 3
   },
   "file_extension": ".py",
   "mimetype": "text/x-python",
   "name": "python",
   "nbconvert_exporter": "python",
   "pygments_lexer": "ipython3",
   "version": "3.10.6"
  }
 },
 "nbformat": 4,
 "nbformat_minor": 5
}
