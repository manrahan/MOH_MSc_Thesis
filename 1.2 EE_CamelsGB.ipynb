{
 "cells": [
  {
   "cell_type": "markdown",
   "id": "f213685d-a844-4dae-8f85-56b4c860cbe0",
   "metadata": {
    "id": "f213685d-a844-4dae-8f85-56b4c860cbe0"
   },
   "source": [
    "## LandTrendr Implementation For Decadal Averaging of Spectral Indices\n",
    "\n",
    "# Requirements: \n",
    "\n",
    "Python:\n",
    "\n",
    "* geemap\n",
    "* ee\n",
    "* matplotlib\n",
    "* numpy\n",
    "* pandas\n",
    "* oeel ** \n",
    "\n",
    "Other:\n",
    "* Google Earth Engine Account\n",
    "\n",
    "The LandTrendr algorithm is highly efficient and extensive tool with documentation at this link: https://emapr.github.io/LT-GEE/\n",
    "\n",
    "This version uses the latest processing efforts of the Landsat TM+ ETM+ and OLI collection 2\n",
    "\n",
    "** this package allows the user to run GEE modules directly without the pitfalls of translating JS to Python."
   ]
  },
  {
   "cell_type": "code",
   "execution_count": 2,
   "id": "35c5da59-29d8-4d04-b844-6c654540831f",
   "metadata": {
    "id": "e6157fac-15c5-4016-b24e-3729960e6844"
   },
   "outputs": [],
   "source": [
    "%config IPCompleter.use_jedi = False\n",
    "\n",
    "import ee\n",
    "import geemap\n",
    "from ipygee import chart as chart\n",
    "import matplotlib.pyplot as plt\n",
    "import numpy as np\n",
    "import pandas as pd\n",
    "import pymannkendall as mk\n",
    "import xarray as xr"
   ]
  },
  {
   "cell_type": "markdown",
   "id": "ebbb97ec-c96b-4312-9908-67f52483ec8f",
   "metadata": {},
   "source": [
    " # GEE Authentication\n",
    " \n",
    " - The ee.authenticate line is necessary the first time using ee and requires the user to log into their own Earth Engine account which will allow access to a personal authentication code. \n",
    " - Subsequent useage of this notebook should retain authentication for some time.\n",
    " - Comment and un-comment the authenticate command where required\n",
    " \n",
    " running the cell first following cell below runs the authentication (\"ee.Authenticate\") process. (time with a registered EE account <30s)\n",
    " \n",
    " ### Paste the Authetication code into the box below. \n",
    " \n",
    " (press enter to save token, comment out this box until prompted again )\n",
    " \n",
    " Done correctly the authentication will last some time, and can be commented until the \"ee_intialize\" cell fails, then the authentication token must be refreshed"
   ]
  },
  {
   "cell_type": "code",
   "execution_count": 3,
   "id": "5559b136-6061-4ea2-ad3d-5c8cf9f927eb",
   "metadata": {},
   "outputs": [],
   "source": [
    "#ee.Authenticate()"
   ]
  },
  {
   "cell_type": "code",
   "execution_count": 4,
   "id": "8c4ac507-28df-4313-a67c-2db9fb8681ef",
   "metadata": {},
   "outputs": [],
   "source": [
    "geemap.ee_initialize()"
   ]
  },
  {
   "cell_type": "markdown",
   "id": "18be9e09-35db-4adb-92c7-5ebc78e231da",
   "metadata": {},
   "source": [
    "### Load the EE package\n",
    "\n",
    "The landTrendr package is developed to construct timeseries of landsat imagery for the purpose of land cover detection. The base parameters are optimised for deforestation event detection. \n",
    "\n",
    "This utilisation of the GEE asset (with apache license i.e. free for use) allows for the latest version of LandTrendr to be used. In contrast to early versions this allows for the utilisation of the Landsat Collection 2 reprocessing effort with improvements in cloud masking capabilities. Primarily we use \"ltgee.buildSRcollection\""
   ]
  },
  {
   "cell_type": "code",
   "execution_count": 5,
   "id": "7c702bf6-33c6-4c28-ba17-2eb15870d719",
   "metadata": {
    "id": "e6157fac-15c5-4016-b24e-3729960e6844"
   },
   "outputs": [
    {
     "name": "stdout",
     "output_type": "stream",
     "text": [
      "IMPORTANT! Please be advised:\n",
      "- This version of the LandTrendr.js modules\n",
      "  uses Landsat Collection 2 data\n",
      "- This version (0.2.0) does NOT use the Roy et al. coefficients\n"
     ]
    },
    {
     "data": {
      "text/plain": [
       "{'version': 'string',\n",
       " 'buildSensorYearCollection': 'function',\n",
       " 'getSRcollection': 'function',\n",
       " 'getCombinedSRcollection': 'function',\n",
       " 'buildSRcollection': 'function',\n",
       " 'getCollectionIDlist': 'function',\n",
       " 'countClearViewPixels': 'function',\n",
       " 'buildClearPixelCountCollection': 'function',\n",
       " 'removeImages': 'function',\n",
       " 'getLTvertStack': 'function',\n",
       " 'calcIndex': 'function',\n",
       " 'TScollectionToStack': 'function',\n",
       " 'buildLTcollection': 'function',\n",
       " 'transformSRcollection': 'function',\n",
       " 'runLT': 'function',\n",
       " 'getFittedData': 'function',\n",
       " 'makeRGBcomposite': 'function',\n",
       " 'mapRGBcomposite': 'function',\n",
       " 'collectionToBandStack': 'function',\n",
       " 'timesyncLegacyStack': 'function',\n",
       " 'getSegmentCount': 'function',\n",
       " 'getSegmentDictionary': 'function',\n",
       " 'getSegmentArray': 'function',\n",
       " 'getPixelInfo': 'function',\n",
       " 'ltPixelTimeSeries': 'function',\n",
       " 'ltPixelTimeSeriesArray': 'function',\n",
       " 'getSegmentData': 'function',\n",
       " 'getYearBandNames': 'function',\n",
       " 'indexFlipper': 'function',\n",
       " 'makeBoolean': 'function',\n",
       " 'getFittedRGBcol': 'function',\n",
       " 'paramPanel': 'function',\n",
       " 'getParams': 'function',\n",
       " 'indexSelectPanel': 'function',\n",
       " 'getIndexSelect': 'function',\n",
       " 'maskSelectPanel': 'function',\n",
       " 'getMaskSelect': 'function',\n",
       " 'yearPanel': 'function',\n",
       " 'getYears': 'function',\n",
       " 'datePanel': 'function',\n",
       " 'getDays': 'function',\n",
       " 'coordsPanel': 'function',\n",
       " 'getCoords': 'function',\n",
       " 'bufferPanel': 'function',\n",
       " 'getBuffer': 'function',\n",
       " 'submitButton': 'function',\n",
       " 'getChangeMap': 'function'}"
      ]
     },
     "execution_count": 5,
     "metadata": {},
     "output_type": "execute_result"
    }
   ],
   "source": [
    "oeel = geemap.requireJS()\n",
    "\n",
    "Map = geemap.Map()\n",
    "\n",
    "github_url = 'https://github.com/eMapR/LT-GEE/blob/master/LandTrendr.js'\n",
    "\n",
    "ltgee = geemap.requireJS(github_url)\n",
    "\n",
    "ltgee.availability   # This command lists all the functions within the LandTrenr Module\n",
    "\n",
    "#ltgee.version   # This command accesses the version function (prints the version of the LandTrendr module"
   ]
  },
  {
   "cell_type": "markdown",
   "id": "484acd26-c655-4081-87b5-756c24f92c7a",
   "metadata": {},
   "source": [
    "## Initiate With a Shapefile\n",
    "\n",
    "This notebook assumes the user has a shapefile saved as an asset on GEE"
   ]
  },
  {
   "cell_type": "code",
   "execution_count": 6,
   "id": "103ce65e-6dc2-4309-9cc8-e7374bf57af3",
   "metadata": {
    "id": "103ce65e-6dc2-4309-9cc8-e7374bf57af3"
   },
   "outputs": [],
   "source": [
    "dataset = 'CAMELS_GB_catchment_boundaries'\n",
    "folder_stem = 'camels_GB/'\n",
    "crs = 'EPSG:4326'\n",
    "fignum = 0\n",
    "RGB_VIS = {'bands':['B3','B2','B1'], 'min':0, 'max':1.5e3}"
   ]
  },
  {
   "cell_type": "code",
   "execution_count": 7,
   "id": "8b13645e-aa12-495a-809f-8cc5b101b038",
   "metadata": {},
   "outputs": [],
   "source": [
    "startYear = 1984 #TODO - user input\n",
    "\n",
    "endYear = 2022 #TODO - user input\n",
    "\n",
    "startDay = '06-20' #TODO - user input\n",
    "\n",
    "endDay = '08-31' #TODO - user input\n",
    "\n",
    "#index = 'NDVI'\n",
    "# maskOptions = ['cloud', 'shadow', 'snow', 'water', 'waterplus','nonforest']\n",
    "\n",
    "maskThese = ['cloud', 'shadow', 'snow', 'water'] #TODO - user input?\n",
    "\n",
    "runParams = { \n",
    "    \"maxSegments\": 6,\n",
    "    \"spikeThreshold\": 0.9,\n",
    "    \"vertexCountOvershoot\": 3,\n",
    "    \"preventOneYearRecovery\": True,\n",
    "    \"recoveryThreshold\": 0.25,\n",
    "    \"pvalThreshold\": 0.05,\n",
    "    \"bestModelProportion\": 0.75,\n",
    "    \"minObservationsNeeded\": 6\n",
    "}\n",
    "\n",
    "list_of_indices = ['NDVI', 'EVI', 'NBR', 'NDMI', 'GNDVI', 'NDBI'] \n",
    "\n",
    "ftv_list = [\n",
    "    'NDVI', # normalized diff vegetation index\n",
    "    'NDFI',\n",
    "    'NDMI',\n",
    "    'EVI', # enhanced vegetation info\n",
    "    'TCB',\n",
    "    'TCW',\n",
    "    'TCG',\n",
    "    'TCA',\n",
    "    'B1',\n",
    "    'B2',\n",
    "    'B3',\n",
    "    'B4', # LS band 4, red\n",
    "    'B5', # LS band 5, near-infrared\n",
    "    'B7'\n",
    "]\n"
   ]
  },
  {
   "cell_type": "markdown",
   "id": "24017ee3-b207-447c-938e-200892cfed46",
   "metadata": {},
   "source": [
    "## The Table Data\n",
    "\n",
    "- Here the table, a vector of catchments, is loaded from the users' assets in earth engine \n",
    "\n",
    "#TODO rewrite to a local .shp\n",
    "\n",
    "- The area is calculated of each shape and ranked per area, assuming that the largest is the most computationally expensive\n",
    "- This is done so that we can iterate from smallest to largest, or the opposite, should any memory issues become apparent."
   ]
  },
  {
   "cell_type": "code",
   "execution_count": 65,
   "id": "2489ce9f-28ce-41d7-94ee-c0b8a0e1477f",
   "metadata": {},
   "outputs": [
    {
     "name": "stdout",
     "output_type": "stream",
     "text": [
      "-- sys_indices (sorted by column: area_m2 > 50e6 , H-->L): 12 indices -- \n",
      " \n",
      "['000000000000000000df', '000000000000000001db', '000000000000000001e5', '000000000000000001ba', '00000000000000000047', '0000000000000000001a', '000000000000000001cf', '00000000000000000131', '00000000000000000094', '00000000000000000098', '000000000000000001d7', '0000000000000000010e']\n",
      "\n",
      "-- first_index: -- \n",
      " \n",
      "000000000000000000df\n",
      "\n",
      "-- filtered_table: -- \n",
      " \n",
      "{'EXPORTED': 'Long', 'ID': 'Float', 'ID_STRING': 'String', 'SOURCE': 'String', 'VERSION': 'String', 'area_m2': 'Float', 'system:index': 'String', 'system_index': 'String'}\n",
      "\n"
     ]
    }
   ],
   "source": [
    "table = ee.FeatureCollection(f\"projects/mohanrahan/assets/{dataset}\")\n",
    "\n",
    "def set_area_m2(feature):\n",
    "    area = feature.geometry().area()\n",
    "    setting = feature.set('area_m2', area)\n",
    "    return setting\n",
    "\n",
    "def set_id(feature):\n",
    "    getting = ee.String(feature.get('system:index'))\n",
    "    setting = feature.set('system_index', getting)\n",
    "    return setting\n",
    "    \n",
    "\n",
    "\n",
    "table_area = table.map(set_area_m2).map(set_id)\n",
    "\n",
    "Filtered_Sorted = table_area.filter(ee.Filter.gt('area_m2', 0)).sort('area_m2', True)  # true ranks from smallest to largest\n",
    "\n",
    "area_reduced = Filtered_Sorted.reduceToImage(['area_m2'],'mean')\n",
    "\n",
    "geom = Filtered_Sorted.first().geometry()\n",
    "\n",
    "sys_index = Filtered_Sorted.aggregate_array('system:index').getInfo()[659:]\n",
    "\n",
    "ind = sys_index[0]\n",
    "\n",
    "feature = Filtered_Sorted.filter(ee.Filter.eq('system:index', ind))\n",
    "\n",
    "filtered_table = feature.getInfo()\n",
    "\n",
    "aoi = feature.geometry()\n",
    "\n",
    "print(f'-- sys_indices (sorted by column: area_m2 > 50e6 , H-->L): {len(sys_index)} indices -- \\n \\n{sys_index}\\n')\n",
    "print(f'-- first_index: -- \\n \\n{ind}\\n')\n",
    "print(f'-- filtered_table: -- \\n \\n{filtered_table[\"columns\"]}\\n')"
   ]
  },
  {
   "cell_type": "code",
   "execution_count": 17,
   "id": "cc8203b3-aab7-4442-bd54-bcdee88b909e",
   "metadata": {},
   "outputs": [],
   "source": [
    "gdf = geemap.ee_to_pandas(Filtered_Sorted)\n",
    "\n",
    "#gdf.to_excel(f'{folder_stem}{dataset}_table.xlsx')"
   ]
  },
  {
   "cell_type": "code",
   "execution_count": 62,
   "id": "fec43c4c-115d-4483-bb47-8c8994832a42",
   "metadata": {},
   "outputs": [],
   "source": [
    "def clip_collection(image: ee.Image)-> ee.Image:\n",
    "    \n",
    "    \"\"\"\n",
    "    reduce the size of the image colelction to be only pixels relevant to the aoi\n",
    "    \"\"\"\n",
    "    return image.clip(aoi).copyProperties(image)\n",
    "\n",
    "def image_band_mean(imageCollection, scale):\n",
    "    \n",
    "    chart_ts_region = chart.Image.series(**{\n",
    "    'imageCollection': imageCollection,\n",
    "    'reducer': ee.Reducer.mean(),\n",
    "    'region': aoi,\n",
    "    'scale': scale,\n",
    "    'band': 'B1_mean',\n",
    "    })\n",
    "    \n",
    "    return chart_ts_region.dataframe\n",
    "\n",
    "def image_band_median(imageCollection, scale):\n",
    "    \n",
    "    chart_ts_region = chart.Image.series(**{\n",
    "    'imageCollection': imageCollection,\n",
    "    'reducer': ee.Reducer.median(),\n",
    "    'region': aoi,\n",
    "    'scale': scale,\n",
    "    'band': 'B1_median',\n",
    "    })\n",
    "    \n",
    "    return chart_ts_region.dataframe\n",
    "\n",
    "def image_band_percentile_5(imageCollection, scale):\n",
    "    \n",
    "    chart_ts_region = chart.Image.series(**{\n",
    "    'imageCollection': imageCollection,\n",
    "    'reducer': ee.Reducer.percentile([5]),\n",
    "    'region': aoi,\n",
    "    'scale': scale,\n",
    "    'band': 'B1_p5',\n",
    "    })\n",
    "    \n",
    "    return chart_ts_region.dataframe\n",
    "\n",
    "def image_band_percentile_95(imageCollection, scale):\n",
    "    \n",
    "    chart_ts_region = chart.Image.series(**{\n",
    "    'imageCollection': imageCollection,\n",
    "    'reducer': ee.Reducer.percentile([95]),\n",
    "    'region': aoi,\n",
    "    'scale': scale,\n",
    "    'band': 'B1_p95',\n",
    "    })\n",
    "    \n",
    "    return chart_ts_region.dataframe\n",
    "\n",
    "\n",
    "\n",
    "def ND_to_bands(image):\n",
    "    \n",
    "    ndvi = image.normalizedDifference(['B4','B3']).rename('ndvi') # NDVI is normalized difference between NIR band4 and red band3\n",
    "\n",
    "    evi = image.expression('2.5 * ((NIR - RED) / (NIR + 6 * RED - 7.5 * BLUE + 1))', {\n",
    "        'NIR': image.select('B5'),\n",
    "        'RED': image.select('B4'),\n",
    "        'BLUE': image.select('B2')}).rename('evi')\n",
    "\n",
    "    nbr = image.normalizedDifference(['B4','B7']).rename('nbr') #NBR is NIR band 4 and SWIR2 band 7\n",
    "\n",
    "    ndmi = image.normalizedDifference(['B4','B5']).rename('ndmi') #NDMI is NIR band 4 and SWIR1 band 5\n",
    "\n",
    "    gndvi = image.normalizedDifference(['B4','B2']).rename('gndvi') #GNDVI is NIR band 4 and green band 2\n",
    "\n",
    "    ndbi = image.normalizedDifference(['B5','B4']).rename('ndbi') #NDBI is SWIR1 B5 and NIR B4\n",
    "\n",
    "    \n",
    "    return image.addBands([ndvi, evi, nbr, ndmi, gndvi, ndbi])\n"
   ]
  },
  {
   "cell_type": "code",
   "execution_count": 63,
   "id": "8bc5fee6-8a0e-4253-8ea5-5cf229ce80f8",
   "metadata": {},
   "outputs": [],
   "source": [
    "def tcTrans(image):\n",
    "    # Calculate tasseled cap transformation\n",
    "    brightness = image.expression(\n",
    "        '(L1 * B1) + (L2 * B2) + (L3 * B3) + (L4 * B4) + (L5 * B5) + (L6 * B6)',\n",
    "        {\n",
    "            'L1': image.select('B1'),\n",
    "            'B1': 0.2043,\n",
    "            'L2': image.select('B2'),\n",
    "            'B2': 0.4158,\n",
    "            'L3': image.select('B3'),\n",
    "            'B3': 0.5524,\n",
    "            'L4': image.select('B4'),\n",
    "            'B4': 0.5741,\n",
    "            'L5': image.select('B5'),\n",
    "            'B5': 0.3124,\n",
    "            'L6': image.select('B7'),\n",
    "            'B6': 0.2303\n",
    "        })\n",
    "    greenness = image.expression(\n",
    "        '(L1 * B1) + (L2 * B2) + (L3 * B3) + (L4 * B4) + (L5 * B5) + (L6 * B6)',\n",
    "        {\n",
    "            'L1': image.select('B1'),\n",
    "            'B1': -0.1603,\n",
    "            'L2': image.select('B2'),\n",
    "            'B2': -0.2819,\n",
    "            'L3': image.select('B3'),\n",
    "            'B3': -0.4934,\n",
    "            'L4': image.select('B4'),\n",
    "            'B4': 0.7940,\n",
    "            'L5': image.select('B5'),\n",
    "            'B5': -0.0002,\n",
    "            'L6': image.select('B7'),\n",
    "            'B6': -0.1446\n",
    "        })\n",
    "    wetness = image.expression(\n",
    "        '(L1 * B1) + (L2 * B2) + (L3 * B3) + (L4 * B4) + (L5 * B5) + (L6 * B6)',\n",
    "        {\n",
    "            'L1': image.select('B1'),\n",
    "            'B1': 0.0315,\n",
    "            'L2': image.select('B2'),\n",
    "            'B2': 0.2021,\n",
    "            'L3': image.select('B3'),\n",
    "            'B3': 0.3102,\n",
    "            'L4': image.select('B4'),\n",
    "            'B4': 0.1594,\n",
    "            'L5': image.select('B5'),\n",
    "            'B5': -0.6806,\n",
    "            'L6': image.select('B7'),\n",
    "            'B6': -0.6109\n",
    "        })\n",
    "\n",
    "    bright = ee.Image(brightness).rename('BRIGHTNESS')\n",
    "    green = ee.Image(greenness).rename('GREENNESS')\n",
    "    wet = ee.Image(wetness).rename('WETNESS')\n",
    "\n",
    "    tasseledCap = ee.Image([bright, green, wet]).copyProperties(image, ['system:time_start'])\n",
    "    return tasseledCap\n"
   ]
  },
  {
   "cell_type": "markdown",
   "id": "b4186efd-fc78-40d9-80ad-4aae12bfc0ff",
   "metadata": {
    "id": "cc5da96b-d9f7-4042-b21c-1aed2be24d8e"
   },
   "source": [
    "## Running LandTrendr over the Shapefile\n",
    "\n",
    "1. The geometries are called by their system indices updating the 'aoi'\n",
    "2. The image collection is generated per shapefile and then returns the decadal mean of each index\n",
    "\n",
    "# Memory limit:\n",
    "(EE limitation, can be expanded with commercial licensing)\n",
    "\n",
    "- Persistent failure on Camels GB on catchment index 000000000000000000df , 659/671, the area of this catchment is 3.57E+09 m2 or 3567.650965 km²\n",
    "- This failure was encountered using a reducer of 1000m\n",
    "\n",
    "# TODO: \n",
    "\n",
    "- The values calculated are the decadal mean of the seasonal medoid\n",
    "- Can we get an idea of variance in the bands "
   ]
  },
  {
   "cell_type": "code",
   "execution_count": 66,
   "id": "d71361a2-9fce-4712-81c6-aa6e6588f96c",
   "metadata": {},
   "outputs": [
    {
     "name": "stdout",
     "output_type": "stream",
     "text": [
      "CAMEL catchment, index: 000000000000000000df\n"
     ]
    },
    {
     "ename": "EEException",
     "evalue": "User memory limit exceeded.",
     "output_type": "error",
     "traceback": [
      "\u001b[1;31m---------------------------------------------------------------------------\u001b[0m",
      "\u001b[1;31mHttpError\u001b[0m                                 Traceback (most recent call last)",
      "File \u001b[1;32m~\\anaconda3\\envs\\BPD4a\\lib\\site-packages\\ee\\data.py:328\u001b[0m, in \u001b[0;36m_execute_cloud_call\u001b[1;34m(call, num_retries)\u001b[0m\n\u001b[0;32m    327\u001b[0m \u001b[38;5;28;01mtry\u001b[39;00m:\n\u001b[1;32m--> 328\u001b[0m   \u001b[38;5;28;01mreturn\u001b[39;00m \u001b[43mcall\u001b[49m\u001b[38;5;241;43m.\u001b[39;49m\u001b[43mexecute\u001b[49m\u001b[43m(\u001b[49m\u001b[43mnum_retries\u001b[49m\u001b[38;5;241;43m=\u001b[39;49m\u001b[43mnum_retries\u001b[49m\u001b[43m)\u001b[49m\n\u001b[0;32m    329\u001b[0m \u001b[38;5;28;01mexcept\u001b[39;00m googleapiclient\u001b[38;5;241m.\u001b[39merrors\u001b[38;5;241m.\u001b[39mHttpError \u001b[38;5;28;01mas\u001b[39;00m e:\n",
      "File \u001b[1;32m~\\anaconda3\\envs\\BPD4a\\lib\\site-packages\\googleapiclient\\_helpers.py:134\u001b[0m, in \u001b[0;36mpositional.<locals>.positional_decorator.<locals>.positional_wrapper\u001b[1;34m(*args, **kwargs)\u001b[0m\n\u001b[0;32m    133\u001b[0m         logger\u001b[38;5;241m.\u001b[39mwarning(message)\n\u001b[1;32m--> 134\u001b[0m \u001b[38;5;28;01mreturn\u001b[39;00m wrapped(\u001b[38;5;241m*\u001b[39margs, \u001b[38;5;241m*\u001b[39m\u001b[38;5;241m*\u001b[39mkwargs)\n",
      "File \u001b[1;32m~\\anaconda3\\envs\\BPD4a\\lib\\site-packages\\googleapiclient\\http.py:915\u001b[0m, in \u001b[0;36mHttpRequest.execute\u001b[1;34m(self, http, num_retries)\u001b[0m\n\u001b[0;32m    914\u001b[0m \u001b[38;5;28;01mif\u001b[39;00m resp\u001b[38;5;241m.\u001b[39mstatus \u001b[38;5;241m>\u001b[39m\u001b[38;5;241m=\u001b[39m \u001b[38;5;241m300\u001b[39m:\n\u001b[1;32m--> 915\u001b[0m     \u001b[38;5;28;01mraise\u001b[39;00m HttpError(resp, content, uri\u001b[38;5;241m=\u001b[39m\u001b[38;5;28mself\u001b[39m\u001b[38;5;241m.\u001b[39muri)\n\u001b[0;32m    916\u001b[0m \u001b[38;5;28;01mreturn\u001b[39;00m \u001b[38;5;28mself\u001b[39m\u001b[38;5;241m.\u001b[39mpostproc(resp, content)\n",
      "\u001b[1;31mHttpError\u001b[0m: <HttpError 400 when requesting https://earthengine.googleapis.com/v1alpha/projects/earthengine-legacy/value:compute?prettyPrint=false&alt=json returned \"User memory limit exceeded.\". Details: \"User memory limit exceeded.\">",
      "\nDuring handling of the above exception, another exception occurred:\n",
      "\u001b[1;31mEEException\u001b[0m                               Traceback (most recent call last)",
      "Cell \u001b[1;32mIn [66], line 25\u001b[0m\n\u001b[0;32m     21\u001b[0m ND_col \u001b[38;5;241m=\u001b[39m imcol\u001b[38;5;241m.\u001b[39mmap(ND_to_bands)\n\u001b[0;32m     23\u001b[0m TC_col \u001b[38;5;241m=\u001b[39m imcol\u001b[38;5;241m.\u001b[39mmap(tcTrans)\n\u001b[1;32m---> 25\u001b[0m df_mean_ND \u001b[38;5;241m=\u001b[39m \u001b[43mimage_band_mean\u001b[49m\u001b[43m(\u001b[49m\u001b[43mND_col\u001b[49m\u001b[43m,\u001b[49m\u001b[43m \u001b[49m\u001b[43mscale\u001b[49m\u001b[43m)\u001b[49m\n\u001b[0;32m     27\u001b[0m df_mean_TC \u001b[38;5;241m=\u001b[39m image_band_mean(TC_col, scale)\n\u001b[0;32m     29\u001b[0m df_mean_ND\u001b[38;5;241m.\u001b[39mreset_index()\n",
      "Cell \u001b[1;32mIn [62], line 10\u001b[0m, in \u001b[0;36mimage_band_mean\u001b[1;34m(imageCollection, scale)\u001b[0m\n\u001b[0;32m      8\u001b[0m \u001b[38;5;28;01mdef\u001b[39;00m \u001b[38;5;21mimage_band_mean\u001b[39m(imageCollection, scale):\n\u001b[1;32m---> 10\u001b[0m     chart_ts_region \u001b[38;5;241m=\u001b[39m chart\u001b[38;5;241m.\u001b[39mImage\u001b[38;5;241m.\u001b[39mseries(\u001b[38;5;241m*\u001b[39m\u001b[38;5;241m*\u001b[39m{\n\u001b[0;32m     11\u001b[0m     \u001b[38;5;124m'\u001b[39m\u001b[38;5;124mimageCollection\u001b[39m\u001b[38;5;124m'\u001b[39m: imageCollection,\n\u001b[0;32m     12\u001b[0m     \u001b[38;5;124m'\u001b[39m\u001b[38;5;124mreducer\u001b[39m\u001b[38;5;124m'\u001b[39m: ee\u001b[38;5;241m.\u001b[39mReducer\u001b[38;5;241m.\u001b[39mmean(),\n\u001b[0;32m     13\u001b[0m     \u001b[38;5;124m'\u001b[39m\u001b[38;5;124mregion\u001b[39m\u001b[38;5;124m'\u001b[39m: aoi,\n\u001b[0;32m     14\u001b[0m     \u001b[38;5;124m'\u001b[39m\u001b[38;5;124mscale\u001b[39m\u001b[38;5;124m'\u001b[39m: scale,\n\u001b[0;32m     15\u001b[0m     \u001b[38;5;124m'\u001b[39m\u001b[38;5;124mband\u001b[39m\u001b[38;5;124m'\u001b[39m: \u001b[38;5;124m'\u001b[39m\u001b[38;5;124mB1_mean\u001b[39m\u001b[38;5;124m'\u001b[39m,\n\u001b[0;32m     16\u001b[0m     })\n\u001b[0;32m     18\u001b[0m     \u001b[38;5;28;01mreturn\u001b[39;00m chart_ts_region\u001b[38;5;241m.\u001b[39mdataframe\n",
      "File \u001b[1;32m~\\anaconda3\\envs\\BPD4a\\lib\\site-packages\\ipygee\\chart.py:229\u001b[0m, in \u001b[0;36mImage.series\u001b[1;34m(imageCollection, region, reducer, scale, xProperty, bands, label_bands, properties, label_properties, **kwargs)\u001b[0m\n\u001b[0;32m    227\u001b[0m \u001b[38;5;66;03m# first image (for getting bands and properties)\u001b[39;00m\n\u001b[0;32m    228\u001b[0m first \u001b[38;5;241m=\u001b[39m ee\u001b[38;5;241m.\u001b[39mImage(imageCollection\u001b[38;5;241m.\u001b[39mfirst())\n\u001b[1;32m--> 229\u001b[0m allbands \u001b[38;5;241m=\u001b[39m \u001b[43mfirst\u001b[49m\u001b[38;5;241;43m.\u001b[39;49m\u001b[43mbandNames\u001b[49m\u001b[43m(\u001b[49m\u001b[43m)\u001b[49m\u001b[38;5;241;43m.\u001b[39;49m\u001b[43mgetInfo\u001b[49m\u001b[43m(\u001b[49m\u001b[43m)\u001b[49m\n\u001b[0;32m    231\u001b[0m \u001b[38;5;66;03m# scale\u001b[39;00m\n\u001b[0;32m    232\u001b[0m \u001b[38;5;28;01mif\u001b[39;00m \u001b[38;5;129;01mnot\u001b[39;00m scale:\n",
      "File \u001b[1;32m~\\anaconda3\\envs\\BPD4a\\lib\\site-packages\\ee\\computedobject.py:98\u001b[0m, in \u001b[0;36mComputedObject.getInfo\u001b[1;34m(self)\u001b[0m\n\u001b[0;32m     92\u001b[0m \u001b[38;5;28;01mdef\u001b[39;00m \u001b[38;5;21mgetInfo\u001b[39m(\u001b[38;5;28mself\u001b[39m):\n\u001b[0;32m     93\u001b[0m   \u001b[38;5;124;03m\"\"\"Fetch and return information about this object.\u001b[39;00m\n\u001b[0;32m     94\u001b[0m \n\u001b[0;32m     95\u001b[0m \u001b[38;5;124;03m  Returns:\u001b[39;00m\n\u001b[0;32m     96\u001b[0m \u001b[38;5;124;03m    The object can evaluate to anything.\u001b[39;00m\n\u001b[0;32m     97\u001b[0m \u001b[38;5;124;03m  \"\"\"\u001b[39;00m\n\u001b[1;32m---> 98\u001b[0m   \u001b[38;5;28;01mreturn\u001b[39;00m \u001b[43mdata\u001b[49m\u001b[38;5;241;43m.\u001b[39;49m\u001b[43mcomputeValue\u001b[49m\u001b[43m(\u001b[49m\u001b[38;5;28;43mself\u001b[39;49m\u001b[43m)\u001b[49m\n",
      "File \u001b[1;32m~\\anaconda3\\envs\\BPD4a\\lib\\site-packages\\ee\\data.py:738\u001b[0m, in \u001b[0;36mcomputeValue\u001b[1;34m(obj)\u001b[0m\n\u001b[0;32m    735\u001b[0m \u001b[38;5;28;01mif\u001b[39;00m workload_tag:\n\u001b[0;32m    736\u001b[0m   body[\u001b[38;5;124m'\u001b[39m\u001b[38;5;124mworkloadTag\u001b[39m\u001b[38;5;124m'\u001b[39m] \u001b[38;5;241m=\u001b[39m workload_tag\n\u001b[1;32m--> 738\u001b[0m \u001b[38;5;28;01mreturn\u001b[39;00m \u001b[43m_execute_cloud_call\u001b[49m\u001b[43m(\u001b[49m\n\u001b[0;32m    739\u001b[0m \u001b[43m    \u001b[49m\u001b[43m_get_cloud_api_resource\u001b[49m\u001b[43m(\u001b[49m\u001b[43m)\u001b[49m\u001b[38;5;241;43m.\u001b[39;49m\u001b[43mprojects\u001b[49m\u001b[43m(\u001b[49m\u001b[43m)\u001b[49m\u001b[38;5;241;43m.\u001b[39;49m\u001b[43mvalue\u001b[49m\u001b[43m(\u001b[49m\u001b[43m)\u001b[49m\u001b[38;5;241;43m.\u001b[39;49m\u001b[43mcompute\u001b[49m\u001b[43m(\u001b[49m\n\u001b[0;32m    740\u001b[0m \u001b[43m        \u001b[49m\u001b[43mbody\u001b[49m\u001b[38;5;241;43m=\u001b[39;49m\u001b[43mbody\u001b[49m\u001b[43m,\u001b[49m\n\u001b[0;32m    741\u001b[0m \u001b[43m        \u001b[49m\u001b[43mproject\u001b[49m\u001b[38;5;241;43m=\u001b[39;49m\u001b[43m_get_projects_path\u001b[49m\u001b[43m(\u001b[49m\u001b[43m)\u001b[49m\u001b[43m,\u001b[49m\n\u001b[0;32m    742\u001b[0m \u001b[43m        \u001b[49m\u001b[43mprettyPrint\u001b[49m\u001b[38;5;241;43m=\u001b[39;49m\u001b[38;5;28;43;01mFalse\u001b[39;49;00m\u001b[43m)\u001b[49m\u001b[43m)\u001b[49m[\u001b[38;5;124m'\u001b[39m\u001b[38;5;124mresult\u001b[39m\u001b[38;5;124m'\u001b[39m]\n",
      "File \u001b[1;32m~\\anaconda3\\envs\\BPD4a\\lib\\site-packages\\ee\\data.py:330\u001b[0m, in \u001b[0;36m_execute_cloud_call\u001b[1;34m(call, num_retries)\u001b[0m\n\u001b[0;32m    328\u001b[0m   \u001b[38;5;28;01mreturn\u001b[39;00m call\u001b[38;5;241m.\u001b[39mexecute(num_retries\u001b[38;5;241m=\u001b[39mnum_retries)\n\u001b[0;32m    329\u001b[0m \u001b[38;5;28;01mexcept\u001b[39;00m googleapiclient\u001b[38;5;241m.\u001b[39merrors\u001b[38;5;241m.\u001b[39mHttpError \u001b[38;5;28;01mas\u001b[39;00m e:\n\u001b[1;32m--> 330\u001b[0m   \u001b[38;5;28;01mraise\u001b[39;00m _translate_cloud_exception(e)\n",
      "\u001b[1;31mEEException\u001b[0m: User memory limit exceeded."
     ]
    }
   ],
   "source": [
    "imcol = 0\n",
    "\n",
    "scale = 1000 # define the pixel size for reducing, in meters, initially high to reduce comp time\n",
    "\n",
    "for ind in sys_index:\n",
    "    \n",
    "    geom_name = ind[16:]\n",
    "    \n",
    "    dataset_name = dataset[0:5]\n",
    "    \n",
    "    print(f'{dataset_name} catchment, index: {ind}')\n",
    "    \n",
    "    aoi = Filtered_Sorted.filter(ee.Filter.eq('system:index', ind))\n",
    "\n",
    "    \"\"\"\n",
    "    the landsat surface reflectance collection builds a combined landsat collection, harmonized, clipped and reduced to medoid\n",
    "    \"\"\"\n",
    "    \n",
    "    imcol = ltgee.buildSRcollection(startYear, endYear, startDay, endDay, aoi, maskThese).map(clip_collection)\n",
    "    \n",
    "    ND_col = imcol.map(ND_to_bands)\n",
    "    \n",
    "    TC_col = imcol.map(tcTrans)\n",
    "    \n",
    "    df_mean_ND = image_band_mean(ND_col, scale)\n",
    "    \n",
    "    df_mean_TC = image_band_mean(TC_col, scale)\n",
    "    \n",
    "    df_mean_ND.reset_index()\n",
    "    \n",
    "    df_mean_TC.reset_index()\n",
    "\n",
    "    joined = df_mean_ND.join(df_mean_TC, how='inner')\n",
    "    \n",
    "    decadal = joined.rolling(10).mean()\n",
    "\n",
    "    decadal.to_excel(f'{folder_stem}/{ind}_decadal.xlsx')\n",
    "    \n",
    "    print(f'index: {ind} done')\n",
    "    \n"
   ]
  },
  {
   "cell_type": "markdown",
   "id": "1f7d9be1-b27d-4477-b487-9e5fa2f12440",
   "metadata": {},
   "source": [
    "## Trend analysis per band\n",
    "\n",
    "- can we look at median band collection and percentile bounds, reduced to a per kilometer scale"
   ]
  },
  {
   "cell_type": "code",
   "execution_count": null,
   "id": "7f69108d-1a05-4183-ba4b-bd581207ee01",
   "metadata": {},
   "outputs": [],
   "source": [
    "stats_LS = geemap.image_stats(LS, aoi, scale=scale)\n",
    "LS_col_stats = stats_LS.getInfo()\n",
    "print(LS_col_stats)"
   ]
  },
  {
   "cell_type": "markdown",
   "id": "a2eb4175-7872-4a76-9798-a61539eece61",
   "metadata": {},
   "source": [
    "***\n",
    "<a id=\"Land_Cover\"></a>\n",
    "## Land Cover "
   ]
  },
  {
   "cell_type": "markdown",
   "id": "5b3f87f6-598d-40dc-b6a1-bb1b0bc4ea1c",
   "metadata": {},
   "source": [
    "[Linking Reference to Land Cover](#Land_cover)"
   ]
  },
  {
   "cell_type": "code",
   "execution_count": 10,
   "id": "a2e34431-17b3-4643-9f87-ff559a28ae47",
   "metadata": {},
   "outputs": [
    {
     "ename": "NameError",
     "evalue": "name 'aoi' is not defined",
     "output_type": "error",
     "traceback": [
      "\u001b[1;31m---------------------------------------------------------------------------\u001b[0m",
      "\u001b[1;31mNameError\u001b[0m                                 Traceback (most recent call last)",
      "Cell \u001b[1;32mIn [10], line 3\u001b[0m\n\u001b[0;32m      1\u001b[0m Map \u001b[38;5;241m=\u001b[39m geemap\u001b[38;5;241m.\u001b[39mMap()\n\u001b[0;32m      2\u001b[0m Map\u001b[38;5;241m.\u001b[39madd_basemap(\u001b[38;5;124m'\u001b[39m\u001b[38;5;124mHYBRID\u001b[39m\u001b[38;5;124m'\u001b[39m)\n\u001b[1;32m----> 3\u001b[0m Map\u001b[38;5;241m.\u001b[39maddLayer(\u001b[43maoi\u001b[49m, {}, \u001b[38;5;124m'\u001b[39m\u001b[38;5;124mROI\u001b[39m\u001b[38;5;124m'\u001b[39m)\n\u001b[0;32m      4\u001b[0m Map\u001b[38;5;241m.\u001b[39mcenterObject(aoi, \u001b[38;5;241m12\u001b[39m)\n\u001b[0;32m      5\u001b[0m Map\n",
      "\u001b[1;31mNameError\u001b[0m: name 'aoi' is not defined"
     ]
    }
   ],
   "source": [
    "Map = geemap.Map()\n",
    "Map.add_basemap('HYBRID')\n",
    "Map.addLayer(aoi, {}, 'ROI')\n",
    "Map.centerObject(aoi, 12)\n",
    "Map"
   ]
  },
  {
   "cell_type": "code",
   "execution_count": 7,
   "id": "ec2ea32e-6ee1-4a09-89cd-1902f4ff37cb",
   "metadata": {},
   "outputs": [
    {
     "data": {
      "application/vnd.jupyter.widget-view+json": {
       "model_id": "ac2064c88055476aaa01d7c6d8840e54",
       "version_major": 2,
       "version_minor": 0
      },
      "text/plain": [
       "Map(center=[20, 0], controls=(WidgetControl(options=['position', 'transparent_bg'], widget=HBox(children=(Togg…"
      ]
     },
     "execution_count": 7,
     "metadata": {},
     "output_type": "execute_result"
    }
   ],
   "source": []
  },
  {
   "cell_type": "code",
   "execution_count": null,
   "id": "c0e13129-849a-48d0-8030-f6b19247b481",
   "metadata": {},
   "outputs": [],
   "source": []
  },
  {
   "cell_type": "code",
   "execution_count": null,
   "id": "fca60256-f953-491f-9967-3a4217ae2ec0",
   "metadata": {},
   "outputs": [],
   "source": []
  }
 ],
 "metadata": {
  "colab": {
   "provenance": []
  },
  "kernelspec": {
   "display_name": "Python 3 (ipykernel)",
   "language": "python",
   "name": "python3"
  },
  "language_info": {
   "codemirror_mode": {
    "name": "ipython",
    "version": 3
   },
   "file_extension": ".py",
   "mimetype": "text/x-python",
   "name": "python",
   "nbconvert_exporter": "python",
   "pygments_lexer": "ipython3",
   "version": "3.10.6"
  }
 },
 "nbformat": 4,
 "nbformat_minor": 5
}
